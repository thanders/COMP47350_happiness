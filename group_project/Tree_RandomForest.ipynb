{
 "cells": [
  {
   "cell_type": "markdown",
   "metadata": {},
   "source": [
    "# Tree & RandomForest Model (Jiali Yu, Peng Ye)"
   ]
  },
  {
   "cell_type": "code",
   "execution_count": 1,
   "metadata": {},
   "outputs": [
    {
     "name": "stderr",
     "output_type": "stream",
     "text": [
      "/Users/yepeng/anaconda3/lib/python3.6/site-packages/sklearn/cross_validation.py:41: DeprecationWarning: This module was deprecated in version 0.18 in favor of the model_selection module into which all the refactored classes and functions are moved. Also note that the interface of the new CV iterators are different from that of this module. This module will be removed in 0.20.\n",
      "  \"This module will be removed in 0.20.\", DeprecationWarning)\n"
     ]
    }
   ],
   "source": [
    "# Imports.\n",
    "import pandas as pd\n",
    "import matplotlib.pyplot as plt\n",
    "import numpy as np\n",
    "import seaborn as sns\n",
    "from matplotlib.backends.backend_pdf import PdfPages\n",
    "from patsy import dmatrices\n",
    "from sklearn.linear_model import LogisticRegression\n",
    "from sklearn.cross_validation import train_test_split\n",
    "from sklearn import metrics\n",
    "from sklearn import tree\n",
    "from sklearn.cross_validation import cross_val_score\n",
    "from sklearn.tree import export_graphviz\n",
    "from sklearn.tree import DecisionTreeClassifier\n",
    "from sklearn.ensemble import RandomForestClassifier"
   ]
  },
  {
   "cell_type": "code",
   "execution_count": 2,
   "metadata": {
    "collapsed": true
   },
   "outputs": [],
   "source": [
    "# Read csv file into a dataframe. We use the output dataframe file produce\n",
    "# by previous model training (Logistic Regression). Thus 'happines_class' has \n",
    "# already been classfied with class=0 (happiness_score <= 5.0) and class=1\n",
    "# (happiness_score > 5.0)\n",
    "df = pd.read_csv('processed_data/happiness_class_data.csv' , keep_default_na=True, sep=',\\s+', delimiter=',', skipinitialspace=True)"
   ]
  },
  {
   "cell_type": "code",
   "execution_count": 3,
   "metadata": {},
   "outputs": [
    {
     "data": {
      "text/html": [
       "<div>\n",
       "<style>\n",
       "    .dataframe thead tr:only-child th {\n",
       "        text-align: right;\n",
       "    }\n",
       "\n",
       "    .dataframe thead th {\n",
       "        text-align: left;\n",
       "    }\n",
       "\n",
       "    .dataframe tbody tr th {\n",
       "        vertical-align: top;\n",
       "    }\n",
       "</style>\n",
       "<table border=\"1\" class=\"dataframe\">\n",
       "  <thead>\n",
       "    <tr style=\"text-align: right;\">\n",
       "      <th></th>\n",
       "      <th>happiness_class</th>\n",
       "      <th>social_support</th>\n",
       "      <th>healthy_life_exp_birth</th>\n",
       "      <th>pos_affect</th>\n",
       "      <th>dem_quality</th>\n",
       "      <th>delivery_quality</th>\n",
       "      <th>life_exp_60</th>\n",
       "      <th>infant_mortality</th>\n",
       "    </tr>\n",
       "  </thead>\n",
       "  <tbody>\n",
       "    <tr>\n",
       "      <th>0</th>\n",
       "      <td>0.0</td>\n",
       "      <td>0.450662</td>\n",
       "      <td>49.209663</td>\n",
       "      <td>0.517637</td>\n",
       "      <td>-1.929690</td>\n",
       "      <td>-1.655084</td>\n",
       "      <td>15.6</td>\n",
       "      <td>70.8</td>\n",
       "    </tr>\n",
       "    <tr>\n",
       "      <th>1</th>\n",
       "      <td>0.0</td>\n",
       "      <td>0.552308</td>\n",
       "      <td>49.624432</td>\n",
       "      <td>0.583926</td>\n",
       "      <td>-2.044093</td>\n",
       "      <td>-1.635025</td>\n",
       "      <td>15.7</td>\n",
       "      <td>68.2</td>\n",
       "    </tr>\n",
       "    <tr>\n",
       "      <th>2</th>\n",
       "      <td>0.0</td>\n",
       "      <td>0.539075</td>\n",
       "      <td>50.008961</td>\n",
       "      <td>0.618265</td>\n",
       "      <td>-1.991810</td>\n",
       "      <td>-1.617176</td>\n",
       "      <td>15.7</td>\n",
       "      <td>65.7</td>\n",
       "    </tr>\n",
       "    <tr>\n",
       "      <th>3</th>\n",
       "      <td>0.0</td>\n",
       "      <td>0.521104</td>\n",
       "      <td>50.367298</td>\n",
       "      <td>0.611387</td>\n",
       "      <td>-1.919018</td>\n",
       "      <td>-1.616221</td>\n",
       "      <td>15.8</td>\n",
       "      <td>63.3</td>\n",
       "    </tr>\n",
       "    <tr>\n",
       "      <th>4</th>\n",
       "      <td>0.0</td>\n",
       "      <td>0.520637</td>\n",
       "      <td>50.709263</td>\n",
       "      <td>0.710385</td>\n",
       "      <td>-1.842996</td>\n",
       "      <td>-1.404078</td>\n",
       "      <td>15.8</td>\n",
       "      <td>61.0</td>\n",
       "    </tr>\n",
       "  </tbody>\n",
       "</table>\n",
       "</div>"
      ],
      "text/plain": [
       "   happiness_class  social_support  healthy_life_exp_birth  pos_affect  \\\n",
       "0              0.0        0.450662               49.209663    0.517637   \n",
       "1              0.0        0.552308               49.624432    0.583926   \n",
       "2              0.0        0.539075               50.008961    0.618265   \n",
       "3              0.0        0.521104               50.367298    0.611387   \n",
       "4              0.0        0.520637               50.709263    0.710385   \n",
       "\n",
       "   dem_quality  delivery_quality  life_exp_60  infant_mortality  \n",
       "0    -1.929690         -1.655084         15.6              70.8  \n",
       "1    -2.044093         -1.635025         15.7              68.2  \n",
       "2    -1.991810         -1.617176         15.7              65.7  \n",
       "3    -1.919018         -1.616221         15.8              63.3  \n",
       "4    -1.842996         -1.404078         15.8              61.0  "
      ]
     },
     "execution_count": 3,
     "metadata": {},
     "output_type": "execute_result"
    }
   ],
   "source": [
    "df.head()"
   ]
  },
  {
   "cell_type": "code",
   "execution_count": 4,
   "metadata": {},
   "outputs": [
    {
     "data": {
      "text/plain": [
       "happiness_class           float64\n",
       "social_support            float64\n",
       "healthy_life_exp_birth    float64\n",
       "pos_affect                float64\n",
       "dem_quality               float64\n",
       "delivery_quality          float64\n",
       "life_exp_60               float64\n",
       "infant_mortality          float64\n",
       "dtype: object"
      ]
     },
     "execution_count": 4,
     "metadata": {},
     "output_type": "execute_result"
    }
   ],
   "source": [
    "# Print the feature types in our dataset.\n",
    "df.dtypes"
   ]
  },
  {
   "cell_type": "markdown",
   "metadata": {},
   "source": [
    "# Decision Tree Classifier\n",
    "## Train a decision tree classifier model"
   ]
  },
  {
   "cell_type": "code",
   "execution_count": 5,
   "metadata": {
    "collapsed": true
   },
   "outputs": [],
   "source": [
    "# X Descriptive features (6 continous features)\n",
    "# y Target feature (happiness_class)\n",
    "X = pd.concat([df[['social_support',\n",
    "                   'healthy_life_exp_birth',\n",
    "                   'pos_affect', 'dem_quality',\n",
    "                   'delivery_quality',\n",
    "                   'life_exp_60',\n",
    "                   'infant_mortality']]], axis=1)\n",
    "y = df['happiness_class']\n",
    "X = X.fillna(X.mean())\n",
    "y = y.fillna(y.mean())"
   ]
  },
  {
   "cell_type": "code",
   "execution_count": 6,
   "metadata": {},
   "outputs": [
    {
     "name": "stdout",
     "output_type": "stream",
     "text": [
      "DecisionTreeClassifier(class_weight=None, criterion='gini', max_depth=5,\n",
      "            max_features=None, max_leaf_nodes=None,\n",
      "            min_impurity_decrease=0.0, min_impurity_split=None,\n",
      "            min_samples_leaf=1, min_samples_split=2,\n",
      "            min_weight_fraction_leaf=0.0, presort=False, random_state=1,\n",
      "            splitter='best')\n"
     ]
    }
   ],
   "source": [
    "# Instantiate sklearn estimator, fit with training set.\n",
    "# Train a classification tree with max_depth=5 as the init example on all data.\n",
    "DecisionTree = tree.DecisionTreeClassifier(max_depth=5, random_state=1)\n",
    "DecisionTree.fit(X, y)\n",
    "print(DecisionTree)"
   ]
  },
  {
   "cell_type": "code",
   "execution_count": 7,
   "metadata": {},
   "outputs": [
    {
     "data": {
      "text/plain": [
       "sklearn.tree.tree.DecisionTreeClassifier"
      ]
     },
     "execution_count": 7,
     "metadata": {},
     "output_type": "execute_result"
    }
   ],
   "source": [
    "# Check the type of this object\n",
    "type(DecisionTree)"
   ]
  },
  {
   "cell_type": "markdown",
   "metadata": {},
   "source": [
    "## Feature importance from the DTC model"
   ]
  },
  {
   "cell_type": "code",
   "execution_count": 8,
   "metadata": {},
   "outputs": [
    {
     "data": {
      "text/html": [
       "<div>\n",
       "<style>\n",
       "    .dataframe thead tr:only-child th {\n",
       "        text-align: right;\n",
       "    }\n",
       "\n",
       "    .dataframe thead th {\n",
       "        text-align: left;\n",
       "    }\n",
       "\n",
       "    .dataframe tbody tr th {\n",
       "        vertical-align: top;\n",
       "    }\n",
       "</style>\n",
       "<table border=\"1\" class=\"dataframe\">\n",
       "  <thead>\n",
       "    <tr style=\"text-align: right;\">\n",
       "      <th></th>\n",
       "      <th>feature</th>\n",
       "      <th>importance</th>\n",
       "    </tr>\n",
       "  </thead>\n",
       "  <tbody>\n",
       "    <tr>\n",
       "      <th>0</th>\n",
       "      <td>social_support</td>\n",
       "      <td>0.552771</td>\n",
       "    </tr>\n",
       "    <tr>\n",
       "      <th>1</th>\n",
       "      <td>healthy_life_exp_birth</td>\n",
       "      <td>0.137231</td>\n",
       "    </tr>\n",
       "    <tr>\n",
       "      <th>2</th>\n",
       "      <td>pos_affect</td>\n",
       "      <td>0.069865</td>\n",
       "    </tr>\n",
       "    <tr>\n",
       "      <th>3</th>\n",
       "      <td>dem_quality</td>\n",
       "      <td>0.021443</td>\n",
       "    </tr>\n",
       "    <tr>\n",
       "      <th>4</th>\n",
       "      <td>delivery_quality</td>\n",
       "      <td>0.053155</td>\n",
       "    </tr>\n",
       "    <tr>\n",
       "      <th>5</th>\n",
       "      <td>life_exp_60</td>\n",
       "      <td>0.117741</td>\n",
       "    </tr>\n",
       "    <tr>\n",
       "      <th>6</th>\n",
       "      <td>infant_mortality</td>\n",
       "      <td>0.047794</td>\n",
       "    </tr>\n",
       "  </tbody>\n",
       "</table>\n",
       "</div>"
      ],
      "text/plain": [
       "                  feature  importance\n",
       "0          social_support    0.552771\n",
       "1  healthy_life_exp_birth    0.137231\n",
       "2              pos_affect    0.069865\n",
       "3             dem_quality    0.021443\n",
       "4        delivery_quality    0.053155\n",
       "5             life_exp_60    0.117741\n",
       "6        infant_mortality    0.047794"
      ]
     },
     "execution_count": 8,
     "metadata": {},
     "output_type": "execute_result"
    }
   ],
   "source": [
    "# Compute the importance of each feature based on the trained decision tree classifier\n",
    "# We can see that social_support (0.629885)is most important on the trained decision tree classifier \n",
    "pd.DataFrame({'feature': X.columns, 'importance': DecisionTree.feature_importances_})"
   ]
  },
  {
   "cell_type": "code",
   "execution_count": 9,
   "metadata": {
    "collapsed": true
   },
   "outputs": [],
   "source": [
    "with open(\"happiness.dot\", 'w') as f:\n",
    "    f = export_graphviz(DecisionTree, out_file=f, feature_names=X.columns)"
   ]
  },
  {
   "cell_type": "code",
   "execution_count": 10,
   "metadata": {
    "collapsed": true
   },
   "outputs": [],
   "source": [
    "# Alternative to print a tree in text format\n",
    "import operator\n",
    "\n",
    "def tree_print(Classifier, X):\n",
    "    tlevel = _tree_rprint('', Classifier, X.columns, Classifier.classes_)\n",
    "    print('<',end='')\n",
    "    for i in range(3*tlevel - 2):\n",
    "        print('-',end='')\n",
    "    print('>')\n",
    "    print('Tree Depth: ',tlevel)\n",
    "\n",
    "def _tree_rprint(kword, Classifier, features, labels, node_index=0, tlevel_index=0):\n",
    "    # Note: The DecisionTreeClassifier uses the Tree structure defined in:\n",
    "    # \t\tgithub.com/scikit-learn/scikit-learn/blob/master/sklearn/tree/_tree.pyx\n",
    "    #       it is an array based tree implementation:\n",
    "\n",
    "    # indent the nodes according to their tree level\n",
    "    for i in range(tlevel_index):\n",
    "        print('  |',end='')\n",
    "\n",
    "\t#  TODO: the following should use the TREE_LEAF constant defined in _tree.pyx\n",
    "\t#        instead of -1, not quite sure how to get at it from the tree user level\n",
    "    if Classifier.tree_.children_left[node_index] == -1:  # indicates leaf\n",
    "        print(kword, end=' ' if kword else '')\n",
    "        # get the majority label\n",
    "        count_list = Classifier.tree_.value[node_index, 0]\n",
    "        max_index, max_value = max(enumerate(count_list), key=operator.itemgetter(1))\n",
    "        max_label = labels[max_index]\n",
    "        print(max_label)\n",
    "        return tlevel_index\n",
    "    \n",
    "    else:\n",
    "        # compute and print node label\n",
    "        feature = features[Classifier.tree_.feature[node_index]]\n",
    "        threshold = Classifier.tree_.threshold[node_index]\n",
    "        print(kword, end=' ' if kword else '')\n",
    "        print('if {} =< {}: '.format(feature, threshold))\n",
    "        # recurse down the children\n",
    "        left_index = Classifier.tree_.children_left[node_index]\n",
    "        right_index = Classifier.tree_.children_right[node_index]\n",
    "        ltlevel_index = _tree_rprint('then', Classifier, features, labels, left_index, tlevel_index+1)\n",
    "        rtlevel_index = _tree_rprint('else', Classifier, features, labels, right_index, tlevel_index+1)\n",
    "        # return the maximum depth of either one of the children\n",
    "        return max(ltlevel_index,rtlevel_index)"
   ]
  },
  {
   "cell_type": "code",
   "execution_count": 11,
   "metadata": {},
   "outputs": [
    {
     "name": "stdout",
     "output_type": "stream",
     "text": [
      "if social_support =< 0.8618887662887573: \n",
      "  |then if life_exp_60 =< 20.75: \n",
      "  |  |then if delivery_quality =< 0.8227246403694153: \n",
      "  |  |  |then if social_support =< 0.7908226251602173: \n",
      "  |  |  |  |then if delivery_quality =< -2.1355767250061035: \n",
      "  |  |  |  |  |then 1.0\n",
      "  |  |  |  |  |else 0.0\n",
      "  |  |  |  |else if infant_mortality =< 24.427440643310547: \n",
      "  |  |  |  |  |then 0.0\n",
      "  |  |  |  |  |else 0.0\n",
      "  |  |  |else if healthy_life_exp_birth =< 74.16291046142578: \n",
      "  |  |  |  |then 1.0\n",
      "  |  |  |  |else if social_support =< 0.8516873121261597: \n",
      "  |  |  |  |  |then 0.0\n",
      "  |  |  |  |  |else 1.0\n",
      "  |  |else if pos_affect =< 0.7344286441802979: \n",
      "  |  |  |then if dem_quality =< -0.04730721563100815: \n",
      "  |  |  |  |then if social_support =< 0.8142119646072388: \n",
      "  |  |  |  |  |then 0.0\n",
      "  |  |  |  |  |else 1.0\n",
      "  |  |  |  |else if delivery_quality =< 0.38655751943588257: \n",
      "  |  |  |  |  |then 0.0\n",
      "  |  |  |  |  |else 0.0\n",
      "  |  |  |else if infant_mortality =< 15.149999618530273: \n",
      "  |  |  |  |then if social_support =< 0.7501683235168457: \n",
      "  |  |  |  |  |then 0.0\n",
      "  |  |  |  |  |else 1.0\n",
      "  |  |  |  |else if pos_affect =< 0.7939754128456116: \n",
      "  |  |  |  |  |then 0.0\n",
      "  |  |  |  |  |else 1.0\n",
      "  |else if healthy_life_exp_birth =< 66.58038330078125: \n",
      "  |  |then if healthy_life_exp_birth =< 57.084495544433594: \n",
      "  |  |  |then 0.0\n",
      "  |  |  |else if pos_affect =< 0.7376997470855713: \n",
      "  |  |  |  |then if dem_quality =< 0.1822545826435089: \n",
      "  |  |  |  |  |then 1.0\n",
      "  |  |  |  |  |else 0.0\n",
      "  |  |  |  |else if infant_mortality =< 25.0: \n",
      "  |  |  |  |  |then 1.0\n",
      "  |  |  |  |  |else 0.0\n",
      "  |  |else if social_support =< 0.8677008152008057: \n",
      "  |  |  |then if dem_quality =< 0.8977594375610352: \n",
      "  |  |  |  |then if delivery_quality =< 0.3765450716018677: \n",
      "  |  |  |  |  |then 0.0\n",
      "  |  |  |  |  |else 1.0\n",
      "  |  |  |  |else 0.0\n",
      "  |  |  |else if healthy_life_exp_birth =< 67.13264465332031: \n",
      "  |  |  |  |then if healthy_life_exp_birth =< 67.12060546875: \n",
      "  |  |  |  |  |then 1.0\n",
      "  |  |  |  |  |else 0.0\n",
      "  |  |  |  |else if pos_affect =< 0.6844944953918457: \n",
      "  |  |  |  |  |then 1.0\n",
      "  |  |  |  |  |else 1.0\n",
      "<------------->\n",
      "Tree Depth:  5\n"
     ]
    }
   ],
   "source": [
    "tree_print(DecisionTree, X)"
   ]
  },
  {
   "cell_type": "markdown",
   "metadata": {},
   "source": [
    "## Predict using trained decision tree"
   ]
  },
  {
   "cell_type": "code",
   "execution_count": 12,
   "metadata": {},
   "outputs": [
    {
     "data": {
      "text/html": [
       "<div>\n",
       "<style>\n",
       "    .dataframe thead tr:only-child th {\n",
       "        text-align: right;\n",
       "    }\n",
       "\n",
       "    .dataframe thead th {\n",
       "        text-align: left;\n",
       "    }\n",
       "\n",
       "    .dataframe tbody tr th {\n",
       "        vertical-align: top;\n",
       "    }\n",
       "</style>\n",
       "<table border=\"1\" class=\"dataframe\">\n",
       "  <thead>\n",
       "    <tr style=\"text-align: right;\">\n",
       "      <th></th>\n",
       "      <th>social_support</th>\n",
       "      <th>healthy_life_exp_birth</th>\n",
       "      <th>pos_affect</th>\n",
       "      <th>dem_quality</th>\n",
       "      <th>delivery_quality</th>\n",
       "      <th>life_exp_60</th>\n",
       "      <th>infant_mortality</th>\n",
       "    </tr>\n",
       "  </thead>\n",
       "  <tbody>\n",
       "    <tr>\n",
       "      <th>0</th>\n",
       "      <td>0.450662</td>\n",
       "      <td>49.209663</td>\n",
       "      <td>0.517637</td>\n",
       "      <td>-1.929690</td>\n",
       "      <td>-1.655084</td>\n",
       "      <td>15.6</td>\n",
       "      <td>70.8</td>\n",
       "    </tr>\n",
       "    <tr>\n",
       "      <th>1</th>\n",
       "      <td>0.552308</td>\n",
       "      <td>49.624432</td>\n",
       "      <td>0.583926</td>\n",
       "      <td>-2.044093</td>\n",
       "      <td>-1.635025</td>\n",
       "      <td>15.7</td>\n",
       "      <td>68.2</td>\n",
       "    </tr>\n",
       "    <tr>\n",
       "      <th>2</th>\n",
       "      <td>0.539075</td>\n",
       "      <td>50.008961</td>\n",
       "      <td>0.618265</td>\n",
       "      <td>-1.991810</td>\n",
       "      <td>-1.617176</td>\n",
       "      <td>15.7</td>\n",
       "      <td>65.7</td>\n",
       "    </tr>\n",
       "    <tr>\n",
       "      <th>3</th>\n",
       "      <td>0.521104</td>\n",
       "      <td>50.367298</td>\n",
       "      <td>0.611387</td>\n",
       "      <td>-1.919018</td>\n",
       "      <td>-1.616221</td>\n",
       "      <td>15.8</td>\n",
       "      <td>63.3</td>\n",
       "    </tr>\n",
       "    <tr>\n",
       "      <th>4</th>\n",
       "      <td>0.520637</td>\n",
       "      <td>50.709263</td>\n",
       "      <td>0.710385</td>\n",
       "      <td>-1.842996</td>\n",
       "      <td>-1.404078</td>\n",
       "      <td>15.8</td>\n",
       "      <td>61.0</td>\n",
       "    </tr>\n",
       "  </tbody>\n",
       "</table>\n",
       "</div>"
      ],
      "text/plain": [
       "   social_support  healthy_life_exp_birth  pos_affect  dem_quality  \\\n",
       "0        0.450662               49.209663    0.517637    -1.929690   \n",
       "1        0.552308               49.624432    0.583926    -2.044093   \n",
       "2        0.539075               50.008961    0.618265    -1.991810   \n",
       "3        0.521104               50.367298    0.611387    -1.919018   \n",
       "4        0.520637               50.709263    0.710385    -1.842996   \n",
       "\n",
       "   delivery_quality  life_exp_60  infant_mortality  \n",
       "0         -1.655084         15.6              70.8  \n",
       "1         -1.635025         15.7              68.2  \n",
       "2         -1.617176         15.7              65.7  \n",
       "3         -1.616221         15.8              63.3  \n",
       "4         -1.404078         15.8              61.0  "
      ]
     },
     "execution_count": 12,
     "metadata": {},
     "output_type": "execute_result"
    }
   ],
   "source": [
    "X.head()"
   ]
  },
  {
   "cell_type": "code",
   "execution_count": 13,
   "metadata": {},
   "outputs": [
    {
     "data": {
      "text/html": [
       "<div>\n",
       "<style>\n",
       "    .dataframe thead tr:only-child th {\n",
       "        text-align: right;\n",
       "    }\n",
       "\n",
       "    .dataframe thead th {\n",
       "        text-align: left;\n",
       "    }\n",
       "\n",
       "    .dataframe tbody tr th {\n",
       "        vertical-align: top;\n",
       "    }\n",
       "</style>\n",
       "<table border=\"1\" class=\"dataframe\">\n",
       "  <thead>\n",
       "    <tr style=\"text-align: right;\">\n",
       "      <th></th>\n",
       "      <th>delivery_quality</th>\n",
       "      <th>dem_quality</th>\n",
       "      <th>healthy_life_exp_birth</th>\n",
       "      <th>infant_mortality</th>\n",
       "      <th>life_exp_60</th>\n",
       "      <th>pos_affect</th>\n",
       "      <th>social_support</th>\n",
       "    </tr>\n",
       "  </thead>\n",
       "  <tbody>\n",
       "    <tr>\n",
       "      <th>0</th>\n",
       "      <td>-1.5</td>\n",
       "      <td>-1</td>\n",
       "      <td>55</td>\n",
       "      <td>70</td>\n",
       "      <td>16</td>\n",
       "      <td>0.55</td>\n",
       "      <td>0.55</td>\n",
       "    </tr>\n",
       "  </tbody>\n",
       "</table>\n",
       "</div>"
      ],
      "text/plain": [
       "   delivery_quality  dem_quality  healthy_life_exp_birth  infant_mortality  \\\n",
       "0              -1.5           -1                      55                70   \n",
       "\n",
       "   life_exp_60  pos_affect  social_support  \n",
       "0           16        0.55            0.55  "
      ]
     },
     "execution_count": 13,
     "metadata": {},
     "output_type": "execute_result"
    }
   ],
   "source": [
    "X_new = pd.DataFrame({'social_support': [0.55],\n",
    "                      'healthy_life_exp_birth': [55],\n",
    "                      'pos_affect': [0.55],\n",
    "                      'dem_quality': [-1],\n",
    "                      'delivery_quality': [-1.5],\n",
    "                      'life_exp_60': [16],\n",
    "                      'infant_mortality': [70]})\n",
    "X_new.head()"
   ]
  },
  {
   "cell_type": "code",
   "execution_count": 14,
   "metadata": {},
   "outputs": [
    {
     "data": {
      "text/plain": [
       "array([ 1.])"
      ]
     },
     "execution_count": 14,
     "metadata": {},
     "output_type": "execute_result"
    }
   ],
   "source": [
    "DecisionTree.predict(X_new)"
   ]
  },
  {
   "cell_type": "code",
   "execution_count": 15,
   "metadata": {},
   "outputs": [
    {
     "data": {
      "text/plain": [
       "array([[ 0.,  1.]])"
      ]
     },
     "execution_count": 15,
     "metadata": {},
     "output_type": "execute_result"
    }
   ],
   "source": [
    "DecisionTree.predict_proba(X_new)"
   ]
  },
  {
   "cell_type": "markdown",
   "metadata": {},
   "source": [
    "## Evaluate model on full dataset"
   ]
  },
  {
   "cell_type": "code",
   "execution_count": 16,
   "metadata": {
    "collapsed": true
   },
   "outputs": [],
   "source": [
    "predictions = DecisionTree.predict(X)\n",
    "df_true_vs_predicted = pd.DataFrame({'ActualHappiness': y, 'PredictedHappiness': predictions})\n",
    "#df_true_vs_predicted"
   ]
  },
  {
   "cell_type": "code",
   "execution_count": 17,
   "metadata": {},
   "outputs": [
    {
     "name": "stdout",
     "output_type": "stream",
     "text": [
      "Accuracy:  0.894345238095\n",
      "Confusion matrix: \n",
      " [[686  49]\n",
      " [ 93 516]]\n",
      "Classification report:\n",
      "               precision    recall  f1-score   support\n",
      "\n",
      "        0.0       0.88      0.93      0.91       735\n",
      "        1.0       0.91      0.85      0.88       609\n",
      "\n",
      "avg / total       0.90      0.89      0.89      1344\n",
      "\n"
     ]
    }
   ],
   "source": [
    "print(\"Accuracy: \", metrics.accuracy_score(y, predictions))\n",
    "print(\"Confusion matrix: \\n\", metrics.confusion_matrix(y, predictions))\n",
    "print(\"Classification report:\\n \", metrics.classification_report(y, predictions))"
   ]
  },
  {
   "cell_type": "markdown",
   "metadata": {},
   "source": [
    "## Evaluate on hold-out data\n",
    "## Single stratified train/test split"
   ]
  },
  {
   "cell_type": "code",
   "execution_count": 18,
   "metadata": {
    "collapsed": true
   },
   "outputs": [],
   "source": [
    "# Get train and test data set on 7:3\n",
    "X_train, X_test, y_train, y_test = train_test_split(X, y, test_size=0.3)"
   ]
  },
  {
   "cell_type": "code",
   "execution_count": 19,
   "metadata": {},
   "outputs": [
    {
     "data": {
      "text/plain": [
       "DecisionTreeClassifier(class_weight=None, criterion='gini', max_depth=5,\n",
       "            max_features=None, max_leaf_nodes=None,\n",
       "            min_impurity_decrease=0.0, min_impurity_split=None,\n",
       "            min_samples_leaf=1, min_samples_split=2,\n",
       "            min_weight_fraction_leaf=0.0, presort=False, random_state=1,\n",
       "            splitter='best')"
      ]
     },
     "execution_count": 19,
     "metadata": {},
     "output_type": "execute_result"
    }
   ],
   "source": [
    "# Refit the model on the training set only\n",
    "DecisionTree.fit(X_train, y_train)"
   ]
  },
  {
   "cell_type": "code",
   "execution_count": 20,
   "metadata": {
    "collapsed": true
   },
   "outputs": [],
   "source": [
    "# Predict on the hold-out test set\n",
    "predictions_test = DecisionTree.predict(X_test)\n",
    "df_true_vs_predicted_test = pd.DataFrame({'ActualHappiness': y_test, 'PredictedHappiness': predictions_test})"
   ]
  },
  {
   "cell_type": "code",
   "execution_count": 21,
   "metadata": {},
   "outputs": [
    {
     "name": "stdout",
     "output_type": "stream",
     "text": [
      "Accuracy:  0.866336633663\n",
      "Confusion matrix: \n",
      " [[201  26]\n",
      " [ 28 149]]\n",
      "Classification report:\n",
      "               precision    recall  f1-score   support\n",
      "\n",
      "        0.0       0.88      0.89      0.88       227\n",
      "        1.0       0.85      0.84      0.85       177\n",
      "\n",
      "avg / total       0.87      0.87      0.87       404\n",
      "\n"
     ]
    }
   ],
   "source": [
    "# Try to get an initialized confusion matrix evaulation with test data set on the prediction\n",
    "print(\"Accuracy: \", metrics.accuracy_score(y_test, predictions_test))\n",
    "print(\"Confusion matrix: \\n\", metrics.confusion_matrix(y_test, predictions_test))\n",
    "print(\"Classification report:\\n \", metrics.classification_report(y_test, predictions_test))"
   ]
  },
  {
   "cell_type": "markdown",
   "metadata": {},
   "source": [
    "## Cross-validation"
   ]
  },
  {
   "cell_type": "code",
   "execution_count": 22,
   "metadata": {},
   "outputs": [
    {
     "name": "stdout",
     "output_type": "stream",
     "text": [
      "max_depth =  1\n",
      "Average accuracy:  0.752074090699\n",
      "Average f1-score:  0.6648746766386393\n",
      "Average precision: 0.814874173966426\n",
      "Average recall:    0.5920765027322404\n",
      "==================================================\n",
      "max_depth =  2\n",
      "Average accuracy:  0.774362647913\n",
      "Average f1-score:  0.7008523971488989\n",
      "Average precision: 0.8140506476401257\n",
      "Average recall:    0.662568306010929\n",
      "==================================================\n",
      "max_depth =  3\n",
      "Average accuracy:  0.804292946296\n",
      "Average f1-score:  0.7855944162308762\n",
      "Average precision: 0.7932293559178565\n",
      "Average recall:    0.8013661202185792\n",
      "==================================================\n",
      "max_depth =  4\n",
      "Average accuracy:  0.805830288823\n",
      "Average f1-score:  0.7869936812940386\n",
      "Average precision: 0.7855679339550553\n",
      "Average recall:    0.801584699453552\n",
      "==================================================\n",
      "max_depth =  5\n",
      "Average accuracy:  0.82080641072\n",
      "Average f1-score:  0.8000028931349206\n",
      "Average precision: 0.8170672294203557\n",
      "Average recall:    0.796639344262295\n",
      "==================================================\n",
      "max_depth =  6\n",
      "Average accuracy:  0.787807287705\n",
      "Average f1-score:  0.7643208854579461\n",
      "Average precision: 0.7809992323705855\n",
      "Average recall:    0.7601366120218579\n",
      "==================================================\n",
      "max_depth =  7\n",
      "Average accuracy:  0.794401509578\n",
      "Average f1-score:  0.7711827474292261\n",
      "Average precision: 0.782392537458528\n",
      "Average recall:    0.7681693989071039\n",
      "==================================================\n",
      "max_depth =  8\n",
      "Average accuracy:  0.811092781706\n",
      "Average f1-score:  0.7894610881437321\n",
      "Average precision: 0.7937405460194592\n",
      "Average recall:    0.7949726775956284\n",
      "==================================================\n",
      "max_depth =  9\n",
      "Average accuracy:  0.808091040204\n",
      "Average f1-score:  0.7889432469075446\n",
      "Average precision: 0.785426938187849\n",
      "Average recall:    0.7998360655737705\n",
      "==================================================\n"
     ]
    }
   ],
   "source": [
    "# Evaluate the model using 10-fold cross-validation.\n",
    "# Uses 9 parts of data for training and the last part for testing. \n",
    "# This process is repeated 10 times. We just check with the average score\n",
    "for i in range (1, 10):\n",
    "    scores_dtc = cross_val_score(DecisionTreeClassifier(max_depth=i, random_state=3), X, y, scoring='accuracy', cv=10)\n",
    "    scores_dtc2 = cross_val_score(DecisionTreeClassifier(max_depth=i, random_state=3), X, y, scoring='f1', cv=10)\n",
    "    scores_dtc3 = cross_val_score(DecisionTreeClassifier(max_depth=i, random_state=3), X, y, scoring='precision', cv=10)\n",
    "    scores_dtc4 = cross_val_score(DecisionTreeClassifier(max_depth=i, random_state=3), X, y, scoring='recall', cv=10)\n",
    "    print(\"max_depth = \", i)\n",
    "    print(\"Average accuracy: \", scores_dtc.mean())\n",
    "    print(\"Average f1-score:  {}\".format(scores_dtc2.mean()))\n",
    "    print(\"Average precision: {}\".format(scores_dtc3.mean()))\n",
    "    print(\"Average recall:    {}\".format(scores_dtc4.mean()))\n",
    "    print(\"=====\"*10)"
   ]
  },
  {
   "cell_type": "markdown",
   "metadata": {},
   "source": [
    "According the compared results above, it looks that max_depth=5 has the best cross-valadation scores. Thus, we will choose max_depth=5 for random forest model training."
   ]
  },
  {
   "cell_type": "markdown",
   "metadata": {},
   "source": [
    "# Random Forest\n",
    "## Train a random forest classifier model"
   ]
  },
  {
   "cell_type": "code",
   "execution_count": 23,
   "metadata": {
    "collapsed": true
   },
   "outputs": [],
   "source": [
    "RandomForest = RandomForestClassifier(n_estimators=100, max_depth=5, max_features='auto', oob_score=True, random_state=1)"
   ]
  },
  {
   "cell_type": "code",
   "execution_count": 24,
   "metadata": {},
   "outputs": [
    {
     "data": {
      "text/plain": [
       "RandomForestClassifier(bootstrap=True, class_weight=None, criterion='gini',\n",
       "            max_depth=5, max_features='auto', max_leaf_nodes=None,\n",
       "            min_impurity_decrease=0.0, min_impurity_split=None,\n",
       "            min_samples_leaf=1, min_samples_split=2,\n",
       "            min_weight_fraction_leaf=0.0, n_estimators=100, n_jobs=1,\n",
       "            oob_score=True, random_state=1, verbose=0, warm_start=False)"
      ]
     },
     "execution_count": 24,
     "metadata": {},
     "output_type": "execute_result"
    }
   ],
   "source": [
    "# Fit model on full dataset\n",
    "RandomForest.fit(X, y)"
   ]
  },
  {
   "cell_type": "markdown",
   "metadata": {},
   "source": [
    "## Feature importance from the RFC model"
   ]
  },
  {
   "cell_type": "code",
   "execution_count": 25,
   "metadata": {},
   "outputs": [
    {
     "data": {
      "text/html": [
       "<div>\n",
       "<style>\n",
       "    .dataframe thead tr:only-child th {\n",
       "        text-align: right;\n",
       "    }\n",
       "\n",
       "    .dataframe thead th {\n",
       "        text-align: left;\n",
       "    }\n",
       "\n",
       "    .dataframe tbody tr th {\n",
       "        vertical-align: top;\n",
       "    }\n",
       "</style>\n",
       "<table border=\"1\" class=\"dataframe\">\n",
       "  <thead>\n",
       "    <tr style=\"text-align: right;\">\n",
       "      <th></th>\n",
       "      <th>feature</th>\n",
       "      <th>importance</th>\n",
       "    </tr>\n",
       "  </thead>\n",
       "  <tbody>\n",
       "    <tr>\n",
       "      <th>0</th>\n",
       "      <td>social_support</td>\n",
       "      <td>0.247351</td>\n",
       "    </tr>\n",
       "    <tr>\n",
       "      <th>1</th>\n",
       "      <td>healthy_life_exp_birth</td>\n",
       "      <td>0.175307</td>\n",
       "    </tr>\n",
       "    <tr>\n",
       "      <th>2</th>\n",
       "      <td>pos_affect</td>\n",
       "      <td>0.099840</td>\n",
       "    </tr>\n",
       "    <tr>\n",
       "      <th>3</th>\n",
       "      <td>dem_quality</td>\n",
       "      <td>0.054054</td>\n",
       "    </tr>\n",
       "    <tr>\n",
       "      <th>4</th>\n",
       "      <td>delivery_quality</td>\n",
       "      <td>0.121725</td>\n",
       "    </tr>\n",
       "    <tr>\n",
       "      <th>5</th>\n",
       "      <td>life_exp_60</td>\n",
       "      <td>0.191418</td>\n",
       "    </tr>\n",
       "    <tr>\n",
       "      <th>6</th>\n",
       "      <td>infant_mortality</td>\n",
       "      <td>0.110304</td>\n",
       "    </tr>\n",
       "  </tbody>\n",
       "</table>\n",
       "</div>"
      ],
      "text/plain": [
       "                  feature  importance\n",
       "0          social_support    0.247351\n",
       "1  healthy_life_exp_birth    0.175307\n",
       "2              pos_affect    0.099840\n",
       "3             dem_quality    0.054054\n",
       "4        delivery_quality    0.121725\n",
       "5             life_exp_60    0.191418\n",
       "6        infant_mortality    0.110304"
      ]
     },
     "execution_count": 25,
     "metadata": {},
     "output_type": "execute_result"
    }
   ],
   "source": [
    "# Compute the importance of each feature based on the trained random forest classifier\n",
    "# RF finds different feature importance than the single decision tree\n",
    "# It finds both Size and Floor to be important features\n",
    "# A downside is that we cannot interpret the RF with 100 trees as we could by looking at a single decision tree\n",
    "# So this table is what we can use to interpret the trained model\n",
    "pd.DataFrame({'feature': X.columns, 'importance':RandomForest.feature_importances_})"
   ]
  },
  {
   "cell_type": "markdown",
   "metadata": {},
   "source": [
    "## Predict using trained random forest model"
   ]
  },
  {
   "cell_type": "code",
   "execution_count": 26,
   "metadata": {},
   "outputs": [
    {
     "data": {
      "text/plain": [
       "array([[ 0.95961162,  0.04038838],\n",
       "       [ 0.97606331,  0.02393669],\n",
       "       [ 0.97577205,  0.02422795],\n",
       "       ..., \n",
       "       [ 0.98191252,  0.01808748],\n",
       "       [ 0.98646919,  0.01353081],\n",
       "       [ 0.98572764,  0.01427236]])"
      ]
     },
     "execution_count": 26,
     "metadata": {},
     "output_type": "execute_result"
    }
   ],
   "source": [
    "# Predicted probabilities for all examples. \n",
    "# The output is a pair for each example, \n",
    "# The first component is the probability of the UNHAPPY class (class 0).\n",
    "# The second component is the probability of the HAPPY class (class 1).\n",
    "RandomForest.predict_proba(X)"
   ]
  },
  {
   "cell_type": "code",
   "execution_count": 27,
   "metadata": {
    "collapsed": true
   },
   "outputs": [],
   "source": [
    "# Predicted class labels for all examples, \n",
    "# using the trained model, on in-sample data (same sample used for training and test)\n",
    "RandomForest_predictions = RandomForest.predict(X)\n",
    "df_true_vs_rfc_predicted = pd.DataFrame({'ActualClass': y, 'PredictedClass': RandomForest_predictions})"
   ]
  },
  {
   "cell_type": "code",
   "execution_count": 28,
   "metadata": {},
   "outputs": [
    {
     "name": "stdout",
     "output_type": "stream",
     "text": [
      "Accuracy:  0.915178571429\n",
      "Confusion matrix: \n",
      " [[684  51]\n",
      " [ 63 546]]\n",
      "Classification report:\n",
      "               precision    recall  f1-score   support\n",
      "\n",
      "        0.0       0.92      0.93      0.92       735\n",
      "        1.0       0.91      0.90      0.91       609\n",
      "\n",
      "avg / total       0.92      0.92      0.92      1344\n",
      "\n"
     ]
    }
   ],
   "source": [
    "# Get the initialized confusion matrix evaluation on this model with train data set, the Accuracy is 0.915\n",
    "print(\"Accuracy: \", metrics.accuracy_score(y, RandomForest_predictions))\n",
    "print(\"Confusion matrix: \\n\", metrics.confusion_matrix(y, RandomForest_predictions))\n",
    "print(\"Classification report:\\n \", metrics.classification_report(y, RandomForest_predictions))"
   ]
  },
  {
   "cell_type": "markdown",
   "metadata": {},
   "source": [
    "## Evaluate on hold-out data\n",
    "## Single stratified train/test split"
   ]
  },
  {
   "cell_type": "code",
   "execution_count": 29,
   "metadata": {},
   "outputs": [
    {
     "data": {
      "text/plain": [
       "RandomForestClassifier(bootstrap=True, class_weight=None, criterion='gini',\n",
       "            max_depth=5, max_features='auto', max_leaf_nodes=None,\n",
       "            min_impurity_decrease=0.0, min_impurity_split=None,\n",
       "            min_samples_leaf=1, min_samples_split=2,\n",
       "            min_weight_fraction_leaf=0.0, n_estimators=100, n_jobs=1,\n",
       "            oob_score=True, random_state=1, verbose=0, warm_start=False)"
      ]
     },
     "execution_count": 29,
     "metadata": {},
     "output_type": "execute_result"
    }
   ],
   "source": [
    "RandomForest.fit(X_train, y_train)"
   ]
  },
  {
   "cell_type": "code",
   "execution_count": 30,
   "metadata": {
    "collapsed": true
   },
   "outputs": [],
   "source": [
    "# Predicted class labels for all examples, \n",
    "# using the trained model, on in-sample data (same sample used for training and test)\n",
    "RandomForest_predictions_test = RandomForest.predict(X_test)\n",
    "df_true_vs_rfc_predicted_test = pd.DataFrame({'ActualClass': y_test, 'PredictedClass': RandomForest_predictions_test})"
   ]
  },
  {
   "cell_type": "code",
   "execution_count": 31,
   "metadata": {
    "scrolled": true
   },
   "outputs": [
    {
     "name": "stdout",
     "output_type": "stream",
     "text": [
      "Accuracy:  0.908415841584\n",
      "Confusion matrix: \n",
      " [[213  14]\n",
      " [ 23 154]]\n",
      "Classification report:\n",
      "               precision    recall  f1-score   support\n",
      "\n",
      "        0.0       0.90      0.94      0.92       227\n",
      "        1.0       0.92      0.87      0.89       177\n",
      "\n",
      "avg / total       0.91      0.91      0.91       404\n",
      "\n"
     ]
    }
   ],
   "source": [
    "# Get an initialized confusion matrix evaulation on this model with test data set. The accuracy is 0.893\n",
    "print(\"Accuracy: \", metrics.accuracy_score(y_test, RandomForest_predictions_test))\n",
    "print(\"Confusion matrix: \\n\", metrics.confusion_matrix(y_test, RandomForest_predictions_test))\n",
    "print(\"Classification report:\\n \", metrics.classification_report(y_test, RandomForest_predictions_test))"
   ]
  },
  {
   "cell_type": "markdown",
   "metadata": {},
   "source": [
    "## Cross-validation"
   ]
  },
  {
   "cell_type": "code",
   "execution_count": 32,
   "metadata": {},
   "outputs": [
    {
     "name": "stdout",
     "output_type": "stream",
     "text": [
      "max_depth = 2, Average precision: 0.8404014149557903\n",
      "max_depth = 3, Average precision: 0.8480553654916323\n",
      "max_depth = 4, Average precision: 0.8448730685168264\n",
      "max_depth = 5, Average precision: 0.8363942428778618\n",
      "max_depth = 6, Average precision: 0.8247230472118581\n",
      "max_depth = 7, Average precision: 0.8289427573608851\n",
      "max_depth = 8, Average precision: 0.8166602216766929\n",
      "max_depth = 9, Average precision: 0.823107368543018\n"
     ]
    }
   ],
   "source": [
    "# Evaluate the model using 10-fold cross-validation.\n",
    "# Uses 9 parts of data for training and the last part for testing. \n",
    "# This process is repeated 10 times.\n",
    "for i in range(2, 10):\n",
    "    scores = cross_val_score(RandomForestClassifier(n_estimators=100, max_depth=i, max_features='auto', oob_score=True, random_state=1), X, y, scoring='precision', cv=10)\n",
    "    \n",
    "    print(\"max_depth = {}, Average precision: {}\".format(i, scores.mean()))"
   ]
  },
  {
   "cell_type": "markdown",
   "metadata": {
    "collapsed": true
   },
   "source": [
    "    Conclusion:\n",
    "    In this section, we used the dataFrame file that was produced by Logistic Regession Model section, in which  'Happiess_class' has already been classified with class=0 (Happiness Score <= 5.0) and class=1 (Happiness Score > 5.0). Thus all input data set have been well prepared and we donot need to shape them any more.\n",
    "    In terms of DTC (Decision Tree Classifier), by utilizing cross-validation evaluation, we can see that max_depth = 5 is the best choice to get most accuracy on prediction.\n",
    "    However, with the same evaluation method, in Random Forest Classifier, it looks that when max_depth = 3, the precision score is highest (0.848). Thus choosing max_depth = 3 for Random Forest model traning could provide the better happiness prediction."
   ]
  }
 ],
 "metadata": {
  "kernelspec": {
   "display_name": "Python 3",
   "language": "python",
   "name": "python3"
  },
  "language_info": {
   "codemirror_mode": {
    "name": "ipython",
    "version": 3
   },
   "file_extension": ".py",
   "mimetype": "text/x-python",
   "name": "python",
   "nbconvert_exporter": "python",
   "pygments_lexer": "ipython3",
   "version": "3.6.2"
  }
 },
 "nbformat": 4,
 "nbformat_minor": 2
}
