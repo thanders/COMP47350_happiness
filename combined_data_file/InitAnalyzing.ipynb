{
 "cells": [
  {
   "cell_type": "code",
   "execution_count": 91,
   "metadata": {
    "collapsed": true
   },
   "outputs": [],
   "source": [
    "# Import package for reading csv files \n",
    "import pandas as pd\n",
    "# Import package for numpy\n",
    "import numpy as np\n",
    "\n",
    "# Scatterplots for each descriptive feature and target feature. \n",
    "# Show the correlation value in the plot.\n",
    "import matplotlib.pyplot as plt\n",
    "import matplotlib.patches as mpatches\n",
    "# Allows plots to appear directly in the notebook.\n",
    "%matplotlib inline\n",
    "#df = pd.read_csv('2015.csv')"
   ]
  },
  {
   "cell_type": "code",
   "execution_count": 92,
   "metadata": {
    "collapsed": true
   },
   "outputs": [],
   "source": [
    "df_dict = {2008:['2008.csv'],\n",
    "           2009:['2009.csv'],\n",
    "            2010:['2010.csv'],\n",
    "            2011:['2011.csv'],\n",
    "            2012:['2012.csv'],\n",
    "            2013:['2013.csv'],\n",
    "            2014:['2014.csv'],\n",
    "            2015:['2015.csv'],\n",
    "            2016:['2016.csv'],\n",
    "            2017:['2017.csv']}"
   ]
  },
  {
   "cell_type": "code",
   "execution_count": 93,
   "metadata": {
    "scrolled": false
   },
   "outputs": [
    {
     "name": "stdout",
     "output_type": "stream",
     "text": [
      "============================================================ 2008 ============================================================\n",
      "============================================================ 2009 ============================================================\n",
      "============================================================ 2010 ============================================================\n",
      "============================================================ 2011 ============================================================\n",
      "============================================================ 2012 ============================================================\n",
      "============================================================ 2013 ============================================================\n",
      "============================================================ 2014 ============================================================\n",
      "============================================================ 2015 ============================================================\n",
      "============================================================ 2016 ============================================================\n",
      "============================================================ 2017 ============================================================\n"
     ]
    }
   ],
   "source": [
    "import seaborn as sns\n",
    "sns.set(style=\"white\")\n",
    "\n",
    "# Show the correlation value in the plot.\n",
    "import matplotlib.pyplot as plt\n",
    "# Allows plots to appear directly in the notebook.\n",
    "%matplotlib inline\n",
    "\n",
    "for year in range(2008, 2018):\n",
    "    df_dict[year].append(pd.read_csv(df_dict[year][0]))\n",
    "    # Keep only the numerical features as the continue features (continue_df)\n",
    "    #df_dict[year][1].dtypes\n",
    "\n",
    "    df_dict[year][1].pop('Unnamed: 0')\n",
    "    df_dict[year][1].pop('Unnamed: 0.1')\n",
    "    df_dict[year][1].pop('year')\n",
    "    numeric_columns = df_dict[year][1].select_dtypes(['int64', 'float64']).columns\n",
    "    # Calculate correlation of all pairs of continuous features\n",
    "    \n",
    "    print(\"===\"*20, year, \"===\"*20)\n",
    "    #corr=df_dict[year][1][numeric_columns].corr()\n",
    "    #print(corr)\n",
    "    corr.to_csv(\"corr_{}.csv\".format(year))\n",
    "    #print(\"===\"*20, year, \"===\"*20)\n",
    "    '''\n",
    "    # Generate a mask for the upper triangle\n",
    "    mask = np.zeros_like(corr, dtype=np.bool)\n",
    "    mask[np.triu_indices_from(mask)] = True\n",
    "\n",
    "    # Set up the matplotlib figure\n",
    "    f, ax = plt.subplots(figsize=(28, 28))\n",
    "    ax.set_title(str(year))\n",
    "    # Generate a custom colormap - blue and red\n",
    "    cmap = sns.diverging_palette(220, 10, as_cmap=True)\n",
    "\n",
    "    # Draw the heatmap with the mask and correct aspect ratio\n",
    "    sns.heatmap(corr, annot=True, mask=mask, cmap=cmap, vmax=1, vmin=-1,\n",
    "            square=True, xticklabels=True, yticklabels=True,\n",
    "            linewidths=.5, cbar_kws={\"shrink\": .5}, ax=ax)\n",
    "    plt.yticks(rotation = 0)\n",
    "    plt.xticks(rotation = 45)\n",
    "    '''"
   ]
  },
  {
   "cell_type": "code",
   "execution_count": null,
   "metadata": {
    "collapsed": true
   },
   "outputs": [],
   "source": []
  }
 ],
 "metadata": {
  "kernelspec": {
   "display_name": "Python 3",
   "language": "python",
   "name": "python3"
  },
  "language_info": {
   "codemirror_mode": {
    "name": "ipython",
    "version": 3
   },
   "file_extension": ".py",
   "mimetype": "text/x-python",
   "name": "python",
   "nbconvert_exporter": "python",
   "pygments_lexer": "ipython3",
   "version": "3.6.2"
  }
 },
 "nbformat": 4,
 "nbformat_minor": 2
}
