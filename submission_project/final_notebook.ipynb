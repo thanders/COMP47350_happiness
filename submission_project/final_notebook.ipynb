{
 "cells": [
  {
   "cell_type": "markdown",
   "metadata": {},
   "source": [
    "# Data Analytics Group Project - Predicting Happiness Score\n",
    "\n",
    "In this notebook we try to train a model that will attempt to correctly predict Happinesss Score. We have a target feature (Happiness Score) and a whole range of descripitve features, some which came with the Happiness Score data file, others we had to collect ourselves from a variety of different places such as the WHO. \n",
    "\n"
   ]
  },
  {
   "cell_type": "code",
   "execution_count": 83,
   "metadata": {
    "collapsed": true
   },
   "outputs": [],
   "source": [
    "# Import all necessary packages\n",
    "import pandas as pd\n",
    "import numpy as np\n",
    "import matplotlib\n",
    "import matplotlib.pyplot as plt\n",
    "import matplotlib.patches as mpatches\n",
    "from matplotlib.backends.backend_pdf import PdfPages\n",
    "import statsmodels.formula.api as sm\n",
    "from sklearn import metrics\n",
    "import seaborn as sns\n",
    "\n",
    "# Plots appear in notebook\n",
    "%matplotlib inline\n",
    "\n",
    "#Turn on automcompletion\n",
    "%config IPCompleter.greedy=True"
   ]
  },
  {
   "cell_type": "markdown",
   "metadata": {},
   "source": [
    "## Part 1: Combining Data from different Data Sets\n",
    "### Part A - Load main dataframe\n",
    "\n",
    "The main bulk of the data stems directly from the world happiness report website at http://worldhappiness.report/\". There we obtained a file containing the happiness scores from 2008-2017. It actually goes back to 2006 for some countries, however we decided to just focus on the last 10 years. In addition it contains a couple of other features which we thought are very well suited as descriptive features. Some, where we were not quite sure on their meaning and quality we decided to drop and others were simply not of interest. \n",
    "\n",
    "For more detailed information on each descriptive feature, there is a pdf in the docs folder from the world happiness report,  which outlines exactly how these features were obtained. "
   ]
  },
  {
   "cell_type": "code",
   "execution_count": null,
   "metadata": {},
   "outputs": [],
   "source": [
    "# Load in the csv from the happiness report website\n",
    "main_df = pd.read_csv(\"raw_data/happiness&descriptivefeat_2008-2017.csv\")\n",
    "main_df.head()"
   ]
  },
  {
   "cell_type": "code",
   "execution_count": null,
   "metadata": {
    "collapsed": true
   },
   "outputs": [],
   "source": [
    "# Rename target feature \"life ladder\" to \"happiness Score\"\n",
    "main_df = main_df.rename(columns={'Life Ladder': 'Happiness Score'})"
   ]
  },
  {
   "cell_type": "code",
   "execution_count": null,
   "metadata": {
    "collapsed": true
   },
   "outputs": [],
   "source": [
    "# Change Happiness Score into categorical feature (0-10)\n",
    "main_df[\"Happiness Score\"] = round(main_df[\"Happiness Score\"])"
   ]
  },
  {
   "cell_type": "code",
   "execution_count": null,
   "metadata": {},
   "outputs": [],
   "source": [
    "# Drop unwanted columns and unnecessary columns\n",
    "main_df.drop(['Standard deviation of ladder by country-year', 'Standard deviation/Mean of ladder by country-year', 'GINI index (World Bank estimate)', 'GINI index (World Bank estimate), average 2000-15', 'gini of household income reported in Gallup, by wp5-year'], axis=1, inplace=True )\n",
    "main_df.head()"
   ]
  },
  {
   "cell_type": "markdown",
   "metadata": {},
   "source": [
    "### Part B - Add GDP (replacing log GDP)\n",
    "There were a number of other datasets which we thought were interesting and maybe relevant in predicting happiness. One of them was crime rate. Unfortunately, the dataset only ranged back to 2012, and covered a different amount of countries in each year, and never the full amount of our main dataset which covers 162 countries starting from 2008-2017. So we decided to not add crime rate as it would simply add too much missing data\n",
    "\n",
    "However, we did add some other features. One of them was raw GDP, which we used to replace the \"Log GDP per capita\". "
   ]
  },
  {
   "cell_type": "code",
   "execution_count": null,
   "metadata": {},
   "outputs": [],
   "source": [
    "# read in GDP data\n",
    "raw_gdp_df = pd.read_csv(\"raw_data/GDP2008_to_2017.csv\")\n",
    "raw_gdp_df.head()"
   ]
  },
  {
   "cell_type": "code",
   "execution_count": null,
   "metadata": {},
   "outputs": [],
   "source": [
    "# drop unnecessary columns\n",
    "raw_gdp_df.drop([\"Units\", \"Scale\", \"Country/Series-specific Notes\", \"Estimates Start After\"], axis=1, inplace=True)\n",
    "raw_gdp_df.head()"
   ]
  },
  {
   "cell_type": "code",
   "execution_count": null,
   "metadata": {},
   "outputs": [],
   "source": [
    "# Check for duplicated rows\n",
    "print(\"Number of duplicated rows: {}\".format(sum(raw_gdp_df.duplicated())))"
   ]
  },
  {
   "cell_type": "code",
   "execution_count": null,
   "metadata": {},
   "outputs": [],
   "source": [
    "# Convert raw_gdp_df into one more suitable for merging\n",
    "raw_gdp_df = raw_gdp_df.rename(columns={\"Country\": \"country\"})\n",
    "raw_gdp_df = pd.melt(raw_gdp_df, id_vars=[\"country\"], var_name=\"year\", value_name=\"GDP\").sort_values([\"country\", \"year\"])\n",
    "raw_gdp_df.head()"
   ]
  },
  {
   "cell_type": "code",
   "execution_count": null,
   "metadata": {
    "collapsed": true
   },
   "outputs": [],
   "source": [
    "# convert dataype of Year to int64\n",
    "raw_gdp_df.year = raw_gdp_df.year.astype(\"int64\", inplace=True)"
   ]
  },
  {
   "cell_type": "code",
   "execution_count": null,
   "metadata": {},
   "outputs": [],
   "source": [
    "# merge with the main df based on year and country\n",
    "main_df = pd.merge(main_df, raw_gdp_df,  how='left', left_on=['country', \"year\"], right_on = ['country', \"year\"])\n",
    "main_df.drop([\"Log GDP per capita\"], axis=1, inplace=True)\n",
    "main_df.head()"
   ]
  },
  {
   "cell_type": "markdown",
   "metadata": {},
   "source": [
    "### Part C - Add life expectancy from WHO\n",
    "Next we added additional life expectancy data from WHO besides the already existing \"Healthy life expectancy at birth\" feature"
   ]
  },
  {
   "cell_type": "code",
   "execution_count": null,
   "metadata": {},
   "outputs": [],
   "source": [
    "# read in WHO data\n",
    "who_df = pd.read_csv(\"raw_data/WHOLifeExpectancy.csv\")\n",
    "\n",
    "# select desired columns\n",
    "who_df = who_df[[\"Unnamed: 0\", \"Unnamed: 1\", \"Life expectancy at birth (years)\", \"Life expectancy at age 60 (years)\"]]\n",
    "\n",
    "# rename columns\n",
    "who_df = who_df.rename(columns={\"Unnamed: 0\": \"country\", \"Unnamed: 1\": \"year\", \"Life expectancy at birth (years)\": \"Life expectancy birth\", \"Life expectancy at age 60 (years)\": \"Life expectancy age 60\"})\n",
    "\n",
    "# drop first row (contains useless data)\n",
    "who_df.drop(who_df.index[0], inplace=True)\n",
    "\n",
    "# change dtypes\n",
    "who_df.year = who_df.year.astype(\"int64\", inplace=True)\n",
    "who_df[\"Life expectancy birth\"] = who_df[\"Life expectancy birth\"].astype(float, inplace=True)\n",
    "who_df[\"Life expectancy age 60\"] = who_df[\"Life expectancy age 60\"].astype(float, inplace=True)\n",
    "\n",
    "who_df.head()"
   ]
  },
  {
   "cell_type": "code",
   "execution_count": null,
   "metadata": {},
   "outputs": [],
   "source": [
    "# merge with the main df based on year and country\n",
    "main_df = pd.merge(main_df, who_df,  how='left', left_on=['country', \"year\"], right_on = ['country', \"year\"])\n",
    "main_df.head()"
   ]
  },
  {
   "cell_type": "markdown",
   "metadata": {},
   "source": [
    "### Part D - Add Infant Mortality Rate"
   ]
  },
  {
   "cell_type": "code",
   "execution_count": null,
   "metadata": {},
   "outputs": [],
   "source": [
    "# read in infant mortality data\n",
    "im_df = pd.read_csv(\"raw_data/Dying_baby_data.csv\")\n",
    "\n",
    "# rename columns\n",
    "im_df = im_df.rename(columns={\"Country\": \"country\", \"Year\": \"year\", \"Infant mortality rate (probability of dying between birth and age 1 per 1000 live births)\": \"Infant mortality rate\", \"Neonatal mortality rate (per 1000 live births)\": \"Neonatal mortality rate\", \"Under-five mortality rate (probability of dying by age 5 per 1000 live births)\": \"Under-five mortality rate\"})\n",
    "\n",
    "im_df.head()"
   ]
  },
  {
   "cell_type": "code",
   "execution_count": null,
   "metadata": {},
   "outputs": [],
   "source": [
    "# only keep number of deaths for mortality rate\n",
    "im_df[['Infant mortality rate', 'Neonatal mortality rate', 'Under-five mortality rate']] = im_df[[\n",
    "    'Infant mortality rate', 'Neonatal mortality rate', 'Under-five mortality rate']].apply(lambda row: row.str.replace(\"(\\[.+\\])\", ''))\n",
    "im_df.head()"
   ]
  },
  {
   "cell_type": "code",
   "execution_count": null,
   "metadata": {},
   "outputs": [],
   "source": [
    "# merge with the main df based on year and country\n",
    "main_df = pd.merge(main_df, im_df,  how='left', left_on=['country', \"year\"], right_on = ['country', \"year\"])\n",
    "main_df.head()"
   ]
  },
  {
   "cell_type": "markdown",
   "metadata": {},
   "source": [
    "### Part E - Add CPI (world corruption ranking)"
   ]
  },
  {
   "cell_type": "code",
   "execution_count": null,
   "metadata": {},
   "outputs": [],
   "source": [
    "# read in CPI mortality data\n",
    "cpi_df = pd.read_csv(\"raw_data/transparency_international_CPI.csv\")\n",
    "\n",
    "# drop unwanted columns\n",
    "cpi_df.drop([\"ISO3\"], axis=1, inplace=True)\n",
    "\n",
    "# rename columns\n",
    "cpi_df = cpi_df.rename(columns={\"Country\": \"country\", \"CPI score 2017\": \"2017\", \"CPI score 2016\": \"2016\", \"CPI score 2015\": \"2015\", \"CPI score 2014\": \"2014\", \"CPI Score 2013\": \"2013\", \"CPI Score 2012\": \"2012\"})\n",
    "\n",
    "# convert into a format suitable for merging\n",
    "cpi_df = pd.melt(cpi_df, id_vars=[\"country\"], var_name=\"year\", value_name=\"CPI\").sort_values([\"country\", \"year\"])\n",
    "\n",
    "# conver dataype of Year to int64\n",
    "cpi_df.year = cpi_df.year.astype(\"int64\", inplace=True)\n",
    "cpi_df.head()                       "
   ]
  },
  {
   "cell_type": "code",
   "execution_count": null,
   "metadata": {},
   "outputs": [],
   "source": [
    "# merge with the main df based on year and country\n",
    "main_df = pd.merge(main_df, cpi_df,  how='left', left_on=['country', \"year\"], right_on = ['country', \"year\"])\n",
    "main_df.head()"
   ]
  },
  {
   "cell_type": "markdown",
   "metadata": {},
   "source": [
    "### Part F - Write merged file to csv"
   ]
  },
  {
   "cell_type": "code",
   "execution_count": null,
   "metadata": {
    "collapsed": true
   },
   "outputs": [],
   "source": [
    "main_df.to_csv(\"processed_data/merged_happiness_data.csv\", index=False)"
   ]
  },
  {
   "cell_type": "markdown",
   "metadata": {},
   "source": [
    "## Part 2: Data Quality Report\n",
    "### Part A - Overview & Analysis"
   ]
  },
  {
   "cell_type": "code",
   "execution_count": null,
   "metadata": {},
   "outputs": [],
   "source": [
    "# load in the merged data\n",
    "df = pd.read_csv(\"processed_data/merged_happiness_data.csv\")\n",
    "df.head()"
   ]
  },
  {
   "cell_type": "markdown",
   "metadata": {},
   "source": [
    "#### Target Feature:\n",
    "The target feature is of course Happiness Score which is the National average response to the question “Please imagine a ladder, with steps numbered from 0 at the bottom to 10 at the top. The top of the ladder represents the best possible life for you and the bottom of the ladder represents the worst possible life for you. On which step of the ladder would you say you personally feel you stand at this time?”\n",
    "\n",
    "#### Descriptive Features\n",
    "The descriptive features are as follows:\n",
    "1. **country** \n",
    "2. **year**\n",
    "3. **Social support** - The national average of the binary responses (either 0 or 1) to the question “If you were in trouble, do you have relatives or friends you can count on to help you whenever you need them, or not?”\n",
    "4. **Healthy life expectancy at birth** - Life expectancy spent in “Good Health”. So not just Life Expectancy. Naturally Smaller than LE. \n",
    "5. **Freedom to make life choices** - The national average of responses to the question “Are you satisfied or dissatisfied with your freedom to choose what you do with your life?”\n",
    "6. **Generosity** - The residual of regressing national average of response to the question “Have you donated money to a charity in the past month?” on GDP per capita.\n",
    "7. **Perceptions of corruption** - The measure is the national average of the survey responses to two questions: (I) “Is corruption widespread throughout the government or not” and (II) “Is corruption widespread within businesses or not?”\n",
    "8. **Positive affect** - The average of three positive affect measures: happiness, laugh and enjoyment. These measures are computed from responses to question such as “Did you smile or laugh a lot yesterday?”.\n",
    "9. **Negative affect** - Defined as the average of three negative affect measures. They are worry, sadness and anger, respectively. These measures are computed from responses to question such as “Did you feel sad a lot yesterday?”.\n",
    "10. **Confidence in national government** - Answer to “Do you have confidence in each of the following, or not? How about the national government?”\n",
    "11. **Democratic Quality & Delivery Quality**: both are based on Worldwide Governance Indicators (WGI) project. The original data has six dimensions: Voice and Accountability, Political Stability and Absence of Violence, GovernmentEffectiveness, Regulatory Quality, Rule of Law, Control of Corruption which are reduced to two here.\n",
    "12. **GDP**\n",
    "13. **Life expectancy birth**\n",
    "14. **Life expectancy age 60**\n",
    "15. **Infant mortality rate:** Deaths per 1000 births\n",
    "16. **Neonatal mortality rate:** neonatal deaths per 1000 births\n",
    "17. **Under-five mortality rate:** under five deaths per 1000 births\n",
    "18. **CPI:** World Corruption ranking\n"
   ]
  },
  {
   "cell_type": "code",
   "execution_count": null,
   "metadata": {},
   "outputs": [],
   "source": [
    "# Check for duplicated rows\n",
    "print(\"Number of duplicated rows: {}\".format(sum(main_df.duplicated())))"
   ]
  },
  {
   "cell_type": "code",
   "execution_count": null,
   "metadata": {},
   "outputs": [],
   "source": [
    "# Check dtypes\n",
    "df.dtypes"
   ]
  },
  {
   "cell_type": "code",
   "execution_count": null,
   "metadata": {
    "collapsed": true
   },
   "outputs": [],
   "source": [
    "# Convert country and Happiness Score to categorical\n",
    "df[\"country\"] = df[\"country\"].astype(\"category\")\n",
    "df[\"Happiness Score\"] = df[\"Happiness Score\"].astype(\"category\")\n",
    "df[\"year\"] = df[\"year\"].astype(int)"
   ]
  },
  {
   "cell_type": "code",
   "execution_count": null,
   "metadata": {},
   "outputs": [],
   "source": [
    "# Check number of countries\n",
    "print(\"Number of countries in dataset: {}\".format(len(main_df.country.unique())))"
   ]
  },
  {
   "cell_type": "code",
   "execution_count": null,
   "metadata": {},
   "outputs": [],
   "source": [
    "# Show for how many countries the happiness score is available in what time span\n",
    "ax = df.country.value_counts().value_counts().plot(kind=\"bar\")\n",
    "ax.set_xlabel(\"Recorded Years of Happiness Score\")\n",
    "ax.set_ylabel(\"Number of Countries\")"
   ]
  },
  {
   "cell_type": "markdown",
   "metadata": {},
   "source": [
    "As we can see there are 64 countries for which we have a happiness score 12 years back. We are however only interested in the first 10 years, so we drop anything that is before 2008. Other countries have less data available but we thought this was no problem."
   ]
  },
  {
   "cell_type": "code",
   "execution_count": null,
   "metadata": {
    "collapsed": true
   },
   "outputs": [],
   "source": [
    "# drop years 2006 and 2007\n",
    "df = df.drop(df[df.year < 2008].index)"
   ]
  },
  {
   "cell_type": "code",
   "execution_count": null,
   "metadata": {},
   "outputs": [],
   "source": [
    "# Show for how many countries the happiness score is available in what time span\n",
    "ax = df.country.value_counts().value_counts().plot(kind=\"bar\")\n",
    "ax.set_xlabel(\"Recorded Years of Happiness Score\")\n",
    "ax.set_ylabel(\"Number of Countries\")"
   ]
  },
  {
   "cell_type": "markdown",
   "metadata": {},
   "source": [
    "### Part B - Data Quality Report\n",
    "#### Continous Data"
   ]
  },
  {
   "cell_type": "code",
   "execution_count": null,
   "metadata": {
    "collapsed": true
   },
   "outputs": [],
   "source": [
    "#Get descriptive stats for continous data\n",
    "con_feat = df.describe(exclude=[\"category\"]).T\n",
    "\n",
    "#Create a DF containing only continous data\n",
    "con_df = df.select_dtypes(include=[np.number])\n",
    "con_df.index = df.index\n",
    "\n",
    "#Add Median\n",
    "con_feat[\"median\"] = con_df.median()\n",
    "\n",
    "#Add Cardinality\n",
    "con_feat[\"card\"] = con_df.apply(pd.Series.nunique)\n",
    "\n",
    "#Add percentage missing by checking for missing data in each column. \n",
    "#NOTE: This only considers NA values as missing. Data could still be absent\n",
    "#      but replaced with a \"dummy\" entry such as a blank space or a zero.\n",
    "#      This issue Will be adressed in the Data Quality plan.\n",
    "con_feat[\"missPerc\"] = con_df.isnull().apply(pd.Series.sum)/df.shape[0]"
   ]
  },
  {
   "cell_type": "code",
   "execution_count": null,
   "metadata": {},
   "outputs": [],
   "source": [
    "#Prettify the result, rearrange columns and get rid of the 50th percentile column (same as median).\n",
    "con_feat = con_feat[[\"count\", \"missPerc\", \"card\", \"min\", \"25%\", \"mean\", \"median\", \"75%\", \"max\", \"std\"]]\n",
    "print(\"Descriptive statistics for continous features:\\n\")\n",
    "#Rounding will not get saved. Is only done so that an overview of the df is easier to read.\n",
    "display(con_feat.round(2))"
   ]
  },
  {
   "cell_type": "code",
   "execution_count": null,
   "metadata": {},
   "outputs": [],
   "source": [
    "#Plot histogram for continous features\n",
    "df.hist(figsize=(15,20))\n",
    "\n",
    "#Show the plot and then proceed to clear the current figure to reuse for other plots\n",
    "plt.show()\n",
    "plt.clf()"
   ]
  },
  {
   "cell_type": "markdown",
   "metadata": {},
   "source": [
    "#### Categorical Data"
   ]
  },
  {
   "cell_type": "code",
   "execution_count": null,
   "metadata": {},
   "outputs": [],
   "source": [
    "#Get descriptive stats for continous data\n",
    "cat_feat = df.describe(include=[\"category\"]).T\n",
    "\n",
    "#rename some coulmns for improved understanding\n",
    "cat_feat.rename(index=str, columns={\"unique\":\"card\", \"top\":\"mode\", \"freq\":\"modeFreq\"}, inplace=True)\n",
    "\n",
    "#Create a DF containing only categorical data\n",
    "cat_df = df.select_dtypes(include=[\"category\"])\n",
    "cat_df.index = df.index\n",
    "\n",
    "#Add percentage missing by checking for missing data in each column. \n",
    "#NOTE: This only considers NA values as missing. Data could still be absent\n",
    "#      but replaced with a \"dummy\" entry such as a blank space or a zero.\n",
    "#      This issue Will be adressed in the Data Quality plan.\n",
    "missing = cat_df.isnull().apply(pd.Series.sum)\n",
    "print(\"Missing count for each categorical feature:\\n\")\n",
    "print(missing)\n",
    "cat_feat[\"missPerc\"] = missing/1000 * 100"
   ]
  },
  {
   "cell_type": "code",
   "execution_count": null,
   "metadata": {},
   "outputs": [],
   "source": [
    "#Add mode percentage \n",
    "cat_feat[\"modePerc\"] = cat_feat.modeFreq/1000 * 100\n",
    "\n",
    "#Add 2n mode category, frequency and percentage\n",
    "#First get the 2n mode value for each column and its count\n",
    "sec_mode = []\n",
    "sec_mode_count = []\n",
    "for col in cat_df:\n",
    "    cat_df[col].cat.categories\n",
    "    sec_mode.append(cat_df[col].value_counts().index[1])\n",
    "    sec_mode_count.append(cat_df[col].value_counts().iloc[1])\n",
    "\n",
    "#Add to df\n",
    "cat_feat[\"secMode\"] = sec_mode\n",
    "cat_feat[\"secModeFreq\"] = sec_mode_count\n",
    "cat_feat[\"secModePerc\"] = cat_feat.secModeFreq/1000 * 100\n",
    "\n",
    "#Prettify the result, rearrange columns etc.\n",
    "cat_feat = cat_feat[[\"count\", \"missPerc\", \"card\", \"mode\", \"modeFreq\", \"modePerc\", \"secMode\", \"secModeFreq\", \"secModePerc\" ]]\n",
    "print(\"Descriptive statistics for categorical features:\")\n",
    "display(cat_feat)"
   ]
  },
  {
   "cell_type": "code",
   "execution_count": null,
   "metadata": {},
   "outputs": [],
   "source": [
    "#plot happiness\n",
    "fig = cat_df[\"Happiness Score\"].value_counts().plot(kind=\"bar\", title=col, figsize=(15, 10))\n",
    "plt.show()\n",
    "    \n",
    "#Close pdf and clear figure\n",
    "plt.clf()"
   ]
  },
  {
   "cell_type": "markdown",
   "metadata": {},
   "source": [
    "### Part C - Data Quality Plan\n",
    "The categorical data seems fine. We have no missing values in any row and the cardinality seems appropriate for both features. There seems to be more work for the continous data as we have a substantial amount of missing data. Before that though a quick look at the other issues. GDP seemed to have a very low minimum and very high maximum. So I investigate it next."
   ]
  },
  {
   "cell_type": "code",
   "execution_count": null,
   "metadata": {},
   "outputs": [],
   "source": [
    "df.dtypes"
   ]
  },
  {
   "cell_type": "code",
   "execution_count": null,
   "metadata": {},
   "outputs": [],
   "source": [
    "# Min GDP Country\n",
    "df[df.GDP == min(df.GDP)]"
   ]
  },
  {
   "cell_type": "code",
   "execution_count": null,
   "metadata": {},
   "outputs": [],
   "source": [
    "# Max GDP country\n",
    "df[df.GDP == max(df.GDP)]"
   ]
  },
  {
   "cell_type": "markdown",
   "metadata": {},
   "source": [
    "The values for GDP seem to be fine after seeing that the lowest one belongs to a very small country and the highest one to USA. Next I will investigate any missing data. There are several columns for which only a tiny fraction is missing such as Social support shown below. So for these cases I just replace each missing value with the countries average value for that column"
   ]
  },
  {
   "cell_type": "code",
   "execution_count": null,
   "metadata": {},
   "outputs": [],
   "source": [
    "df[df[\"Social support\"].isnull()]"
   ]
  },
  {
   "cell_type": "code",
   "execution_count": null,
   "metadata": {
    "collapsed": true
   },
   "outputs": [],
   "source": [
    "# Define a helper function which gets the average for a selected country's column values\n",
    "def get_average(Country, col):\n",
    "    '''Gets the average of a country's column values\n",
    "    '''\n",
    "    average = df[df.country==Country][col].mean()\n",
    "    return average"
   ]
  },
  {
   "cell_type": "code",
   "execution_count": null,
   "metadata": {
    "collapsed": true
   },
   "outputs": [],
   "source": [
    "# Replace the missing values for \"Social support\", \"Healthy life expectancy at birth\", \"Freedom to make life choices\", \"Generosity\", \"Perceptions of corruption\", \"Positive affect\", \"Negative affect\", \"Confidence in national government\", \"Democratic Quality\", \"Delivery Quality\", \"GDP\"\n",
    "for col in [\"Social support\", \"Healthy life expectancy at birth\", \"Freedom to make life choices\", \"Generosity\", \"Perceptions of corruption\", \"Positive affect\", \"Negative affect\", \"Confidence in national government\", \"Democratic Quality\", \"Delivery Quality\", \"GDP\"]:\n",
    "    Countries = df[df[col].isnull()].country\n",
    "    Years =  df[df[col].isnull()].year\n",
    "    for Country, Year in zip(Countries, Years):\n",
    "        df.at[(df.country==Country) & (df.year==Year), col] =  get_average(Country, col)"
   ]
  },
  {
   "cell_type": "markdown",
   "metadata": {},
   "source": [
    "Unfortunately this does not work for all of the selected columns. Some countires have no value at all for a certain feature, so naturally there is no average value that can be used to replace the missing value. One could replace the missing value by the worldwide average which is what I will do"
   ]
  },
  {
   "cell_type": "code",
   "execution_count": null,
   "metadata": {
    "collapsed": true
   },
   "outputs": [],
   "source": [
    "for col in [\"Healthy life expectancy at birth\", \"Generosity\", \"Perceptions of corruption\", \"Confidence in national government\", \"Democratic Quality\", \"Delivery Quality\", \"GDP\"]:\n",
    "    Countries = df[df[col].isnull()].country\n",
    "    Years =  df[df[col].isnull()].year\n",
    "    for Country, Year in zip(Countries, Years):\n",
    "        df.at[(df.country==Country) & (df.year==Year), col] =  df[col].mean()"
   ]
  },
  {
   "cell_type": "markdown",
   "metadata": {},
   "source": [
    "There are however a couple of features for which more data is missing, although there is an observanle trend to the amount that is missing. This depends on the dataset where the features came from. Data from the WHO has 33% missing, Infant mortality has 23% missing and CPI has 41% missing. Looking for trends in the missing data:"
   ]
  },
  {
   "cell_type": "code",
   "execution_count": null,
   "metadata": {},
   "outputs": [],
   "source": [
    "df[df[\"Life expectancy birth\"].isnull()].year.value_counts()"
   ]
  },
  {
   "cell_type": "code",
   "execution_count": null,
   "metadata": {},
   "outputs": [],
   "source": [
    "df[df[\"Life expectancy age 60\"].isnull()].year.value_counts()"
   ]
  },
  {
   "cell_type": "code",
   "execution_count": null,
   "metadata": {},
   "outputs": [],
   "source": [
    "# same for the other two values that came with the infant mortality data set\n",
    "df[df[\"Infant mortality rate\"].isnull()].year.value_counts()"
   ]
  },
  {
   "cell_type": "code",
   "execution_count": null,
   "metadata": {},
   "outputs": [],
   "source": [
    "df[df[\"CPI\"].isnull()].year.value_counts()"
   ]
  },
  {
   "cell_type": "markdown",
   "metadata": {},
   "source": [
    "Data seems to be missing mostly for the years 2016 and 2017. This makes sense as these are very recent and therefore not much was published on it. However since it is under 30% for all except CPI, I replace it with the countrys average, and if that does not exist then with the worldwide average. Hover CPI will be dropped as we do not have enough data considering it only ranges back to 2012. This is unfortunate, and if one wanted to include it in the dataset one would have to focus on only 2012-2017. Replacing five years worth of data with an average seems unrealistic to me. For one or two years I imagine that the average is a good approximation but for CPI there is just too much missing"
   ]
  },
  {
   "cell_type": "code",
   "execution_count": null,
   "metadata": {
    "collapsed": true
   },
   "outputs": [],
   "source": [
    "# Replace the missing values for \"Life expectancy birth\", \"Life expectancy age 60\", \"Infant mortality rate\", \"Neonatal mortality rate\", \"Under-five mortality rate\"\n",
    "for col in [\"Life expectancy birth\", \"Life expectancy age 60\", \"Infant mortality rate\", \"Neonatal mortality rate\", \"Under-five mortality rate\"]:\n",
    "    Countries = df[df[col].isnull()].country\n",
    "    Years =  df[df[col].isnull()].year\n",
    "    for Country, Year in zip(Countries, Years):\n",
    "        df.at[(df.country==Country) & (df.year==Year), col] =  get_average(Country, col)"
   ]
  },
  {
   "cell_type": "code",
   "execution_count": null,
   "metadata": {
    "collapsed": true
   },
   "outputs": [],
   "source": [
    "# Replace by worldwide average evrything for which there was no national average\n",
    "for col in [\"Life expectancy birth\", \"Life expectancy age 60\", \"Infant mortality rate\", \"Neonatal mortality rate\", \"Under-five mortality rate\"]:\n",
    "    Countries = df[df[col].isnull()].country\n",
    "    Years =  df[df[col].isnull()].year\n",
    "    for Country, Year in zip(Countries, Years):\n",
    "        df.at[(df.country==Country) & (df.year==Year), col] =  df[col].mean()"
   ]
  },
  {
   "cell_type": "code",
   "execution_count": null,
   "metadata": {},
   "outputs": [],
   "source": [
    "# drop CPI\n",
    "df.drop([\"CPI\"], axis=1, inplace=True)"
   ]
  },
  {
   "cell_type": "code",
   "execution_count": null,
   "metadata": {
    "collapsed": true
   },
   "outputs": [],
   "source": [
    "# write cleaned df to csv\n",
    "df.to_csv(\"processed_data/cleaned_merged_happiness_data.csv\", index=False)"
   ]
  },
  {
   "cell_type": "markdown",
   "metadata": {},
   "source": [
    "## PART 3: Data Understanding\n",
    "The last section in this notebook will be comitted to Data Understanding. This does not look for correlation between target and descriptive features but rather serves as an overview of the data and how it has developed over the past years. Maybe we will observe some interesting trends which can then be confirmed via the correlation steps in the next part.  "
   ]
  },
  {
   "cell_type": "code",
   "execution_count": null,
   "metadata": {},
   "outputs": [],
   "source": [
    "# Convert the target feature from categorical to numeric for plotting\n",
    "df[\"Happiness Score\"] = df[\"Happiness Score\"].astype(int)\n",
    "df.head()"
   ]
  },
  {
   "cell_type": "markdown",
   "metadata": {},
   "source": [
    "One thing we thought was interesting was to see the development of each feature over the past 10 years. It would be interesting to see it for each country, however considering we have over 150 countries this would be far too much. So we looked at it in groupings, first worldwide and then divided up into Continents/Regions. \n",
    "\n",
    "One noteworthy thing we did for plotting is that we zoomed out quite far by setting the range of the y-axis as the lowest/heighest value that would make sense for that feature. We did that because we were more interested in the overall trend and less so in fluctuations. For example, the average of the worldwide Happiness Score when plotted naturally, shows  a lot of ups and downs, but this is really just in the range of -0.1 to +0.1 so not too significant. So really, it just did not change over the past 10 years, which is nicely seen when one zooms out to the natural limits for that feature (0 and 10)."
   ]
  },
  {
   "cell_type": "code",
   "execution_count": null,
   "metadata": {},
   "outputs": [],
   "source": [
    "# plot the worldwide trends over the last 10 years for selected features\n",
    "fig, axes = plt.subplots(nrows=5, ncols=2, figsize=(15,20))\n",
    "\n",
    "df.groupby(\"year\")[\"Happiness Score\"].mean().plot(ax=axes[0,0])\n",
    "axes[0, 0].set_ylim(0,10)\n",
    "axes[0, 0].set_ylabel(\"Happiness Score\")\n",
    "\n",
    "df.groupby(\"year\")[\"Social support\"].mean().plot(ax=axes[0,1])\n",
    "axes[0, 1].set_ylim(0, 1)\n",
    "axes[0, 1].set_ylabel(\"Social Support\")\n",
    "\n",
    "df.groupby(\"year\")[\"Healthy life expectancy at birth\"].mean().plot(ax=axes[1,0])\n",
    "axes[1, 0].set_ylim(50, 80)\n",
    "axes[1, 0].set_ylabel(\"Healthy life expectancy at birth\")\n",
    "\n",
    "df.groupby(\"year\")[\"Freedom to make life choices\"].mean().plot(ax=axes[1,1])\n",
    "axes[1, 1].set_ylim(0, 1)\n",
    "axes[1, 1].set_ylabel(\"Freedom to make life choices\")\n",
    "\n",
    "df.groupby(\"year\")[\"GDP\"].mean().plot(ax=axes[2,0])\n",
    "axes[2, 0].set_ylim(500, 600)\n",
    "axes[2, 0].set_ylabel(\"GDP\")\n",
    "\n",
    "df.groupby(\"year\")[\"Infant mortality rate\"].mean().plot(ax=axes[2,1])\n",
    "axes[2, 1].set_ylim(0, 35)\n",
    "axes[2, 1].set_ylabel(\"Infant mortality rate\")\n",
    "\n",
    "df.groupby(\"year\")[\"Positive affect\"].mean().plot(ax=axes[3,0])\n",
    "axes[3, 0].set_ylim(0, 1)\n",
    "axes[3, 0].set_ylabel(\"Positive affect\")\n",
    "\n",
    "df.groupby(\"year\")[\"Negative affect\"].mean().plot(ax=axes[3,1])\n",
    "axes[3, 1].set_ylim(0, 1)\n",
    "axes[3, 1].set_ylabel(\"Negative affect\")\n",
    "\n",
    "df.groupby(\"year\")[\"Democratic Quality\"].mean().plot(ax=axes[4,0])\n",
    "axes[4, 0].set_ylim(-2, 2)\n",
    "axes[4, 0].set_ylabel(\"Democratic Quality\")\n",
    "\n",
    "df.groupby(\"year\")[\"Confidence in national government\"].mean().plot(ax=axes[4,1])\n",
    "axes[4, 1].set_ylim(0, 1)\n",
    "axes[4, 1].set_ylabel(\"Confidence in national government\")"
   ]
  },
  {
   "cell_type": "markdown",
   "metadata": {},
   "source": [
    "Observing the trends we cam make out some interesting developments. Many of the features, for the worldwide average, simply seemed to have stagnated. There does not seem to be an overall increase/decrease for features such as Democratic Quality, Positive affect or Happiness. However others showed a trend. Infant mortality rate has been steadily decreasing, so it will be interesting to see if that will correlate inversly with happiness score. In contrast, features such as \"Healthy life expectancy at birth\" and showed \"Freedom to make life choices\" showed a slight positive trend.\n",
    "\n",
    "The reason why so many lines show little or no change is likely because we are looking at the worldwide average here. Surely, there must be regional differences so that is what we look at next."
   ]
  },
  {
   "cell_type": "code",
   "execution_count": null,
   "metadata": {
    "collapsed": true
   },
   "outputs": [],
   "source": [
    "# read in a dataset that contains a list of countrys annotated with their region\n",
    "regions = pd.read_csv(\"raw_data/WHR151617.csv\")\n",
    "regions = regions[[\"Country\", \"Region\"]]\n",
    "regions.drop_duplicates(inplace=True)\n",
    "regions.dropna(inplace=True)"
   ]
  },
  {
   "cell_type": "code",
   "execution_count": null,
   "metadata": {
    "collapsed": true
   },
   "outputs": [],
   "source": [
    "# work on a copy of the original df to quickly restore it without having to rerun notebook\n",
    "main_df = df"
   ]
  },
  {
   "cell_type": "code",
   "execution_count": null,
   "metadata": {},
   "outputs": [],
   "source": [
    "# Merge region data with original df giving each country a region\n",
    "main_df = pd.merge(main_df, regions,  how='left', left_on=['country'], right_on = [\"Country\"])\n",
    "main_df.drop(\"Country\", axis=1, inplace=True)\n",
    "main_df"
   ]
  },
  {
   "cell_type": "code",
   "execution_count": null,
   "metadata": {},
   "outputs": [],
   "source": [
    "# plot the average happiness score by region over the past 10 years as a bar plot\n",
    "fig, ax = plt.subplots(figsize=(25,10))\n",
    "main_df.groupby([\"Region\", \"year\"])[\"Happiness Score\"].mean().unstack(level=0).plot(kind=\"bar\", ax=ax, width=0.7)\n",
    "ax.set_ylim(3, 8)\n",
    "ax.set_ylabel(\"Happiness Score\")\n",
    "ax.set_title(\"Trend of Happiness Score by Region\")\n",
    "ax.legend(bbox_to_anchor=(1,1))"
   ]
  },
  {
   "cell_type": "code",
   "execution_count": null,
   "metadata": {},
   "outputs": [],
   "source": [
    "# plot the average happiness score by region over the past 10 years as a line plot\n",
    "fig, ax = plt.subplots(figsize=(25,10))\n",
    "main_df.groupby([\"Region\", \"year\"])[\"Happiness Score\"].mean().unstack(level=0).plot(kind=\"line\", ax=ax)\n",
    "ax.set_ylim(3, 8)\n",
    "ax.set_ylabel(\"Happiness Score\")\n",
    "ax.set_title(\"Trend of Happiness Score by Region\")\n",
    "ax.legend(bbox_to_anchor=(1,1))"
   ]
  },
  {
   "cell_type": "markdown",
   "metadata": {},
   "source": [
    "Looking at the Happiness score as a line and bar plot by region allows one to see and compare the difference between regions as well as the overall trend. And although there is a bit of rearrangement between regions, with some \"overtaking\" others during the years there is no real difference between 2008 and 2017. Each regions score fluctuates a bit but often ends up at the same score, with some regions increasing it a bit and others dropping of. For example Australia and New Zealand stay consistently at 7. At this point it is worth noting that this does not mean there is no change at all. When we got the values as floats, we grouped them into bins according to the cantril ladder (0-10). So while the score for Australia and New Zealand could have maybe growing continously over the last 10 years (e.g. from 6.7-7) this trend is lost due to the bining.\n",
    "\n",
    "Finally we show some of the more interesting descriptive values and their trends. This might not be directly important for feature selection, but it helps getting familiar with the data."
   ]
  },
  {
   "cell_type": "code",
   "execution_count": null,
   "metadata": {},
   "outputs": [],
   "source": [
    "fig, ax = plt.subplots(figsize=(25,10))\n",
    "main_df.groupby([\"Region\", \"year\"])[\"Infant mortality rate\"].mean().unstack(level=0).plot(kind=\"bar\", ax=ax, width=0.7)\n",
    "#ax.set_ylim(3, 8)\n",
    "ax.set_ylabel(\"Infant mortality rate\")\n",
    "ax.set_title(\"Trend of Infant mortality rate by Region\")\n",
    "ax.legend(bbox_to_anchor=(1,1))"
   ]
  },
  {
   "cell_type": "code",
   "execution_count": null,
   "metadata": {},
   "outputs": [],
   "source": [
    "fig, ax = plt.subplots(figsize=(25,10))\n",
    "main_df.groupby([\"Region\", \"year\"])[\"GDP\"].mean().unstack(level=0).plot(kind=\"bar\", ax=ax, width=0.7)\n",
    "ax.set_ylabel(\"GDP\")\n",
    "ax.set_title(\"Trend of GDP by Region\")\n",
    "ax.legend(bbox_to_anchor=(1,1))"
   ]
  },
  {
   "cell_type": "code",
   "execution_count": null,
   "metadata": {},
   "outputs": [],
   "source": [
    "fig, ax = plt.subplots(figsize=(25,10))\n",
    "main_df.groupby([\"Region\", \"year\"])[\"Democratic Quality\"].mean().unstack(level=0).plot(kind=\"bar\", ax=ax, width=0.7)\n",
    "ax.set_ylabel(\"Democratic Quality\")\n",
    "ax.set_title(\"Trend of Democratic Quality by Region\")\n",
    "ax.legend(bbox_to_anchor=(1,1))"
   ]
  },
  {
   "cell_type": "code",
   "execution_count": null,
   "metadata": {},
   "outputs": [],
   "source": [
    "fig, ax = plt.subplots(figsize=(25,10))\n",
    "main_df.groupby([\"Region\", \"year\"])[\"Social support\"].mean().unstack(level=0).plot(kind=\"line\", ax=ax)\n",
    "ax.set_ylabel(\"Social support\")\n",
    "ax.set_title(\"Trend of Social support by Region\")\n",
    "ax.legend(bbox_to_anchor=(1,1))"
   ]
  },
  {
   "cell_type": "code",
   "execution_count": null,
   "metadata": {
    "collapsed": true
   },
   "outputs": [],
   "source": [
    "# New DF - Numerical features:\n",
    "continuous = df.select_dtypes(['int64', 'float64']).columns\n"
   ]
  },
  {
   "cell_type": "code",
   "execution_count": null,
   "metadata": {
    "collapsed": true
   },
   "outputs": [],
   "source": [
    "# Randomize the data:\n",
    "df = df.sample(frac=1).reset_index(drop=True)"
   ]
  },
  {
   "cell_type": "code",
   "execution_count": null,
   "metadata": {},
   "outputs": [],
   "source": [
    "# Create a training data set (first 70% of rows)\n",
    "training_size = int(len(df) * 0.7)\n",
    "df_train = df[:training_size]\n",
    "print(\"Training set size (rows):\",len(df_train))"
   ]
  },
  {
   "cell_type": "code",
   "execution_count": null,
   "metadata": {},
   "outputs": [],
   "source": [
    "# Create a test data set (remaining 30% of rows)\n",
    "training_size = int(len(df) * 0.7)\n",
    "df_test = df[training_size:]\n",
    "print(\"Test set:\",len(df_test))"
   ]
  },
  {
   "cell_type": "code",
   "execution_count": null,
   "metadata": {
    "collapsed": true
   },
   "outputs": [],
   "source": [
    "# A copy of df for full cross validation purposes\n",
    "df_cross = df"
   ]
  },
  {
   "cell_type": "markdown",
   "metadata": {},
   "source": [
    "#### Correlations between all continuous features (Continuous vs continuous):"
   ]
  },
  {
   "cell_type": "code",
   "execution_count": null,
   "metadata": {},
   "outputs": [],
   "source": [
    "sns.set(style=\"white\")\n",
    "# Calculate correlation of all pairs of continuous features\n",
    "corr = df_train[continuous].corr()\n",
    "\n",
    "# Generate a mask for the upper triangle\n",
    "mask = np.zeros_like(corr, dtype=np.bool)\n",
    "mask[np.triu_indices_from(mask)] = True\n",
    "\n",
    "# Set up the matplotlib figure\n",
    "f, ax = plt.subplots(figsize=(30, 30))\n",
    "\n",
    "# Generate a custom colormap - blue and red\n",
    "cmap = sns.diverging_palette(220, 10, as_cmap=True)\n",
    "\n",
    "# Draw the heatmap with the mask and correct aspect ratio\n",
    "sns.heatmap(corr, annot=True, mask=mask, cmap=cmap, vmax=1, vmin=-1,\n",
    "            square=True, xticklabels=True, yticklabels=True,\n",
    "            linewidths=.5, cbar_kws={\"shrink\": .5}, ax=ax)\n",
    "plt.yticks(rotation = 0)\n",
    "plt.xticks(rotation = 45)"
   ]
  },
  {
   "cell_type": "markdown",
   "metadata": {},
   "source": [
    "The heatmap above shows the correlation between all continuous features. This is useful for understanding which features affect other features. It is also useful for picking descriptive features to trian a model.\n",
    "\n",
    "In the context of our dataset so far this means that all of our features are in the heatmap because all of our features are currently continuous.\n",
    "\n",
    "The following features in df_train have a correlation of 80% or above:\n",
    "\n",
    "- Delivery quality - Democratic quality\n",
    "- Life expectancy age 60% - Life expectancy birth\n",
    "\n",
    "\n",
    "- Neonatal mortality rate - Infant mortality rates\n",
    "- Under-five mortality rate - Infant mortality rates\n",
    "\n",
    "\n",
    "- Under-five mortality rate - Neonatal mortality rate\n",
    "\n",
    "\n",
    "- Life expectancy at birth - Healthy life expectancy at birth\n",
    "- Life expectancy at age 60 - Healthy life expectancy at birth\n",
    "\n",
    "The following features in df_train have a correlation of -80% or below:\n",
    "- Infant mortality rate - Healthy life expectancy at birth\n",
    "- Neontal mortality rate - Healthy life expectancy at birth\n",
    "- Under-five mortality rate - Healthy life expectancy at birth\n",
    "\n",
    "\n",
    "- Infant mortality rate - Life expectancy at birth\n",
    "- Neontal mortality rate - Life expectancy at birth\n",
    "- Under-five mortality rate - Life expectancy at birth\n"
   ]
  },
  {
   "cell_type": "markdown",
   "metadata": {},
   "source": [
    "Continuous vs categorical features:\n",
    "\n",
    "Having looked at the heat map, we decided to further examine the correlations between the continuous features and the target feature. Having plotted the scatterplots and reflected upon which features we wanted to include as descriptive features in our model, we chose:\n",
    "- Social support\n",
    "- Healthy life expectancy at birth\n",
    "- Democratic Quality, Delivery Quality\n",
    "- Life expectancy age 60\n",
    "- Infant mortality rate\n",
    "- Positive affect\n",
    "\n",
    "Their scatter plots are below:"
   ]
  },
  {
   "cell_type": "code",
   "execution_count": null,
   "metadata": {},
   "outputs": [],
   "source": [
    "fig, axs = plt.subplots(2,3, sharey=True)\n",
    "\n",
    "df_train.plot(kind='scatter', y='Happiness Score', x='Social support', label=\"%.3f\" % df_train[['Social support', 'Happiness Score']].corr().as_matrix()[0,1], ax=axs[0,0], figsize=(15, 6))\n",
    "df_train.plot(kind='scatter', y='Happiness Score', x='Healthy life expectancy at birth', label=\"%.3f\" % df_train[['Healthy life expectancy at birth', 'Happiness Score']].corr().as_matrix()[0,1], ax=axs[0,1], figsize=(15, 6))\n",
    "df_train.plot(kind='scatter', y='Happiness Score', x='Democratic Quality', label=\"%.3f\" % df_train[['Democratic Quality', 'Happiness Score']].corr().as_matrix()[0,1], ax=axs[1,0], figsize=(15, 6))\n",
    "df_train.plot(kind='scatter', y='Happiness Score', x='Delivery Quality', label=\"%.3f\" % df_train[['Delivery Quality', 'Happiness Score']].corr().as_matrix()[0,1], ax=axs[1,1], figsize=(15, 6))\n",
    "df_train.plot(kind='scatter', y='Happiness Score', x='Life expectancy age 60', label=\"%.3f\" % df_train[['Life expectancy age 60', 'Happiness Score']].corr().as_matrix()[0,1], ax=axs[1,2], figsize=(15, 6))\n",
    "df_train.plot(kind='scatter', y='Happiness Score', x='Infant mortality rate', label=\"%.3f\" % df_train[['Infant mortality rate', 'Happiness Score']].corr().as_matrix()[0,1], ax=axs[0,2], figsize=(15, 6))\n",
    "\n",
    "\n",
    "df_train.plot(kind='scatter', y='Happiness Score', x='Positive affect', label=\"%.3f\" % df_train[['Positive affect', 'Happiness Score']].corr().as_matrix()[0,1], figsize=(15, 2))"
   ]
  },
  {
   "cell_type": "markdown",
   "metadata": {},
   "source": [
    "The correlation plots for the other continuous features are below:"
   ]
  },
  {
   "cell_type": "code",
   "execution_count": null,
   "metadata": {},
   "outputs": [],
   "source": [
    "fig, axs = plt.subplots(2,3, sharey=True)\n",
    "\n",
    "df_train.plot(kind='scatter', y='Happiness Score', x='Freedom to make life choices', label=\"%.3f\" % df_train[['Freedom to make life choices', 'Happiness Score']].corr().as_matrix()[0,1], ax=axs[0,0], figsize=(15, 6))\n",
    "df_train.plot(kind='scatter', y='Happiness Score', x='Perceptions of corruption', label=\"%.3f\" % df_train[['Perceptions of corruption', 'Happiness Score']].corr().as_matrix()[0,1], ax=axs[0,1], figsize=(15, 6))\n",
    "df_train.plot(kind='scatter', y='Happiness Score', x='Generosity', label=\"%.3f\" % df_train[['Generosity', 'Happiness Score']].corr().as_matrix()[0,1], ax=axs[0,2], figsize=(15, 6))\n",
    "df_train.plot(kind='scatter', y='Happiness Score', x='Negative affect', label=\"%.3f\" % df_train[['Negative affect', 'Happiness Score']].corr().as_matrix()[0,1], ax=axs[1,0], figsize=(15, 6))\n",
    "df_train.plot(kind='scatter', y='Happiness Score', x='Confidence in national government', label=\"%.3f\" % df_train[['Confidence in national government', 'Happiness Score']].corr().as_matrix()[0,1], ax=axs[1,1], figsize=(15, 6))\n",
    "df_train.plot(kind='scatter', y='Happiness Score', x='GDP', label=\"%.3f\" % df_train[['GDP', 'Happiness Score']].corr().as_matrix()[0,1], ax=axs[1,2], figsize=(15, 6))\n"
   ]
  },
  {
   "cell_type": "code",
   "execution_count": null,
   "metadata": {},
   "outputs": [],
   "source": [
    "df_train.plot(kind='scatter', y='Happiness Score', x='Life expectancy birth', label=\"%.3f\" % df_train[['Confidence in national government', 'Happiness Score']].corr().as_matrix()[0,1], figsize=(8, 2))\n",
    "df_train.plot(kind='scatter', y='Happiness Score', x='Neonatal mortality rate', label=\"%.3f\" % df_train[['Neonatal mortality rate', 'Happiness Score']].corr().as_matrix()[0,1], figsize=(8, 2))\n",
    "df_train.plot(kind='scatter', y='Happiness Score', x='Under-five mortality rate', label=\"%.3f\" % df_train[['Under-five mortality rate', 'Happiness Score']].corr().as_matrix()[0,1], figsize=(8, 2))"
   ]
  },
  {
   "cell_type": "markdown",
   "metadata": {},
   "source": [
    "# Linear Regression\n",
    "\n",
    "We will not train a linear regression model on the data set to produce a set of weights, one for each feature. Those weights will then be applied to the actual values plus an intercept to predict the Happiness Score.\n",
    "\n",
    "formula: target_feature = w0 + w1 ∗ feature1 + w2 ∗ feature2 + ... + wn ∗ featuren"
   ]
  },
  {
   "cell_type": "markdown",
   "metadata": {},
   "source": [
    "### Read data from CSV file.\n",
    "\n",
    "The cleaned data from ealier has been saved to a csv file which I will now use."
   ]
  },
  {
   "cell_type": "code",
   "execution_count": 150,
   "metadata": {},
   "outputs": [
    {
     "data": {
      "text/html": [
       "<div>\n",
       "<style>\n",
       "    .dataframe thead tr:only-child th {\n",
       "        text-align: right;\n",
       "    }\n",
       "\n",
       "    .dataframe thead th {\n",
       "        text-align: left;\n",
       "    }\n",
       "\n",
       "    .dataframe tbody tr th {\n",
       "        vertical-align: top;\n",
       "    }\n",
       "</style>\n",
       "<table border=\"1\" class=\"dataframe\">\n",
       "  <thead>\n",
       "    <tr style=\"text-align: right;\">\n",
       "      <th></th>\n",
       "      <th>country</th>\n",
       "      <th>year</th>\n",
       "      <th>Happiness Score</th>\n",
       "      <th>Social support</th>\n",
       "      <th>Healthy life expectancy at birth</th>\n",
       "      <th>Freedom to make life choices</th>\n",
       "      <th>Generosity</th>\n",
       "      <th>Perceptions of corruption</th>\n",
       "      <th>Positive affect</th>\n",
       "      <th>Negative affect</th>\n",
       "      <th>Confidence in national government</th>\n",
       "      <th>Democratic Quality</th>\n",
       "      <th>Delivery Quality</th>\n",
       "      <th>GDP</th>\n",
       "      <th>Life expectancy birth</th>\n",
       "      <th>Life expectancy age 60</th>\n",
       "      <th>Infant mortality rate</th>\n",
       "      <th>Neonatal mortality rate</th>\n",
       "      <th>Under-five mortality rate</th>\n",
       "    </tr>\n",
       "  </thead>\n",
       "  <tbody>\n",
       "    <tr>\n",
       "      <th>0</th>\n",
       "      <td>Congo (Brazzaville)</td>\n",
       "      <td>2014</td>\n",
       "      <td>4</td>\n",
       "      <td>0.685935</td>\n",
       "      <td>53.826542</td>\n",
       "      <td>0.661638</td>\n",
       "      <td>-0.146381</td>\n",
       "      <td>0.808413</td>\n",
       "      <td>0.595255</td>\n",
       "      <td>0.400229</td>\n",
       "      <td>0.483726</td>\n",
       "      <td>-0.733802</td>\n",
       "      <td>-1.153099</td>\n",
       "      <td>545.398597</td>\n",
       "      <td>71.220369</td>\n",
       "      <td>19.669297</td>\n",
       "      <td>24.254883</td>\n",
       "      <td>13.925473</td>\n",
       "      <td>33.447346</td>\n",
       "    </tr>\n",
       "    <tr>\n",
       "      <th>1</th>\n",
       "      <td>Mongolia</td>\n",
       "      <td>2014</td>\n",
       "      <td>5</td>\n",
       "      <td>0.943437</td>\n",
       "      <td>61.685921</td>\n",
       "      <td>0.752354</td>\n",
       "      <td>0.130436</td>\n",
       "      <td>0.908597</td>\n",
       "      <td>0.627492</td>\n",
       "      <td>0.170421</td>\n",
       "      <td>0.337257</td>\n",
       "      <td>0.516673</td>\n",
       "      <td>-0.381374</td>\n",
       "      <td>12.196000</td>\n",
       "      <td>68.400000</td>\n",
       "      <td>16.800000</td>\n",
       "      <td>16.900000</td>\n",
       "      <td>10.700000</td>\n",
       "      <td>19.800000</td>\n",
       "    </tr>\n",
       "  </tbody>\n",
       "</table>\n",
       "</div>"
      ],
      "text/plain": [
       "               country  year  Happiness Score  Social support  \\\n",
       "0  Congo (Brazzaville)  2014                4        0.685935   \n",
       "1             Mongolia  2014                5        0.943437   \n",
       "\n",
       "   Healthy life expectancy at birth  Freedom to make life choices  Generosity  \\\n",
       "0                         53.826542                      0.661638   -0.146381   \n",
       "1                         61.685921                      0.752354    0.130436   \n",
       "\n",
       "   Perceptions of corruption  Positive affect  Negative affect  \\\n",
       "0                   0.808413         0.595255         0.400229   \n",
       "1                   0.908597         0.627492         0.170421   \n",
       "\n",
       "   Confidence in national government  Democratic Quality  Delivery Quality  \\\n",
       "0                           0.483726           -0.733802         -1.153099   \n",
       "1                           0.337257            0.516673         -0.381374   \n",
       "\n",
       "          GDP  Life expectancy birth  Life expectancy age 60  \\\n",
       "0  545.398597              71.220369               19.669297   \n",
       "1   12.196000              68.400000               16.800000   \n",
       "\n",
       "   Infant mortality rate  Neonatal mortality rate  Under-five mortality rate  \n",
       "0              24.254883                13.925473                  33.447346  \n",
       "1              16.900000                10.700000                  19.800000  "
      ]
     },
     "execution_count": 150,
     "metadata": {},
     "output_type": "execute_result"
    }
   ],
   "source": [
    "df = pd.read_csv('processed_data/cleaned_merged_happiness_data.csv')\n",
    "\n",
    "df.head(2)"
   ]
  },
  {
   "cell_type": "markdown",
   "metadata": {},
   "source": [
    "### Changed column headers to remove spaces/capital letters and abbreviate descriptions\n",
    "\n",
    "I have decided to make some changes to the column headers to make them easier to work with. All changes can be viewed below:  \n",
    "country = country  \n",
    "year = year  \n",
    "happiness_score = Happiness Score  \n",
    "social_support = Social support  \n",
    "healthy_life_exp_birth = Healthy life expectancy at birth  \n",
    "life_choices = Freedom to make life choices  \n",
    "generosity = Generosity  \n",
    "corruption = Perceptions of corruption  \n",
    "pos_effect = Positive affect  \n",
    "neg_affect = Negative affect  \n",
    "confidence_gov = Confidence in national government  \n",
    "dem_quality = Demoncratic Quality  \n",
    "gdp = GDP  \n",
    "life_exp_birth = Life expectancy birth  \n",
    "life_exp_60 = Life expectancy age 60  \n",
    "infant_mortality = Infant mortality rate  \n",
    "neonatal_mortality = Neonatal mortality rate  \n",
    "u5_mortaility = Under-five mortality rate  "
   ]
  },
  {
   "cell_type": "code",
   "execution_count": 151,
   "metadata": {
    "collapsed": true
   },
   "outputs": [],
   "source": [
    "df.columns = [\"country\", \"year\", \"happiness_score\", \"social_support\", \"healthy_life_exp_birth\", \"life_choices\", \"generosity\", \"corruption\", \"pos_affect\", \"neg_affect\", \"confidence_gov\", \"dem_quality\", \"delivery_quality\", \"gdp\", \"life_exp_birth\", \"life_exp_60\", \"infant_mortality\", \"neonatal_mortality\", \"u5_mortality\"]"
   ]
  },
  {
   "cell_type": "markdown",
   "metadata": {},
   "source": [
    "### Transform happiness_score to a binary class & insert as happiness_class\n",
    "\n",
    "We were initially going to predict a happiness_score between 0-10 but later decided to predict a binary result with a threshold of 5. I have applied the threshold to the happiness_score to create a new column called happiness_class. A happiness_scores of 5 and above becomes 1, with happiness_scores of less than 5 becoming 0.\n"
   ]
  },
  {
   "cell_type": "code",
   "execution_count": 152,
   "metadata": {
    "collapsed": true
   },
   "outputs": [],
   "source": [
    "happiness_class = (df['happiness_score']>5)*1.0\n",
    "df_happiness_class = pd.DataFrame({'happiness_class':happiness_class})\n",
    "df = pd.concat([df, df_happiness_class], axis=1)"
   ]
  },
  {
   "cell_type": "code",
   "execution_count": 153,
   "metadata": {},
   "outputs": [
    {
     "data": {
      "text/html": [
       "<div>\n",
       "<style>\n",
       "    .dataframe thead tr:only-child th {\n",
       "        text-align: right;\n",
       "    }\n",
       "\n",
       "    .dataframe thead th {\n",
       "        text-align: left;\n",
       "    }\n",
       "\n",
       "    .dataframe tbody tr th {\n",
       "        vertical-align: top;\n",
       "    }\n",
       "</style>\n",
       "<table border=\"1\" class=\"dataframe\">\n",
       "  <thead>\n",
       "    <tr style=\"text-align: right;\">\n",
       "      <th></th>\n",
       "      <th>country</th>\n",
       "      <th>year</th>\n",
       "      <th>happiness_score</th>\n",
       "      <th>social_support</th>\n",
       "      <th>healthy_life_exp_birth</th>\n",
       "      <th>life_choices</th>\n",
       "      <th>generosity</th>\n",
       "      <th>corruption</th>\n",
       "      <th>pos_affect</th>\n",
       "      <th>neg_affect</th>\n",
       "      <th>confidence_gov</th>\n",
       "      <th>dem_quality</th>\n",
       "      <th>delivery_quality</th>\n",
       "      <th>gdp</th>\n",
       "      <th>life_exp_birth</th>\n",
       "      <th>life_exp_60</th>\n",
       "      <th>infant_mortality</th>\n",
       "      <th>neonatal_mortality</th>\n",
       "      <th>u5_mortality</th>\n",
       "      <th>happiness_class</th>\n",
       "    </tr>\n",
       "  </thead>\n",
       "  <tbody>\n",
       "    <tr>\n",
       "      <th>0</th>\n",
       "      <td>Congo (Brazzaville)</td>\n",
       "      <td>2014</td>\n",
       "      <td>4</td>\n",
       "      <td>0.685935</td>\n",
       "      <td>53.826542</td>\n",
       "      <td>0.661638</td>\n",
       "      <td>-0.146381</td>\n",
       "      <td>0.808413</td>\n",
       "      <td>0.595255</td>\n",
       "      <td>0.400229</td>\n",
       "      <td>0.483726</td>\n",
       "      <td>-0.733802</td>\n",
       "      <td>-1.153099</td>\n",
       "      <td>545.398597</td>\n",
       "      <td>71.220369</td>\n",
       "      <td>19.669297</td>\n",
       "      <td>24.254883</td>\n",
       "      <td>13.925473</td>\n",
       "      <td>33.447346</td>\n",
       "      <td>0.0</td>\n",
       "    </tr>\n",
       "    <tr>\n",
       "      <th>1</th>\n",
       "      <td>Mongolia</td>\n",
       "      <td>2014</td>\n",
       "      <td>5</td>\n",
       "      <td>0.943437</td>\n",
       "      <td>61.685921</td>\n",
       "      <td>0.752354</td>\n",
       "      <td>0.130436</td>\n",
       "      <td>0.908597</td>\n",
       "      <td>0.627492</td>\n",
       "      <td>0.170421</td>\n",
       "      <td>0.337257</td>\n",
       "      <td>0.516673</td>\n",
       "      <td>-0.381374</td>\n",
       "      <td>12.196000</td>\n",
       "      <td>68.400000</td>\n",
       "      <td>16.800000</td>\n",
       "      <td>16.900000</td>\n",
       "      <td>10.700000</td>\n",
       "      <td>19.800000</td>\n",
       "      <td>0.0</td>\n",
       "    </tr>\n",
       "    <tr>\n",
       "      <th>2</th>\n",
       "      <td>Costa Rica</td>\n",
       "      <td>2009</td>\n",
       "      <td>8</td>\n",
       "      <td>0.899782</td>\n",
       "      <td>68.641197</td>\n",
       "      <td>0.886061</td>\n",
       "      <td>0.065729</td>\n",
       "      <td>0.786559</td>\n",
       "      <td>0.876206</td>\n",
       "      <td>0.217024</td>\n",
       "      <td>0.521350</td>\n",
       "      <td>0.796451</td>\n",
       "      <td>0.517226</td>\n",
       "      <td>30.826000</td>\n",
       "      <td>79.200000</td>\n",
       "      <td>23.700000</td>\n",
       "      <td>8.900000</td>\n",
       "      <td>6.700000</td>\n",
       "      <td>10.300000</td>\n",
       "      <td>1.0</td>\n",
       "    </tr>\n",
       "    <tr>\n",
       "      <th>3</th>\n",
       "      <td>Romania</td>\n",
       "      <td>2017</td>\n",
       "      <td>6</td>\n",
       "      <td>0.811240</td>\n",
       "      <td>66.857086</td>\n",
       "      <td>0.838587</td>\n",
       "      <td>-0.164421</td>\n",
       "      <td>0.925658</td>\n",
       "      <td>0.733730</td>\n",
       "      <td>0.230836</td>\n",
       "      <td>0.298341</td>\n",
       "      <td>0.307430</td>\n",
       "      <td>0.090619</td>\n",
       "      <td>211.315000</td>\n",
       "      <td>74.228571</td>\n",
       "      <td>19.700000</td>\n",
       "      <td>8.775000</td>\n",
       "      <td>4.937500</td>\n",
       "      <td>10.350000</td>\n",
       "      <td>1.0</td>\n",
       "    </tr>\n",
       "    <tr>\n",
       "      <th>4</th>\n",
       "      <td>Czech Republic</td>\n",
       "      <td>2014</td>\n",
       "      <td>6</td>\n",
       "      <td>0.877915</td>\n",
       "      <td>69.729263</td>\n",
       "      <td>0.800421</td>\n",
       "      <td>-0.175156</td>\n",
       "      <td>0.896881</td>\n",
       "      <td>0.678407</td>\n",
       "      <td>0.235221</td>\n",
       "      <td>0.339733</td>\n",
       "      <td>1.008329</td>\n",
       "      <td>0.885882</td>\n",
       "      <td>207.818000</td>\n",
       "      <td>71.220369</td>\n",
       "      <td>19.669297</td>\n",
       "      <td>24.254883</td>\n",
       "      <td>13.925473</td>\n",
       "      <td>33.447346</td>\n",
       "      <td>1.0</td>\n",
       "    </tr>\n",
       "  </tbody>\n",
       "</table>\n",
       "</div>"
      ],
      "text/plain": [
       "               country  year  happiness_score  social_support  \\\n",
       "0  Congo (Brazzaville)  2014                4        0.685935   \n",
       "1             Mongolia  2014                5        0.943437   \n",
       "2           Costa Rica  2009                8        0.899782   \n",
       "3              Romania  2017                6        0.811240   \n",
       "4       Czech Republic  2014                6        0.877915   \n",
       "\n",
       "   healthy_life_exp_birth  life_choices  generosity  corruption  pos_affect  \\\n",
       "0               53.826542      0.661638   -0.146381    0.808413    0.595255   \n",
       "1               61.685921      0.752354    0.130436    0.908597    0.627492   \n",
       "2               68.641197      0.886061    0.065729    0.786559    0.876206   \n",
       "3               66.857086      0.838587   -0.164421    0.925658    0.733730   \n",
       "4               69.729263      0.800421   -0.175156    0.896881    0.678407   \n",
       "\n",
       "   neg_affect  confidence_gov  dem_quality  delivery_quality         gdp  \\\n",
       "0    0.400229        0.483726    -0.733802         -1.153099  545.398597   \n",
       "1    0.170421        0.337257     0.516673         -0.381374   12.196000   \n",
       "2    0.217024        0.521350     0.796451          0.517226   30.826000   \n",
       "3    0.230836        0.298341     0.307430          0.090619  211.315000   \n",
       "4    0.235221        0.339733     1.008329          0.885882  207.818000   \n",
       "\n",
       "   life_exp_birth  life_exp_60  infant_mortality  neonatal_mortality  \\\n",
       "0       71.220369    19.669297         24.254883           13.925473   \n",
       "1       68.400000    16.800000         16.900000           10.700000   \n",
       "2       79.200000    23.700000          8.900000            6.700000   \n",
       "3       74.228571    19.700000          8.775000            4.937500   \n",
       "4       71.220369    19.669297         24.254883           13.925473   \n",
       "\n",
       "   u5_mortality  happiness_class  \n",
       "0     33.447346              0.0  \n",
       "1     19.800000              0.0  \n",
       "2     10.300000              1.0  \n",
       "3     10.350000              1.0  \n",
       "4     33.447346              1.0  "
      ]
     },
     "execution_count": 153,
     "metadata": {},
     "output_type": "execute_result"
    }
   ],
   "source": [
    "df.head(5)"
   ]
  },
  {
   "cell_type": "code",
   "execution_count": 154,
   "metadata": {},
   "outputs": [
    {
     "data": {
      "text/plain": [
       "0.453125"
      ]
     },
     "execution_count": 154,
     "metadata": {},
     "output_type": "execute_result"
    }
   ],
   "source": [
    "# mean target feature score\n",
    "df.happiness_class.mean()"
   ]
  },
  {
   "cell_type": "code",
   "execution_count": 155,
   "metadata": {},
   "outputs": [
    {
     "data": {
      "text/plain": [
       "country                    object\n",
       "year                        int64\n",
       "happiness_score             int64\n",
       "social_support            float64\n",
       "healthy_life_exp_birth    float64\n",
       "life_choices              float64\n",
       "generosity                float64\n",
       "corruption                float64\n",
       "pos_affect                float64\n",
       "neg_affect                float64\n",
       "confidence_gov            float64\n",
       "dem_quality               float64\n",
       "delivery_quality          float64\n",
       "gdp                       float64\n",
       "life_exp_birth            float64\n",
       "life_exp_60               float64\n",
       "infant_mortality          float64\n",
       "neonatal_mortality        float64\n",
       "u5_mortality              float64\n",
       "happiness_class           float64\n",
       "dtype: object"
      ]
     },
     "execution_count": 155,
     "metadata": {},
     "output_type": "execute_result"
    }
   ],
   "source": [
    "df.dtypes"
   ]
  },
  {
   "cell_type": "code",
   "execution_count": 156,
   "metadata": {},
   "outputs": [
    {
     "data": {
      "text/html": [
       "<div>\n",
       "<style>\n",
       "    .dataframe thead tr:only-child th {\n",
       "        text-align: right;\n",
       "    }\n",
       "\n",
       "    .dataframe thead th {\n",
       "        text-align: left;\n",
       "    }\n",
       "\n",
       "    .dataframe tbody tr th {\n",
       "        vertical-align: top;\n",
       "    }\n",
       "</style>\n",
       "<table border=\"1\" class=\"dataframe\">\n",
       "  <thead>\n",
       "    <tr style=\"text-align: right;\">\n",
       "      <th></th>\n",
       "      <th>happiness_class</th>\n",
       "      <th>year</th>\n",
       "      <th>social_support</th>\n",
       "      <th>healthy_life_exp_birth</th>\n",
       "      <th>life_choices</th>\n",
       "      <th>generosity</th>\n",
       "      <th>corruption</th>\n",
       "      <th>pos_affect</th>\n",
       "      <th>neg_affect</th>\n",
       "      <th>confidence_gov</th>\n",
       "      <th>dem_quality</th>\n",
       "      <th>delivery_quality</th>\n",
       "      <th>gdp</th>\n",
       "      <th>life_exp_birth</th>\n",
       "      <th>life_exp_60</th>\n",
       "      <th>infant_mortality</th>\n",
       "      <th>neonatal_mortality</th>\n",
       "      <th>u5_mortality</th>\n",
       "    </tr>\n",
       "  </thead>\n",
       "  <tbody>\n",
       "    <tr>\n",
       "      <th>happiness_class</th>\n",
       "      <td>1.000000</td>\n",
       "      <td>0.054499</td>\n",
       "      <td>0.601155</td>\n",
       "      <td>0.610530</td>\n",
       "      <td>0.449123</td>\n",
       "      <td>0.128654</td>\n",
       "      <td>-0.315596</td>\n",
       "      <td>0.485218</td>\n",
       "      <td>-0.206525</td>\n",
       "      <td>-0.124023</td>\n",
       "      <td>0.509799</td>\n",
       "      <td>0.559981</td>\n",
       "      <td>0.170105</td>\n",
       "      <td>0.585935</td>\n",
       "      <td>0.631818</td>\n",
       "      <td>-0.530871</td>\n",
       "      <td>-0.546274</td>\n",
       "      <td>-0.507856</td>\n",
       "    </tr>\n",
       "    <tr>\n",
       "      <th>year</th>\n",
       "      <td>0.054499</td>\n",
       "      <td>1.000000</td>\n",
       "      <td>-0.001686</td>\n",
       "      <td>0.085714</td>\n",
       "      <td>0.181780</td>\n",
       "      <td>-0.003323</td>\n",
       "      <td>-0.052797</td>\n",
       "      <td>0.003580</td>\n",
       "      <td>0.192507</td>\n",
       "      <td>-0.002864</td>\n",
       "      <td>0.019568</td>\n",
       "      <td>0.005982</td>\n",
       "      <td>0.005750</td>\n",
       "      <td>0.045016</td>\n",
       "      <td>0.040693</td>\n",
       "      <td>-0.066540</td>\n",
       "      <td>-0.061648</td>\n",
       "      <td>-0.068502</td>\n",
       "    </tr>\n",
       "    <tr>\n",
       "      <th>social_support</th>\n",
       "      <td>0.601155</td>\n",
       "      <td>-0.001686</td>\n",
       "      <td>1.000000</td>\n",
       "      <td>0.589475</td>\n",
       "      <td>0.415969</td>\n",
       "      <td>0.084150</td>\n",
       "      <td>-0.222379</td>\n",
       "      <td>0.456244</td>\n",
       "      <td>-0.365476</td>\n",
       "      <td>-0.149647</td>\n",
       "      <td>0.541915</td>\n",
       "      <td>0.549914</td>\n",
       "      <td>0.157553</td>\n",
       "      <td>0.570871</td>\n",
       "      <td>0.559523</td>\n",
       "      <td>-0.605337</td>\n",
       "      <td>-0.629924</td>\n",
       "      <td>-0.579524</td>\n",
       "    </tr>\n",
       "    <tr>\n",
       "      <th>healthy_life_exp_birth</th>\n",
       "      <td>0.610530</td>\n",
       "      <td>0.085714</td>\n",
       "      <td>0.589475</td>\n",
       "      <td>1.000000</td>\n",
       "      <td>0.335576</td>\n",
       "      <td>0.054289</td>\n",
       "      <td>-0.314577</td>\n",
       "      <td>0.302134</td>\n",
       "      <td>-0.120397</td>\n",
       "      <td>-0.199992</td>\n",
       "      <td>0.621891</td>\n",
       "      <td>0.736790</td>\n",
       "      <td>0.232309</td>\n",
       "      <td>0.918687</td>\n",
       "      <td>0.827421</td>\n",
       "      <td>-0.875910</td>\n",
       "      <td>-0.834034</td>\n",
       "      <td>-0.866297</td>\n",
       "    </tr>\n",
       "    <tr>\n",
       "      <th>life_choices</th>\n",
       "      <td>0.449123</td>\n",
       "      <td>0.181780</td>\n",
       "      <td>0.415969</td>\n",
       "      <td>0.335576</td>\n",
       "      <td>1.000000</td>\n",
       "      <td>0.351494</td>\n",
       "      <td>-0.495258</td>\n",
       "      <td>0.623822</td>\n",
       "      <td>-0.290106</td>\n",
       "      <td>0.418441</td>\n",
       "      <td>0.419629</td>\n",
       "      <td>0.458270</td>\n",
       "      <td>0.142719</td>\n",
       "      <td>0.328524</td>\n",
       "      <td>0.367235</td>\n",
       "      <td>-0.290917</td>\n",
       "      <td>-0.307664</td>\n",
       "      <td>-0.285404</td>\n",
       "    </tr>\n",
       "    <tr>\n",
       "      <th>generosity</th>\n",
       "      <td>0.128654</td>\n",
       "      <td>-0.003323</td>\n",
       "      <td>0.084150</td>\n",
       "      <td>0.054289</td>\n",
       "      <td>0.351494</td>\n",
       "      <td>1.000000</td>\n",
       "      <td>-0.291499</td>\n",
       "      <td>0.366240</td>\n",
       "      <td>-0.097922</td>\n",
       "      <td>0.276602</td>\n",
       "      <td>0.115362</td>\n",
       "      <td>0.196835</td>\n",
       "      <td>0.048086</td>\n",
       "      <td>0.030423</td>\n",
       "      <td>0.086943</td>\n",
       "      <td>0.040542</td>\n",
       "      <td>0.043253</td>\n",
       "      <td>0.038230</td>\n",
       "    </tr>\n",
       "    <tr>\n",
       "      <th>corruption</th>\n",
       "      <td>-0.315596</td>\n",
       "      <td>-0.052797</td>\n",
       "      <td>-0.222379</td>\n",
       "      <td>-0.314577</td>\n",
       "      <td>-0.495258</td>\n",
       "      <td>-0.291499</td>\n",
       "      <td>1.000000</td>\n",
       "      <td>-0.294326</td>\n",
       "      <td>0.248384</td>\n",
       "      <td>-0.449852</td>\n",
       "      <td>-0.285157</td>\n",
       "      <td>-0.498382</td>\n",
       "      <td>-0.077981</td>\n",
       "      <td>-0.307606</td>\n",
       "      <td>-0.348312</td>\n",
       "      <td>0.222328</td>\n",
       "      <td>0.230193</td>\n",
       "      <td>0.205088</td>\n",
       "    </tr>\n",
       "    <tr>\n",
       "      <th>pos_affect</th>\n",
       "      <td>0.485218</td>\n",
       "      <td>0.003580</td>\n",
       "      <td>0.456244</td>\n",
       "      <td>0.302134</td>\n",
       "      <td>0.623822</td>\n",
       "      <td>0.366240</td>\n",
       "      <td>-0.294326</td>\n",
       "      <td>1.000000</td>\n",
       "      <td>-0.385255</td>\n",
       "      <td>0.161131</td>\n",
       "      <td>0.378571</td>\n",
       "      <td>0.366900</td>\n",
       "      <td>0.195737</td>\n",
       "      <td>0.304713</td>\n",
       "      <td>0.400902</td>\n",
       "      <td>-0.261728</td>\n",
       "      <td>-0.255344</td>\n",
       "      <td>-0.255688</td>\n",
       "    </tr>\n",
       "    <tr>\n",
       "      <th>neg_affect</th>\n",
       "      <td>-0.206525</td>\n",
       "      <td>0.192507</td>\n",
       "      <td>-0.365476</td>\n",
       "      <td>-0.120397</td>\n",
       "      <td>-0.290106</td>\n",
       "      <td>-0.097922</td>\n",
       "      <td>0.248384</td>\n",
       "      <td>-0.385255</td>\n",
       "      <td>1.000000</td>\n",
       "      <td>-0.167158</td>\n",
       "      <td>-0.238025</td>\n",
       "      <td>-0.249651</td>\n",
       "      <td>-0.098236</td>\n",
       "      <td>-0.085052</td>\n",
       "      <td>-0.093485</td>\n",
       "      <td>0.086652</td>\n",
       "      <td>0.082621</td>\n",
       "      <td>0.074034</td>\n",
       "    </tr>\n",
       "    <tr>\n",
       "      <th>confidence_gov</th>\n",
       "      <td>-0.124023</td>\n",
       "      <td>-0.002864</td>\n",
       "      <td>-0.149647</td>\n",
       "      <td>-0.199992</td>\n",
       "      <td>0.418441</td>\n",
       "      <td>0.276602</td>\n",
       "      <td>-0.449852</td>\n",
       "      <td>0.161131</td>\n",
       "      <td>-0.167158</td>\n",
       "      <td>1.000000</td>\n",
       "      <td>-0.165711</td>\n",
       "      <td>-0.074368</td>\n",
       "      <td>-0.077217</td>\n",
       "      <td>-0.187935</td>\n",
       "      <td>-0.192838</td>\n",
       "      <td>0.215414</td>\n",
       "      <td>0.218006</td>\n",
       "      <td>0.184351</td>\n",
       "    </tr>\n",
       "    <tr>\n",
       "      <th>dem_quality</th>\n",
       "      <td>0.509799</td>\n",
       "      <td>0.019568</td>\n",
       "      <td>0.541915</td>\n",
       "      <td>0.621891</td>\n",
       "      <td>0.419629</td>\n",
       "      <td>0.115362</td>\n",
       "      <td>-0.285157</td>\n",
       "      <td>0.378571</td>\n",
       "      <td>-0.238025</td>\n",
       "      <td>-0.165711</td>\n",
       "      <td>1.000000</td>\n",
       "      <td>0.866750</td>\n",
       "      <td>0.152605</td>\n",
       "      <td>0.574247</td>\n",
       "      <td>0.635915</td>\n",
       "      <td>-0.559324</td>\n",
       "      <td>-0.603437</td>\n",
       "      <td>-0.512108</td>\n",
       "    </tr>\n",
       "    <tr>\n",
       "      <th>delivery_quality</th>\n",
       "      <td>0.559981</td>\n",
       "      <td>0.005982</td>\n",
       "      <td>0.549914</td>\n",
       "      <td>0.736790</td>\n",
       "      <td>0.458270</td>\n",
       "      <td>0.196835</td>\n",
       "      <td>-0.498382</td>\n",
       "      <td>0.366900</td>\n",
       "      <td>-0.249651</td>\n",
       "      <td>-0.074368</td>\n",
       "      <td>0.866750</td>\n",
       "      <td>1.000000</td>\n",
       "      <td>0.243704</td>\n",
       "      <td>0.685487</td>\n",
       "      <td>0.710327</td>\n",
       "      <td>-0.641283</td>\n",
       "      <td>-0.660378</td>\n",
       "      <td>-0.592486</td>\n",
       "    </tr>\n",
       "    <tr>\n",
       "      <th>gdp</th>\n",
       "      <td>0.170105</td>\n",
       "      <td>0.005750</td>\n",
       "      <td>0.157553</td>\n",
       "      <td>0.232309</td>\n",
       "      <td>0.142719</td>\n",
       "      <td>0.048086</td>\n",
       "      <td>-0.077981</td>\n",
       "      <td>0.195737</td>\n",
       "      <td>-0.098236</td>\n",
       "      <td>-0.077217</td>\n",
       "      <td>0.152605</td>\n",
       "      <td>0.243704</td>\n",
       "      <td>1.000000</td>\n",
       "      <td>0.153011</td>\n",
       "      <td>0.158430</td>\n",
       "      <td>-0.125560</td>\n",
       "      <td>-0.128000</td>\n",
       "      <td>-0.119798</td>\n",
       "    </tr>\n",
       "    <tr>\n",
       "      <th>life_exp_birth</th>\n",
       "      <td>0.585935</td>\n",
       "      <td>0.045016</td>\n",
       "      <td>0.570871</td>\n",
       "      <td>0.918687</td>\n",
       "      <td>0.328524</td>\n",
       "      <td>0.030423</td>\n",
       "      <td>-0.307606</td>\n",
       "      <td>0.304713</td>\n",
       "      <td>-0.085052</td>\n",
       "      <td>-0.187935</td>\n",
       "      <td>0.574247</td>\n",
       "      <td>0.685487</td>\n",
       "      <td>0.153011</td>\n",
       "      <td>1.000000</td>\n",
       "      <td>0.902981</td>\n",
       "      <td>-0.931650</td>\n",
       "      <td>-0.878051</td>\n",
       "      <td>-0.925662</td>\n",
       "    </tr>\n",
       "    <tr>\n",
       "      <th>life_exp_60</th>\n",
       "      <td>0.631818</td>\n",
       "      <td>0.040693</td>\n",
       "      <td>0.559523</td>\n",
       "      <td>0.827421</td>\n",
       "      <td>0.367235</td>\n",
       "      <td>0.086943</td>\n",
       "      <td>-0.348312</td>\n",
       "      <td>0.400902</td>\n",
       "      <td>-0.093485</td>\n",
       "      <td>-0.192838</td>\n",
       "      <td>0.635915</td>\n",
       "      <td>0.710327</td>\n",
       "      <td>0.158430</td>\n",
       "      <td>0.902981</td>\n",
       "      <td>1.000000</td>\n",
       "      <td>-0.784651</td>\n",
       "      <td>-0.764436</td>\n",
       "      <td>-0.758697</td>\n",
       "    </tr>\n",
       "    <tr>\n",
       "      <th>infant_mortality</th>\n",
       "      <td>-0.530871</td>\n",
       "      <td>-0.066540</td>\n",
       "      <td>-0.605337</td>\n",
       "      <td>-0.875910</td>\n",
       "      <td>-0.290917</td>\n",
       "      <td>0.040542</td>\n",
       "      <td>0.222328</td>\n",
       "      <td>-0.261728</td>\n",
       "      <td>0.086652</td>\n",
       "      <td>0.215414</td>\n",
       "      <td>-0.559324</td>\n",
       "      <td>-0.641283</td>\n",
       "      <td>-0.125560</td>\n",
       "      <td>-0.931650</td>\n",
       "      <td>-0.784651</td>\n",
       "      <td>1.000000</td>\n",
       "      <td>0.961485</td>\n",
       "      <td>0.984959</td>\n",
       "    </tr>\n",
       "    <tr>\n",
       "      <th>neonatal_mortality</th>\n",
       "      <td>-0.546274</td>\n",
       "      <td>-0.061648</td>\n",
       "      <td>-0.629924</td>\n",
       "      <td>-0.834034</td>\n",
       "      <td>-0.307664</td>\n",
       "      <td>0.043253</td>\n",
       "      <td>0.230193</td>\n",
       "      <td>-0.255344</td>\n",
       "      <td>0.082621</td>\n",
       "      <td>0.218006</td>\n",
       "      <td>-0.603437</td>\n",
       "      <td>-0.660378</td>\n",
       "      <td>-0.128000</td>\n",
       "      <td>-0.878051</td>\n",
       "      <td>-0.764436</td>\n",
       "      <td>0.961485</td>\n",
       "      <td>1.000000</td>\n",
       "      <td>0.924943</td>\n",
       "    </tr>\n",
       "    <tr>\n",
       "      <th>u5_mortality</th>\n",
       "      <td>-0.507856</td>\n",
       "      <td>-0.068502</td>\n",
       "      <td>-0.579524</td>\n",
       "      <td>-0.866297</td>\n",
       "      <td>-0.285404</td>\n",
       "      <td>0.038230</td>\n",
       "      <td>0.205088</td>\n",
       "      <td>-0.255688</td>\n",
       "      <td>0.074034</td>\n",
       "      <td>0.184351</td>\n",
       "      <td>-0.512108</td>\n",
       "      <td>-0.592486</td>\n",
       "      <td>-0.119798</td>\n",
       "      <td>-0.925662</td>\n",
       "      <td>-0.758697</td>\n",
       "      <td>0.984959</td>\n",
       "      <td>0.924943</td>\n",
       "      <td>1.000000</td>\n",
       "    </tr>\n",
       "  </tbody>\n",
       "</table>\n",
       "</div>"
      ],
      "text/plain": [
       "                        happiness_class      year  social_support  \\\n",
       "happiness_class                1.000000  0.054499        0.601155   \n",
       "year                           0.054499  1.000000       -0.001686   \n",
       "social_support                 0.601155 -0.001686        1.000000   \n",
       "healthy_life_exp_birth         0.610530  0.085714        0.589475   \n",
       "life_choices                   0.449123  0.181780        0.415969   \n",
       "generosity                     0.128654 -0.003323        0.084150   \n",
       "corruption                    -0.315596 -0.052797       -0.222379   \n",
       "pos_affect                     0.485218  0.003580        0.456244   \n",
       "neg_affect                    -0.206525  0.192507       -0.365476   \n",
       "confidence_gov                -0.124023 -0.002864       -0.149647   \n",
       "dem_quality                    0.509799  0.019568        0.541915   \n",
       "delivery_quality               0.559981  0.005982        0.549914   \n",
       "gdp                            0.170105  0.005750        0.157553   \n",
       "life_exp_birth                 0.585935  0.045016        0.570871   \n",
       "life_exp_60                    0.631818  0.040693        0.559523   \n",
       "infant_mortality              -0.530871 -0.066540       -0.605337   \n",
       "neonatal_mortality            -0.546274 -0.061648       -0.629924   \n",
       "u5_mortality                  -0.507856 -0.068502       -0.579524   \n",
       "\n",
       "                        healthy_life_exp_birth  life_choices  generosity  \\\n",
       "happiness_class                       0.610530      0.449123    0.128654   \n",
       "year                                  0.085714      0.181780   -0.003323   \n",
       "social_support                        0.589475      0.415969    0.084150   \n",
       "healthy_life_exp_birth                1.000000      0.335576    0.054289   \n",
       "life_choices                          0.335576      1.000000    0.351494   \n",
       "generosity                            0.054289      0.351494    1.000000   \n",
       "corruption                           -0.314577     -0.495258   -0.291499   \n",
       "pos_affect                            0.302134      0.623822    0.366240   \n",
       "neg_affect                           -0.120397     -0.290106   -0.097922   \n",
       "confidence_gov                       -0.199992      0.418441    0.276602   \n",
       "dem_quality                           0.621891      0.419629    0.115362   \n",
       "delivery_quality                      0.736790      0.458270    0.196835   \n",
       "gdp                                   0.232309      0.142719    0.048086   \n",
       "life_exp_birth                        0.918687      0.328524    0.030423   \n",
       "life_exp_60                           0.827421      0.367235    0.086943   \n",
       "infant_mortality                     -0.875910     -0.290917    0.040542   \n",
       "neonatal_mortality                   -0.834034     -0.307664    0.043253   \n",
       "u5_mortality                         -0.866297     -0.285404    0.038230   \n",
       "\n",
       "                        corruption  pos_affect  neg_affect  confidence_gov  \\\n",
       "happiness_class          -0.315596    0.485218   -0.206525       -0.124023   \n",
       "year                     -0.052797    0.003580    0.192507       -0.002864   \n",
       "social_support           -0.222379    0.456244   -0.365476       -0.149647   \n",
       "healthy_life_exp_birth   -0.314577    0.302134   -0.120397       -0.199992   \n",
       "life_choices             -0.495258    0.623822   -0.290106        0.418441   \n",
       "generosity               -0.291499    0.366240   -0.097922        0.276602   \n",
       "corruption                1.000000   -0.294326    0.248384       -0.449852   \n",
       "pos_affect               -0.294326    1.000000   -0.385255        0.161131   \n",
       "neg_affect                0.248384   -0.385255    1.000000       -0.167158   \n",
       "confidence_gov           -0.449852    0.161131   -0.167158        1.000000   \n",
       "dem_quality              -0.285157    0.378571   -0.238025       -0.165711   \n",
       "delivery_quality         -0.498382    0.366900   -0.249651       -0.074368   \n",
       "gdp                      -0.077981    0.195737   -0.098236       -0.077217   \n",
       "life_exp_birth           -0.307606    0.304713   -0.085052       -0.187935   \n",
       "life_exp_60              -0.348312    0.400902   -0.093485       -0.192838   \n",
       "infant_mortality          0.222328   -0.261728    0.086652        0.215414   \n",
       "neonatal_mortality        0.230193   -0.255344    0.082621        0.218006   \n",
       "u5_mortality              0.205088   -0.255688    0.074034        0.184351   \n",
       "\n",
       "                        dem_quality  delivery_quality       gdp  \\\n",
       "happiness_class            0.509799          0.559981  0.170105   \n",
       "year                       0.019568          0.005982  0.005750   \n",
       "social_support             0.541915          0.549914  0.157553   \n",
       "healthy_life_exp_birth     0.621891          0.736790  0.232309   \n",
       "life_choices               0.419629          0.458270  0.142719   \n",
       "generosity                 0.115362          0.196835  0.048086   \n",
       "corruption                -0.285157         -0.498382 -0.077981   \n",
       "pos_affect                 0.378571          0.366900  0.195737   \n",
       "neg_affect                -0.238025         -0.249651 -0.098236   \n",
       "confidence_gov            -0.165711         -0.074368 -0.077217   \n",
       "dem_quality                1.000000          0.866750  0.152605   \n",
       "delivery_quality           0.866750          1.000000  0.243704   \n",
       "gdp                        0.152605          0.243704  1.000000   \n",
       "life_exp_birth             0.574247          0.685487  0.153011   \n",
       "life_exp_60                0.635915          0.710327  0.158430   \n",
       "infant_mortality          -0.559324         -0.641283 -0.125560   \n",
       "neonatal_mortality        -0.603437         -0.660378 -0.128000   \n",
       "u5_mortality              -0.512108         -0.592486 -0.119798   \n",
       "\n",
       "                        life_exp_birth  life_exp_60  infant_mortality  \\\n",
       "happiness_class               0.585935     0.631818         -0.530871   \n",
       "year                          0.045016     0.040693         -0.066540   \n",
       "social_support                0.570871     0.559523         -0.605337   \n",
       "healthy_life_exp_birth        0.918687     0.827421         -0.875910   \n",
       "life_choices                  0.328524     0.367235         -0.290917   \n",
       "generosity                    0.030423     0.086943          0.040542   \n",
       "corruption                   -0.307606    -0.348312          0.222328   \n",
       "pos_affect                    0.304713     0.400902         -0.261728   \n",
       "neg_affect                   -0.085052    -0.093485          0.086652   \n",
       "confidence_gov               -0.187935    -0.192838          0.215414   \n",
       "dem_quality                   0.574247     0.635915         -0.559324   \n",
       "delivery_quality              0.685487     0.710327         -0.641283   \n",
       "gdp                           0.153011     0.158430         -0.125560   \n",
       "life_exp_birth                1.000000     0.902981         -0.931650   \n",
       "life_exp_60                   0.902981     1.000000         -0.784651   \n",
       "infant_mortality             -0.931650    -0.784651          1.000000   \n",
       "neonatal_mortality           -0.878051    -0.764436          0.961485   \n",
       "u5_mortality                 -0.925662    -0.758697          0.984959   \n",
       "\n",
       "                        neonatal_mortality  u5_mortality  \n",
       "happiness_class                  -0.546274     -0.507856  \n",
       "year                             -0.061648     -0.068502  \n",
       "social_support                   -0.629924     -0.579524  \n",
       "healthy_life_exp_birth           -0.834034     -0.866297  \n",
       "life_choices                     -0.307664     -0.285404  \n",
       "generosity                        0.043253      0.038230  \n",
       "corruption                        0.230193      0.205088  \n",
       "pos_affect                       -0.255344     -0.255688  \n",
       "neg_affect                        0.082621      0.074034  \n",
       "confidence_gov                    0.218006      0.184351  \n",
       "dem_quality                      -0.603437     -0.512108  \n",
       "delivery_quality                 -0.660378     -0.592486  \n",
       "gdp                              -0.128000     -0.119798  \n",
       "life_exp_birth                   -0.878051     -0.925662  \n",
       "life_exp_60                      -0.764436     -0.758697  \n",
       "infant_mortality                  0.961485      0.984959  \n",
       "neonatal_mortality                1.000000      0.924943  \n",
       "u5_mortality                      0.924943      1.000000  "
      ]
     },
     "execution_count": 156,
     "metadata": {},
     "output_type": "execute_result"
    }
   ],
   "source": [
    "# check correlation for feature selection\n",
    "df[[ \"happiness_class\", \"country\", \"year\", \"social_support\", \"healthy_life_exp_birth\", \"life_choices\", \"generosity\", \"corruption\", \"pos_affect\", \"neg_affect\", \"confidence_gov\", \"dem_quality\", \"delivery_quality\", \"gdp\", \"life_exp_birth\", \"life_exp_60\", \"infant_mortality\", \"neonatal_mortality\", \"u5_mortality\"]].corr()"
   ]
  },
  {
   "cell_type": "markdown",
   "metadata": {},
   "source": [
    "### Remove a single feature from feature pairs with over 90% correlation\n",
    "\n",
    "I have decided to remove feature pairs with over 90% correlation,  they are essentially telling us the same thing. The feature from the pair with the lowest level of negative/positive correlation with the target feature will be dropped. See the list of dropped features below:  \n",
    "\n",
    "Feature correlation: 0.93 life_exp_birth vs healthy_life_exp_birth - drop life_exp_birth  \n",
    "Feature correlation: 0.99 u5_mortality vs infant_mortality - drop u5_mortality  \n",
    "Feature correlation: 0.96 neonatal_mortality vs infant_mortality - drop neonatal_mortality  \n",
    "Feature correlation -0.92 u5_mortality vs life_exp_birth: both features dropped already due to correlation with other descriptive features.\n"
   ]
  },
  {
   "cell_type": "code",
   "execution_count": 157,
   "metadata": {
    "collapsed": true
   },
   "outputs": [],
   "source": [
    "df.drop('life_exp_birth', axis=1, inplace=True)"
   ]
  },
  {
   "cell_type": "code",
   "execution_count": 158,
   "metadata": {
    "collapsed": true
   },
   "outputs": [],
   "source": [
    "df.drop('u5_mortality', axis=1, inplace=True)"
   ]
  },
  {
   "cell_type": "code",
   "execution_count": 159,
   "metadata": {
    "collapsed": true
   },
   "outputs": [],
   "source": [
    "df.drop('neonatal_mortality', axis=1, inplace=True)"
   ]
  },
  {
   "cell_type": "code",
   "execution_count": 160,
   "metadata": {},
   "outputs": [
    {
     "data": {
      "text/html": [
       "<div>\n",
       "<style>\n",
       "    .dataframe thead tr:only-child th {\n",
       "        text-align: right;\n",
       "    }\n",
       "\n",
       "    .dataframe thead th {\n",
       "        text-align: left;\n",
       "    }\n",
       "\n",
       "    .dataframe tbody tr th {\n",
       "        vertical-align: top;\n",
       "    }\n",
       "</style>\n",
       "<table border=\"1\" class=\"dataframe\">\n",
       "  <thead>\n",
       "    <tr style=\"text-align: right;\">\n",
       "      <th></th>\n",
       "      <th>country</th>\n",
       "      <th>year</th>\n",
       "      <th>happiness_score</th>\n",
       "      <th>social_support</th>\n",
       "      <th>healthy_life_exp_birth</th>\n",
       "      <th>life_choices</th>\n",
       "      <th>generosity</th>\n",
       "      <th>corruption</th>\n",
       "      <th>pos_affect</th>\n",
       "      <th>neg_affect</th>\n",
       "      <th>confidence_gov</th>\n",
       "      <th>dem_quality</th>\n",
       "      <th>delivery_quality</th>\n",
       "      <th>gdp</th>\n",
       "      <th>life_exp_60</th>\n",
       "      <th>infant_mortality</th>\n",
       "      <th>happiness_class</th>\n",
       "    </tr>\n",
       "  </thead>\n",
       "  <tbody>\n",
       "    <tr>\n",
       "      <th>0</th>\n",
       "      <td>Congo (Brazzaville)</td>\n",
       "      <td>2014</td>\n",
       "      <td>4</td>\n",
       "      <td>0.685935</td>\n",
       "      <td>53.826542</td>\n",
       "      <td>0.661638</td>\n",
       "      <td>-0.146381</td>\n",
       "      <td>0.808413</td>\n",
       "      <td>0.595255</td>\n",
       "      <td>0.400229</td>\n",
       "      <td>0.483726</td>\n",
       "      <td>-0.733802</td>\n",
       "      <td>-1.153099</td>\n",
       "      <td>545.398597</td>\n",
       "      <td>19.669297</td>\n",
       "      <td>24.254883</td>\n",
       "      <td>0.0</td>\n",
       "    </tr>\n",
       "    <tr>\n",
       "      <th>1</th>\n",
       "      <td>Mongolia</td>\n",
       "      <td>2014</td>\n",
       "      <td>5</td>\n",
       "      <td>0.943437</td>\n",
       "      <td>61.685921</td>\n",
       "      <td>0.752354</td>\n",
       "      <td>0.130436</td>\n",
       "      <td>0.908597</td>\n",
       "      <td>0.627492</td>\n",
       "      <td>0.170421</td>\n",
       "      <td>0.337257</td>\n",
       "      <td>0.516673</td>\n",
       "      <td>-0.381374</td>\n",
       "      <td>12.196000</td>\n",
       "      <td>16.800000</td>\n",
       "      <td>16.900000</td>\n",
       "      <td>0.0</td>\n",
       "    </tr>\n",
       "    <tr>\n",
       "      <th>2</th>\n",
       "      <td>Costa Rica</td>\n",
       "      <td>2009</td>\n",
       "      <td>8</td>\n",
       "      <td>0.899782</td>\n",
       "      <td>68.641197</td>\n",
       "      <td>0.886061</td>\n",
       "      <td>0.065729</td>\n",
       "      <td>0.786559</td>\n",
       "      <td>0.876206</td>\n",
       "      <td>0.217024</td>\n",
       "      <td>0.521350</td>\n",
       "      <td>0.796451</td>\n",
       "      <td>0.517226</td>\n",
       "      <td>30.826000</td>\n",
       "      <td>23.700000</td>\n",
       "      <td>8.900000</td>\n",
       "      <td>1.0</td>\n",
       "    </tr>\n",
       "  </tbody>\n",
       "</table>\n",
       "</div>"
      ],
      "text/plain": [
       "               country  year  happiness_score  social_support  \\\n",
       "0  Congo (Brazzaville)  2014                4        0.685935   \n",
       "1             Mongolia  2014                5        0.943437   \n",
       "2           Costa Rica  2009                8        0.899782   \n",
       "\n",
       "   healthy_life_exp_birth  life_choices  generosity  corruption  pos_affect  \\\n",
       "0               53.826542      0.661638   -0.146381    0.808413    0.595255   \n",
       "1               61.685921      0.752354    0.130436    0.908597    0.627492   \n",
       "2               68.641197      0.886061    0.065729    0.786559    0.876206   \n",
       "\n",
       "   neg_affect  confidence_gov  dem_quality  delivery_quality         gdp  \\\n",
       "0    0.400229        0.483726    -0.733802         -1.153099  545.398597   \n",
       "1    0.170421        0.337257     0.516673         -0.381374   12.196000   \n",
       "2    0.217024        0.521350     0.796451          0.517226   30.826000   \n",
       "\n",
       "   life_exp_60  infant_mortality  happiness_class  \n",
       "0    19.669297         24.254883              0.0  \n",
       "1    16.800000         16.900000              0.0  \n",
       "2    23.700000          8.900000              1.0  "
      ]
     },
     "execution_count": 160,
     "metadata": {},
     "output_type": "execute_result"
    }
   ],
   "source": [
    "df.head(3)"
   ]
  },
  {
   "cell_type": "markdown",
   "metadata": {},
   "source": [
    "### Feature Selection\n",
    "\n",
    "I have decided to select features with a positive/negative correlation of greater than 0.50 away from 0. This threshold is an arbitrary one that we can change at a later stage if unhappy with the results it yields.  \n",
    "\n",
    "##### Selected Features:  \n",
    "social_support (target corr: 0.677275)  \n",
    "healthy_life_exp_birth (target corr: 0.693580)  \n",
    "pos_affect (target corr: 0.532431)  \n",
    "dem_quality (target corr: 0.594980)  \n",
    "delivery_quality (target corr: 0.670657)  \n",
    "life_exp_60 (target corr: 0.698286)  \n",
    "infant_mortality (target corr: -0.595494  "
   ]
  },
  {
   "cell_type": "code",
   "execution_count": 161,
   "metadata": {},
   "outputs": [
    {
     "data": {
      "text/html": [
       "<div>\n",
       "<style>\n",
       "    .dataframe thead tr:only-child th {\n",
       "        text-align: right;\n",
       "    }\n",
       "\n",
       "    .dataframe thead th {\n",
       "        text-align: left;\n",
       "    }\n",
       "\n",
       "    .dataframe tbody tr th {\n",
       "        vertical-align: top;\n",
       "    }\n",
       "</style>\n",
       "<table border=\"1\" class=\"dataframe\">\n",
       "  <thead>\n",
       "    <tr style=\"text-align: right;\">\n",
       "      <th></th>\n",
       "      <th>happiness_class</th>\n",
       "      <th>social_support</th>\n",
       "      <th>healthy_life_exp_birth</th>\n",
       "      <th>pos_affect</th>\n",
       "      <th>dem_quality</th>\n",
       "      <th>delivery_quality</th>\n",
       "      <th>life_exp_60</th>\n",
       "      <th>infant_mortality</th>\n",
       "    </tr>\n",
       "  </thead>\n",
       "  <tbody>\n",
       "    <tr>\n",
       "      <th>happiness_class</th>\n",
       "      <td>1.000000</td>\n",
       "      <td>0.601155</td>\n",
       "      <td>0.610530</td>\n",
       "      <td>0.485218</td>\n",
       "      <td>0.509799</td>\n",
       "      <td>0.559981</td>\n",
       "      <td>0.631818</td>\n",
       "      <td>-0.530871</td>\n",
       "    </tr>\n",
       "    <tr>\n",
       "      <th>social_support</th>\n",
       "      <td>0.601155</td>\n",
       "      <td>1.000000</td>\n",
       "      <td>0.589475</td>\n",
       "      <td>0.456244</td>\n",
       "      <td>0.541915</td>\n",
       "      <td>0.549914</td>\n",
       "      <td>0.559523</td>\n",
       "      <td>-0.605337</td>\n",
       "    </tr>\n",
       "    <tr>\n",
       "      <th>healthy_life_exp_birth</th>\n",
       "      <td>0.610530</td>\n",
       "      <td>0.589475</td>\n",
       "      <td>1.000000</td>\n",
       "      <td>0.302134</td>\n",
       "      <td>0.621891</td>\n",
       "      <td>0.736790</td>\n",
       "      <td>0.827421</td>\n",
       "      <td>-0.875910</td>\n",
       "    </tr>\n",
       "    <tr>\n",
       "      <th>pos_affect</th>\n",
       "      <td>0.485218</td>\n",
       "      <td>0.456244</td>\n",
       "      <td>0.302134</td>\n",
       "      <td>1.000000</td>\n",
       "      <td>0.378571</td>\n",
       "      <td>0.366900</td>\n",
       "      <td>0.400902</td>\n",
       "      <td>-0.261728</td>\n",
       "    </tr>\n",
       "    <tr>\n",
       "      <th>dem_quality</th>\n",
       "      <td>0.509799</td>\n",
       "      <td>0.541915</td>\n",
       "      <td>0.621891</td>\n",
       "      <td>0.378571</td>\n",
       "      <td>1.000000</td>\n",
       "      <td>0.866750</td>\n",
       "      <td>0.635915</td>\n",
       "      <td>-0.559324</td>\n",
       "    </tr>\n",
       "    <tr>\n",
       "      <th>delivery_quality</th>\n",
       "      <td>0.559981</td>\n",
       "      <td>0.549914</td>\n",
       "      <td>0.736790</td>\n",
       "      <td>0.366900</td>\n",
       "      <td>0.866750</td>\n",
       "      <td>1.000000</td>\n",
       "      <td>0.710327</td>\n",
       "      <td>-0.641283</td>\n",
       "    </tr>\n",
       "    <tr>\n",
       "      <th>life_exp_60</th>\n",
       "      <td>0.631818</td>\n",
       "      <td>0.559523</td>\n",
       "      <td>0.827421</td>\n",
       "      <td>0.400902</td>\n",
       "      <td>0.635915</td>\n",
       "      <td>0.710327</td>\n",
       "      <td>1.000000</td>\n",
       "      <td>-0.784651</td>\n",
       "    </tr>\n",
       "    <tr>\n",
       "      <th>infant_mortality</th>\n",
       "      <td>-0.530871</td>\n",
       "      <td>-0.605337</td>\n",
       "      <td>-0.875910</td>\n",
       "      <td>-0.261728</td>\n",
       "      <td>-0.559324</td>\n",
       "      <td>-0.641283</td>\n",
       "      <td>-0.784651</td>\n",
       "      <td>1.000000</td>\n",
       "    </tr>\n",
       "  </tbody>\n",
       "</table>\n",
       "</div>"
      ],
      "text/plain": [
       "                        happiness_class  social_support  \\\n",
       "happiness_class                1.000000        0.601155   \n",
       "social_support                 0.601155        1.000000   \n",
       "healthy_life_exp_birth         0.610530        0.589475   \n",
       "pos_affect                     0.485218        0.456244   \n",
       "dem_quality                    0.509799        0.541915   \n",
       "delivery_quality               0.559981        0.549914   \n",
       "life_exp_60                    0.631818        0.559523   \n",
       "infant_mortality              -0.530871       -0.605337   \n",
       "\n",
       "                        healthy_life_exp_birth  pos_affect  dem_quality  \\\n",
       "happiness_class                       0.610530    0.485218     0.509799   \n",
       "social_support                        0.589475    0.456244     0.541915   \n",
       "healthy_life_exp_birth                1.000000    0.302134     0.621891   \n",
       "pos_affect                            0.302134    1.000000     0.378571   \n",
       "dem_quality                           0.621891    0.378571     1.000000   \n",
       "delivery_quality                      0.736790    0.366900     0.866750   \n",
       "life_exp_60                           0.827421    0.400902     0.635915   \n",
       "infant_mortality                     -0.875910   -0.261728    -0.559324   \n",
       "\n",
       "                        delivery_quality  life_exp_60  infant_mortality  \n",
       "happiness_class                 0.559981     0.631818         -0.530871  \n",
       "social_support                  0.549914     0.559523         -0.605337  \n",
       "healthy_life_exp_birth          0.736790     0.827421         -0.875910  \n",
       "pos_affect                      0.366900     0.400902         -0.261728  \n",
       "dem_quality                     0.866750     0.635915         -0.559324  \n",
       "delivery_quality                1.000000     0.710327         -0.641283  \n",
       "life_exp_60                     0.710327     1.000000         -0.784651  \n",
       "infant_mortality               -0.641283    -0.784651          1.000000  "
      ]
     },
     "execution_count": 161,
     "metadata": {},
     "output_type": "execute_result"
    }
   ],
   "source": [
    "# selected feature correlation\n",
    "df[[\"happiness_class\", \"social_support\", \"healthy_life_exp_birth\", \"pos_affect\", \"dem_quality\", \"delivery_quality\", \"life_exp_60\", \"infant_mortality\"]].corr()"
   ]
  },
  {
   "cell_type": "markdown",
   "metadata": {},
   "source": [
    "### Training the model\n",
    "\n",
    "This section trains the model on a linear relationship between descriptive features and the target feature. The data set is split 70/30 into a training set and test set. The purpose of this is to fit the model to the training set and then test that model on the testing set. This process helps avoid over/under fitting a model by using 100% of the data during fitting.\n"
   ]
  },
  {
   "cell_type": "code",
   "execution_count": 162,
   "metadata": {},
   "outputs": [
    {
     "name": "stdout",
     "output_type": "stream",
     "text": [
      "Training set size (rows): 940\n"
     ]
    }
   ],
   "source": [
    "# Create a training data set (first 70% of rows)\n",
    "training_size = int(len(df) * 0.7)\n",
    "df_train = df[:training_size]\n",
    "print(\"Training set size (rows):\",len(df_train))"
   ]
  },
  {
   "cell_type": "code",
   "execution_count": 163,
   "metadata": {},
   "outputs": [
    {
     "name": "stdout",
     "output_type": "stream",
     "text": [
      "Test set: 404\n"
     ]
    }
   ],
   "source": [
    "# Create a test data set (remaining 30% of rows)\n",
    "training_size = int(len(df) * 0.7)\n",
    "df_test = df[training_size:]\n",
    "print(\"Test set:\",len(df_test))"
   ]
  },
  {
   "cell_type": "code",
   "execution_count": 164,
   "metadata": {
    "collapsed": true
   },
   "outputs": [],
   "source": [
    "# A copy of df for full cross validation purposes\n",
    "df_cross = df"
   ]
  },
  {
   "cell_type": "code",
   "execution_count": 165,
   "metadata": {},
   "outputs": [
    {
     "name": "stdout",
     "output_type": "stream",
     "text": [
      "Intercept                -3.496194\n",
      "social_support            1.146434\n",
      "healthy_life_exp_birth    0.018826\n",
      "pos_affect                0.837363\n",
      "dem_quality               0.003198\n",
      "delivery_quality          0.016873\n",
      "life_exp_60               0.057482\n",
      "infant_mortality          0.005188\n",
      "dtype: float64\n"
     ]
    }
   ],
   "source": [
    "# train model on all continuous features using df_train\n",
    "lm = sm.ols(formula=\"happiness_class ~ social_support + healthy_life_exp_birth + pos_affect + dem_quality + delivery_quality + life_exp_60 + infant_mortality\", data=df_train).fit()\n",
    "print(lm.params)"
   ]
  },
  {
   "cell_type": "markdown",
   "metadata": {},
   "source": [
    "### Table with feature weights\n",
    "\n",
    "The model has been trained on the df_train data set. A table helps us understand how some of the features performed."
   ]
  },
  {
   "cell_type": "code",
   "execution_count": 166,
   "metadata": {},
   "outputs": [
    {
     "name": "stdout",
     "output_type": "stream",
     "text": [
      "                            OLS Regression Results                            \n",
      "==============================================================================\n",
      "Dep. Variable:        happiness_class   R-squared:                       0.559\n",
      "Model:                            OLS   Adj. R-squared:                  0.555\n",
      "Method:                 Least Squares   F-statistic:                     168.4\n",
      "Date:                Sun, 29 Apr 2018   Prob (F-statistic):          1.44e-160\n",
      "Time:                        15:07:14   Log-Likelihood:                -293.25\n",
      "No. Observations:                 939   AIC:                             602.5\n",
      "Df Residuals:                     931   BIC:                             641.3\n",
      "Df Model:                           7                                         \n",
      "Covariance Type:            nonrobust                                         \n",
      "==========================================================================================\n",
      "                             coef    std err          t      P>|t|      [0.025      0.975]\n",
      "------------------------------------------------------------------------------------------\n",
      "Intercept                 -3.4962      0.260    -13.442      0.000      -4.007      -2.986\n",
      "social_support             1.1464      0.125      9.206      0.000       0.902       1.391\n",
      "healthy_life_exp_birth     0.0188      0.004      5.269      0.000       0.012       0.026\n",
      "pos_affect                 0.8374      0.117      7.135      0.000       0.607       1.068\n",
      "dem_quality                0.0032      0.025      0.126      0.900      -0.047       0.053\n",
      "delivery_quality           0.0169      0.026      0.654      0.513      -0.034       0.068\n",
      "life_exp_60                0.0575      0.008      7.485      0.000       0.042       0.073\n",
      "infant_mortality           0.0052      0.001      4.570      0.000       0.003       0.007\n",
      "==============================================================================\n",
      "Omnibus:                        7.157   Durbin-Watson:                   1.893\n",
      "Prob(Omnibus):                  0.028   Jarque-Bera (JB):                5.614\n",
      "Skew:                           0.087   Prob(JB):                       0.0604\n",
      "Kurtosis:                       2.664   Cond. No.                     1.70e+03\n",
      "==============================================================================\n",
      "\n",
      "Warnings:\n",
      "[1] Standard Errors assume that the covariance matrix of the errors is correctly specified.\n",
      "[2] The condition number is large, 1.7e+03. This might indicate that there are\n",
      "strong multicollinearity or other numerical problems.\n"
     ]
    }
   ],
   "source": [
    "print(lm.summary())"
   ]
  },
  {
   "cell_type": "markdown",
   "metadata": {},
   "source": [
    "### Test the model on df_train\n",
    "\n",
    "Note: we also evaluate the model on the df_test to avoid overfitting"
   ]
  },
  {
   "cell_type": "code",
   "execution_count": 167,
   "metadata": {},
   "outputs": [
    {
     "data": {
      "text/plain": [
       "0      0.036646\n",
       "1      0.320742\n",
       "2      0.981082\n",
       "3      0.487344\n",
       "4      0.665732\n",
       "5      0.476788\n",
       "6     -0.055179\n",
       "7      1.093609\n",
       "8      0.053434\n",
       "9      0.104186\n",
       "10     0.367144\n",
       "11     0.502436\n",
       "12     0.491271\n",
       "13    -0.003944\n",
       "14     0.235502\n",
       "15     0.020736\n",
       "16     0.371749\n",
       "17     0.856565\n",
       "18     0.352984\n",
       "19     0.903477\n",
       "20     0.315044\n",
       "21     0.087298\n",
       "22     0.185864\n",
       "23     0.136093\n",
       "24     0.110452\n",
       "25     0.398386\n",
       "26    -0.060803\n",
       "27     0.195335\n",
       "28     0.769744\n",
       "29     1.007414\n",
       "         ...   \n",
       "910    1.096086\n",
       "911    0.689729\n",
       "912    1.108037\n",
       "913    0.350294\n",
       "914    0.646326\n",
       "915    0.732949\n",
       "916    1.036209\n",
       "917    0.036776\n",
       "918    0.328240\n",
       "919    0.266324\n",
       "920    0.925225\n",
       "921    0.694990\n",
       "922    0.746642\n",
       "923    0.414688\n",
       "924    0.909340\n",
       "925    0.384983\n",
       "926    0.508478\n",
       "927    0.381444\n",
       "928    0.164294\n",
       "929    0.671003\n",
       "930    0.135603\n",
       "931    0.020256\n",
       "932    0.447776\n",
       "933    0.446043\n",
       "934    0.359670\n",
       "935    0.400937\n",
       "936    0.500616\n",
       "937    0.305471\n",
       "938    0.507283\n",
       "939    0.498192\n",
       "Length: 940, dtype: float64"
      ]
     },
     "execution_count": 167,
     "metadata": {},
     "output_type": "execute_result"
    }
   ],
   "source": [
    "lm.predict(df_train)"
   ]
  },
  {
   "cell_type": "markdown",
   "metadata": {},
   "source": [
    "### Actual Happiness Score vs Predicted Happiness"
   ]
  },
  {
   "cell_type": "code",
   "execution_count": 168,
   "metadata": {},
   "outputs": [
    {
     "data": {
      "text/html": [
       "<div>\n",
       "<style>\n",
       "    .dataframe thead tr:only-child th {\n",
       "        text-align: right;\n",
       "    }\n",
       "\n",
       "    .dataframe thead th {\n",
       "        text-align: left;\n",
       "    }\n",
       "\n",
       "    .dataframe tbody tr th {\n",
       "        vertical-align: top;\n",
       "    }\n",
       "</style>\n",
       "<table border=\"1\" class=\"dataframe\">\n",
       "  <thead>\n",
       "    <tr style=\"text-align: right;\">\n",
       "      <th></th>\n",
       "      <th>ActualHappiness</th>\n",
       "      <th>PredictedHappiness</th>\n",
       "    </tr>\n",
       "  </thead>\n",
       "  <tbody>\n",
       "    <tr>\n",
       "      <th>0</th>\n",
       "      <td>0.0</td>\n",
       "      <td>0.036646</td>\n",
       "    </tr>\n",
       "    <tr>\n",
       "      <th>1</th>\n",
       "      <td>0.0</td>\n",
       "      <td>0.320742</td>\n",
       "    </tr>\n",
       "    <tr>\n",
       "      <th>2</th>\n",
       "      <td>1.0</td>\n",
       "      <td>0.981082</td>\n",
       "    </tr>\n",
       "    <tr>\n",
       "      <th>3</th>\n",
       "      <td>1.0</td>\n",
       "      <td>0.487344</td>\n",
       "    </tr>\n",
       "    <tr>\n",
       "      <th>4</th>\n",
       "      <td>1.0</td>\n",
       "      <td>0.665732</td>\n",
       "    </tr>\n",
       "    <tr>\n",
       "      <th>5</th>\n",
       "      <td>0.0</td>\n",
       "      <td>0.476788</td>\n",
       "    </tr>\n",
       "    <tr>\n",
       "      <th>6</th>\n",
       "      <td>0.0</td>\n",
       "      <td>-0.055179</td>\n",
       "    </tr>\n",
       "    <tr>\n",
       "      <th>7</th>\n",
       "      <td>1.0</td>\n",
       "      <td>1.093609</td>\n",
       "    </tr>\n",
       "    <tr>\n",
       "      <th>8</th>\n",
       "      <td>0.0</td>\n",
       "      <td>0.053434</td>\n",
       "    </tr>\n",
       "    <tr>\n",
       "      <th>9</th>\n",
       "      <td>0.0</td>\n",
       "      <td>0.104186</td>\n",
       "    </tr>\n",
       "  </tbody>\n",
       "</table>\n",
       "</div>"
      ],
      "text/plain": [
       "   ActualHappiness  PredictedHappiness\n",
       "0              0.0            0.036646\n",
       "1              0.0            0.320742\n",
       "2              1.0            0.981082\n",
       "3              1.0            0.487344\n",
       "4              1.0            0.665732\n",
       "5              0.0            0.476788\n",
       "6              0.0           -0.055179\n",
       "7              1.0            1.093609\n",
       "8              0.0            0.053434\n",
       "9              0.0            0.104186"
      ]
     },
     "execution_count": 168,
     "metadata": {},
     "output_type": "execute_result"
    }
   ],
   "source": [
    "predict_df_train = pd.DataFrame({'ActualHappiness': df_train.happiness_class, 'PredictedHappiness': lm.predict(df_train)})\n",
    "predict_df_train.head(10)"
   ]
  },
  {
   "cell_type": "markdown",
   "metadata": {},
   "source": [
    "### Actual Happiness Score minus Predicted Score"
   ]
  },
  {
   "cell_type": "code",
   "execution_count": 169,
   "metadata": {},
   "outputs": [
    {
     "name": "stdout",
     "output_type": "stream",
     "text": [
      "Actual minus Predicted:\n",
      " 0     -0.036646\n",
      "1     -0.320742\n",
      "2      0.018918\n",
      "3      0.512656\n",
      "4      0.334268\n",
      "5     -0.476788\n",
      "6      0.055179\n",
      "7     -0.093609\n",
      "8     -0.053434\n",
      "9     -0.104186\n",
      "10     0.632856\n",
      "11    -0.502436\n",
      "12     0.508729\n",
      "13     0.003944\n",
      "14    -0.235502\n",
      "15    -0.020736\n",
      "16     0.628251\n",
      "17     0.143435\n",
      "18    -0.352984\n",
      "19     0.096523\n",
      "20    -0.315044\n",
      "21    -0.087298\n",
      "22    -0.185864\n",
      "23    -0.136093\n",
      "24    -0.110452\n",
      "25    -0.398386\n",
      "26     0.060803\n",
      "27    -0.195335\n",
      "28     0.230256\n",
      "29    -0.007414\n",
      "         ...   \n",
      "910   -0.096086\n",
      "911    0.310271\n",
      "912   -0.108037\n",
      "913   -0.350294\n",
      "914    0.353674\n",
      "915    0.267051\n",
      "916   -0.036209\n",
      "917   -0.036776\n",
      "918   -0.328240\n",
      "919   -0.266324\n",
      "920    0.074775\n",
      "921   -0.694990\n",
      "922    0.253358\n",
      "923    0.585312\n",
      "924    0.090660\n",
      "925   -0.384983\n",
      "926   -0.508478\n",
      "927   -0.381444\n",
      "928   -0.164294\n",
      "929    0.328997\n",
      "930   -0.135603\n",
      "931   -0.020256\n",
      "932    0.552224\n",
      "933   -0.446043\n",
      "934   -0.359670\n",
      "935    0.599063\n",
      "936    0.499384\n",
      "937   -0.305471\n",
      "938    0.492717\n",
      "939   -0.498192\n",
      "Length: 940, dtype: float64\n",
      "\n",
      "(Actual minus Predicted) squared:\n",
      " 0      0.001343\n",
      "1      0.102876\n",
      "2      0.000358\n",
      "3      0.262817\n",
      "4      0.111735\n",
      "5      0.227327\n",
      "6      0.003045\n",
      "7      0.008763\n",
      "8      0.002855\n",
      "9      0.010855\n",
      "10     0.400507\n",
      "11     0.252442\n",
      "12     0.258805\n",
      "13     0.000016\n",
      "14     0.055461\n",
      "15     0.000430\n",
      "16     0.394699\n",
      "17     0.020573\n",
      "18     0.124598\n",
      "19     0.009317\n",
      "20     0.099253\n",
      "21     0.007621\n",
      "22     0.034545\n",
      "23     0.018521\n",
      "24     0.012200\n",
      "25     0.158712\n",
      "26     0.003697\n",
      "27     0.038156\n",
      "28     0.053018\n",
      "29     0.000055\n",
      "         ...   \n",
      "910    0.009232\n",
      "911    0.096268\n",
      "912    0.011672\n",
      "913    0.122706\n",
      "914    0.125085\n",
      "915    0.071316\n",
      "916    0.001311\n",
      "917    0.001352\n",
      "918    0.107742\n",
      "919    0.070929\n",
      "920    0.005591\n",
      "921    0.483011\n",
      "922    0.064190\n",
      "923    0.342591\n",
      "924    0.008219\n",
      "925    0.148212\n",
      "926    0.258550\n",
      "927    0.145499\n",
      "928    0.026992\n",
      "929    0.108239\n",
      "930    0.018388\n",
      "931    0.000410\n",
      "932    0.304951\n",
      "933    0.198955\n",
      "934    0.129362\n",
      "935    0.358877\n",
      "936    0.249385\n",
      "937    0.093313\n",
      "938    0.242771\n",
      "939    0.248195\n",
      "Length: 940, dtype: float64\n"
     ]
    }
   ],
   "source": [
    "# analyse the value of the actual happiness score minus the predicted happiness score\n",
    "print(\"Actual minus Predicted:\\n\", (df_train.happiness_class - lm.predict(df_train)))\n",
    "print(\"\\n(Actual minus Predicted) squared:\\n\", (df_train.happiness_class - lm.predict(df_train))**2)"
   ]
  },
  {
   "cell_type": "markdown",
   "metadata": {},
   "source": [
    "# This is where we need to place evaluation metrics\n",
    "\n",
    "I have tried to get the evaluation metrics below to work on the linear model but I can't seem to do this. They include the accuracy, confusion matrix and classification report which i have taken from the logistic regression practical. I would appreciate it if someone could have a quick look please as I can't spend anymore time at it without some guidance."
   ]
  },
  {
   "cell_type": "code",
   "execution_count": 170,
   "metadata": {},
   "outputs": [],
   "source": [
    "# # Some more evaluation metrics.\n",
    "# print(\"Accuracy: \", metrics.accuracy_score(df_train['happiness_class'], predictions))\n",
    "# print(\"Confusion matrix: \\n\", metrics.confusion_matrix(df_train['happiness_class'], predictions))\n",
    "# print(\"Classification report:\\n \", metrics.classification_report(df_train['happiness_class'], predictions))"
   ]
  },
  {
   "cell_type": "markdown",
   "metadata": {},
   "source": [
    "### Test on df_test"
   ]
  },
  {
   "cell_type": "code",
   "execution_count": 171,
   "metadata": {},
   "outputs": [
    {
     "data": {
      "text/html": [
       "<div>\n",
       "<style>\n",
       "    .dataframe thead tr:only-child th {\n",
       "        text-align: right;\n",
       "    }\n",
       "\n",
       "    .dataframe thead th {\n",
       "        text-align: left;\n",
       "    }\n",
       "\n",
       "    .dataframe tbody tr th {\n",
       "        vertical-align: top;\n",
       "    }\n",
       "</style>\n",
       "<table border=\"1\" class=\"dataframe\">\n",
       "  <thead>\n",
       "    <tr style=\"text-align: right;\">\n",
       "      <th></th>\n",
       "      <th>ActualHappiness</th>\n",
       "      <th>PredictedHappiness</th>\n",
       "    </tr>\n",
       "  </thead>\n",
       "  <tbody>\n",
       "    <tr>\n",
       "      <th>940</th>\n",
       "      <td>1.0</td>\n",
       "      <td>0.963398</td>\n",
       "    </tr>\n",
       "    <tr>\n",
       "      <th>941</th>\n",
       "      <td>0.0</td>\n",
       "      <td>0.484414</td>\n",
       "    </tr>\n",
       "    <tr>\n",
       "      <th>942</th>\n",
       "      <td>1.0</td>\n",
       "      <td>0.826590</td>\n",
       "    </tr>\n",
       "    <tr>\n",
       "      <th>943</th>\n",
       "      <td>0.0</td>\n",
       "      <td>0.063579</td>\n",
       "    </tr>\n",
       "    <tr>\n",
       "      <th>944</th>\n",
       "      <td>1.0</td>\n",
       "      <td>0.842991</td>\n",
       "    </tr>\n",
       "    <tr>\n",
       "      <th>945</th>\n",
       "      <td>0.0</td>\n",
       "      <td>0.744982</td>\n",
       "    </tr>\n",
       "    <tr>\n",
       "      <th>946</th>\n",
       "      <td>1.0</td>\n",
       "      <td>0.848885</td>\n",
       "    </tr>\n",
       "    <tr>\n",
       "      <th>947</th>\n",
       "      <td>1.0</td>\n",
       "      <td>0.884778</td>\n",
       "    </tr>\n",
       "    <tr>\n",
       "      <th>948</th>\n",
       "      <td>0.0</td>\n",
       "      <td>0.834724</td>\n",
       "    </tr>\n",
       "    <tr>\n",
       "      <th>949</th>\n",
       "      <td>1.0</td>\n",
       "      <td>0.122037</td>\n",
       "    </tr>\n",
       "  </tbody>\n",
       "</table>\n",
       "</div>"
      ],
      "text/plain": [
       "     ActualHappiness  PredictedHappiness\n",
       "940              1.0            0.963398\n",
       "941              0.0            0.484414\n",
       "942              1.0            0.826590\n",
       "943              0.0            0.063579\n",
       "944              1.0            0.842991\n",
       "945              0.0            0.744982\n",
       "946              1.0            0.848885\n",
       "947              1.0            0.884778\n",
       "948              0.0            0.834724\n",
       "949              1.0            0.122037"
      ]
     },
     "execution_count": 171,
     "metadata": {},
     "output_type": "execute_result"
    }
   ],
   "source": [
    "predict_df_test = pd.DataFrame({'ActualHappiness': df_test.happiness_class, 'PredictedHappiness': lm.predict(df_test)})\n",
    "predict_df_test.head(10)"
   ]
  },
  {
   "cell_type": "markdown",
   "metadata": {},
   "source": [
    "# Perform evaluation metrics on df_test data set results"
   ]
  },
  {
   "cell_type": "code",
   "execution_count": 173,
   "metadata": {
    "collapsed": true
   },
   "outputs": [],
   "source": [
    "# # Some more evaluation metrics.\n",
    "# print(\"Accuracy: \", metrics.accuracy_score(df_train['happiness_class'], predictions))\n",
    "# print(\"Confusion matrix: \\n\", metrics.confusion_matrix(df_train['happiness_class'], predictions))\n",
    "# print(\"Classification report:\\n \", metrics.classification_report(df_train['happiness_class'], predictions))"
   ]
  },
  {
   "cell_type": "markdown",
   "metadata": {},
   "source": [
    "### Perfrom normalisation of the features\n",
    "\n",
    "This process will give each feature a relative value and help to compare the coef of different features."
   ]
  },
  {
   "cell_type": "code",
   "execution_count": 174,
   "metadata": {
    "collapsed": true
   },
   "outputs": [],
   "source": [
    "df_feat = df_train[['happiness_class', 'social_support', 'healthy_life_exp_birth', 'pos_affect', 'dem_quality', 'delivery_quality', 'life_exp_60', 'infant_mortality']]"
   ]
  },
  {
   "cell_type": "code",
   "execution_count": 175,
   "metadata": {},
   "outputs": [
    {
     "data": {
      "text/plain": [
       "happiness_class            0.000000\n",
       "social_support             0.290934\n",
       "healthy_life_exp_birth    39.351990\n",
       "pos_affect                 0.362498\n",
       "dem_quality               -2.315310\n",
       "delivery_quality          -2.144974\n",
       "life_exp_60               12.600000\n",
       "infant_mortality           1.700000\n",
       "dtype: float64"
      ]
     },
     "execution_count": 175,
     "metadata": {},
     "output_type": "execute_result"
    }
   ],
   "source": [
    "df_feat.min()"
   ]
  },
  {
   "cell_type": "code",
   "execution_count": 176,
   "metadata": {},
   "outputs": [
    {
     "data": {
      "text/plain": [
       "happiness_class             1.000000\n",
       "social_support              0.987343\n",
       "healthy_life_exp_birth     76.268028\n",
       "pos_affect                  0.943621\n",
       "dem_quality                 1.540097\n",
       "delivery_quality            2.121312\n",
       "life_exp_60                26.000000\n",
       "infant_mortality          116.200000\n",
       "dtype: float64"
      ]
     },
     "execution_count": 176,
     "metadata": {},
     "output_type": "execute_result"
    }
   ],
   "source": [
    "df_feat.max()"
   ]
  },
  {
   "cell_type": "code",
   "execution_count": 177,
   "metadata": {},
   "outputs": [
    {
     "data": {
      "text/html": [
       "<div>\n",
       "<style>\n",
       "    .dataframe thead tr:only-child th {\n",
       "        text-align: right;\n",
       "    }\n",
       "\n",
       "    .dataframe thead th {\n",
       "        text-align: left;\n",
       "    }\n",
       "\n",
       "    .dataframe tbody tr th {\n",
       "        vertical-align: top;\n",
       "    }\n",
       "</style>\n",
       "<table border=\"1\" class=\"dataframe\">\n",
       "  <thead>\n",
       "    <tr style=\"text-align: right;\">\n",
       "      <th></th>\n",
       "      <th>happiness_class</th>\n",
       "      <th>social_support</th>\n",
       "      <th>healthy_life_exp_birth</th>\n",
       "      <th>pos_affect</th>\n",
       "      <th>dem_quality</th>\n",
       "      <th>delivery_quality</th>\n",
       "      <th>life_exp_60</th>\n",
       "      <th>infant_mortality</th>\n",
       "    </tr>\n",
       "  </thead>\n",
       "  <tbody>\n",
       "    <tr>\n",
       "      <th>0</th>\n",
       "      <td>0.0</td>\n",
       "      <td>0.567196</td>\n",
       "      <td>0.392094</td>\n",
       "      <td>0.400530</td>\n",
       "      <td>0.410205</td>\n",
       "      <td>0.232491</td>\n",
       "      <td>0.527559</td>\n",
       "      <td>0.196986</td>\n",
       "    </tr>\n",
       "    <tr>\n",
       "      <th>1</th>\n",
       "      <td>0.0</td>\n",
       "      <td>0.936953</td>\n",
       "      <td>0.604993</td>\n",
       "      <td>0.456003</td>\n",
       "      <td>0.734548</td>\n",
       "      <td>0.413381</td>\n",
       "      <td>0.313433</td>\n",
       "      <td>0.132751</td>\n",
       "    </tr>\n",
       "    <tr>\n",
       "      <th>2</th>\n",
       "      <td>1.0</td>\n",
       "      <td>0.874267</td>\n",
       "      <td>0.793401</td>\n",
       "      <td>0.883992</td>\n",
       "      <td>0.807116</td>\n",
       "      <td>0.624009</td>\n",
       "      <td>0.828358</td>\n",
       "      <td>0.062882</td>\n",
       "    </tr>\n",
       "    <tr>\n",
       "      <th>3</th>\n",
       "      <td>1.0</td>\n",
       "      <td>0.747127</td>\n",
       "      <td>0.745072</td>\n",
       "      <td>0.638820</td>\n",
       "      <td>0.680276</td>\n",
       "      <td>0.524014</td>\n",
       "      <td>0.529851</td>\n",
       "      <td>0.061790</td>\n",
       "    </tr>\n",
       "    <tr>\n",
       "      <th>4</th>\n",
       "      <td>1.0</td>\n",
       "      <td>0.842868</td>\n",
       "      <td>0.822875</td>\n",
       "      <td>0.543619</td>\n",
       "      <td>0.862072</td>\n",
       "      <td>0.710420</td>\n",
       "      <td>0.527559</td>\n",
       "      <td>0.196986</td>\n",
       "    </tr>\n",
       "    <tr>\n",
       "      <th>5</th>\n",
       "      <td>0.0</td>\n",
       "      <td>0.868397</td>\n",
       "      <td>0.702959</td>\n",
       "      <td>0.504745</td>\n",
       "      <td>0.805441</td>\n",
       "      <td>0.668555</td>\n",
       "      <td>0.522388</td>\n",
       "      <td>0.029694</td>\n",
       "    </tr>\n",
       "    <tr>\n",
       "      <th>6</th>\n",
       "      <td>0.0</td>\n",
       "      <td>0.650238</td>\n",
       "      <td>0.295347</td>\n",
       "      <td>0.313795</td>\n",
       "      <td>0.486657</td>\n",
       "      <td>0.405585</td>\n",
       "      <td>0.201493</td>\n",
       "      <td>0.515284</td>\n",
       "    </tr>\n",
       "    <tr>\n",
       "      <th>7</th>\n",
       "      <td>1.0</td>\n",
       "      <td>0.930162</td>\n",
       "      <td>0.853349</td>\n",
       "      <td>0.908107</td>\n",
       "      <td>0.918191</td>\n",
       "      <td>0.927821</td>\n",
       "      <td>0.843284</td>\n",
       "      <td>0.028821</td>\n",
       "    </tr>\n",
       "    <tr>\n",
       "      <th>8</th>\n",
       "      <td>0.0</td>\n",
       "      <td>0.464510</td>\n",
       "      <td>0.698775</td>\n",
       "      <td>0.272604</td>\n",
       "      <td>0.484728</td>\n",
       "      <td>0.478622</td>\n",
       "      <td>0.507463</td>\n",
       "      <td>0.103930</td>\n",
       "    </tr>\n",
       "    <tr>\n",
       "      <th>9</th>\n",
       "      <td>0.0</td>\n",
       "      <td>0.612352</td>\n",
       "      <td>0.718619</td>\n",
       "      <td>0.100606</td>\n",
       "      <td>0.480294</td>\n",
       "      <td>0.479184</td>\n",
       "      <td>0.511727</td>\n",
       "      <td>0.102838</td>\n",
       "    </tr>\n",
       "  </tbody>\n",
       "</table>\n",
       "</div>"
      ],
      "text/plain": [
       "   happiness_class  social_support  healthy_life_exp_birth  pos_affect  \\\n",
       "0              0.0        0.567196                0.392094    0.400530   \n",
       "1              0.0        0.936953                0.604993    0.456003   \n",
       "2              1.0        0.874267                0.793401    0.883992   \n",
       "3              1.0        0.747127                0.745072    0.638820   \n",
       "4              1.0        0.842868                0.822875    0.543619   \n",
       "5              0.0        0.868397                0.702959    0.504745   \n",
       "6              0.0        0.650238                0.295347    0.313795   \n",
       "7              1.0        0.930162                0.853349    0.908107   \n",
       "8              0.0        0.464510                0.698775    0.272604   \n",
       "9              0.0        0.612352                0.718619    0.100606   \n",
       "\n",
       "   dem_quality  delivery_quality  life_exp_60  infant_mortality  \n",
       "0     0.410205          0.232491     0.527559          0.196986  \n",
       "1     0.734548          0.413381     0.313433          0.132751  \n",
       "2     0.807116          0.624009     0.828358          0.062882  \n",
       "3     0.680276          0.524014     0.529851          0.061790  \n",
       "4     0.862072          0.710420     0.527559          0.196986  \n",
       "5     0.805441          0.668555     0.522388          0.029694  \n",
       "6     0.486657          0.405585     0.201493          0.515284  \n",
       "7     0.918191          0.927821     0.843284          0.028821  \n",
       "8     0.484728          0.478622     0.507463          0.103930  \n",
       "9     0.480294          0.479184     0.511727          0.102838  "
      ]
     },
     "execution_count": 177,
     "metadata": {},
     "output_type": "execute_result"
    }
   ],
   "source": [
    "# range normalise all columns\n",
    "df_norm = (df_feat - df_feat.min()) / (df_feat.max() - df_feat.min())\n",
    "df_norm.head(10)"
   ]
  },
  {
   "cell_type": "markdown",
   "metadata": {},
   "source": [
    "### Train Linear Model on normalised columns\n",
    "\n",
    "The values of each column have been normalised so we can now train a model on them and compare the coef with one another."
   ]
  },
  {
   "cell_type": "code",
   "execution_count": 180,
   "metadata": {
    "scrolled": true
   },
   "outputs": [
    {
     "name": "stdout",
     "output_type": "stream",
     "text": [
      "Intercept                -1.428766\n",
      "social_support            0.798387\n",
      "healthy_life_exp_birth    0.694992\n",
      "pos_affect                0.486611\n",
      "dem_quality               0.012330\n",
      "delivery_quality          0.071986\n",
      "life_exp_60               0.770262\n",
      "infant_mortality          0.594016\n",
      "dtype: float64\n"
     ]
    }
   ],
   "source": [
    "lm_df_norm = sm.ols(formula=\"happiness_class ~ social_support + healthy_life_exp_birth + pos_affect + dem_quality + delivery_quality + life_exp_60 + infant_mortality\", data=df_norm).fit()\n",
    "print(lm_df_norm.params)"
   ]
  },
  {
   "cell_type": "code",
   "execution_count": 181,
   "metadata": {},
   "outputs": [
    {
     "name": "stdout",
     "output_type": "stream",
     "text": [
      "                            OLS Regression Results                            \n",
      "==============================================================================\n",
      "Dep. Variable:        happiness_class   R-squared:                       0.559\n",
      "Model:                            OLS   Adj. R-squared:                  0.555\n",
      "Method:                 Least Squares   F-statistic:                     168.4\n",
      "Date:                Sun, 29 Apr 2018   Prob (F-statistic):          1.44e-160\n",
      "Time:                        15:09:38   Log-Likelihood:                -293.25\n",
      "No. Observations:                 939   AIC:                             602.5\n",
      "Df Residuals:                     931   BIC:                             641.3\n",
      "Df Model:                           7                                         \n",
      "Covariance Type:            nonrobust                                         \n",
      "==========================================================================================\n",
      "                             coef    std err          t      P>|t|      [0.025      0.975]\n",
      "------------------------------------------------------------------------------------------\n",
      "Intercept                 -1.4288      0.109    -13.115      0.000      -1.643      -1.215\n",
      "social_support             0.7984      0.087      9.206      0.000       0.628       0.969\n",
      "healthy_life_exp_birth     0.6950      0.132      5.269      0.000       0.436       0.954\n",
      "pos_affect                 0.4866      0.068      7.135      0.000       0.353       0.620\n",
      "dem_quality                0.0123      0.098      0.126      0.900      -0.180       0.205\n",
      "delivery_quality           0.0720      0.110      0.654      0.513      -0.144       0.288\n",
      "life_exp_60                0.7703      0.103      7.485      0.000       0.568       0.972\n",
      "infant_mortality           0.5940      0.130      4.570      0.000       0.339       0.849\n",
      "==============================================================================\n",
      "Omnibus:                        7.157   Durbin-Watson:                   1.893\n",
      "Prob(Omnibus):                  0.028   Jarque-Bera (JB):                5.614\n",
      "Skew:                           0.087   Prob(JB):                       0.0604\n",
      "Kurtosis:                       2.664   Cond. No.                         32.6\n",
      "==============================================================================\n",
      "\n",
      "Warnings:\n",
      "[1] Standard Errors assume that the covariance matrix of the errors is correctly specified.\n"
     ]
    }
   ],
   "source": [
    "print(lm_df_norm.summary())"
   ]
  },
  {
   "cell_type": "markdown",
   "metadata": {},
   "source": [
    "### Standardisation of features"
   ]
  },
  {
   "cell_type": "code",
   "execution_count": 183,
   "metadata": {},
   "outputs": [
    {
     "data": {
      "text/html": [
       "<div>\n",
       "<style>\n",
       "    .dataframe thead tr:only-child th {\n",
       "        text-align: right;\n",
       "    }\n",
       "\n",
       "    .dataframe thead th {\n",
       "        text-align: left;\n",
       "    }\n",
       "\n",
       "    .dataframe tbody tr th {\n",
       "        vertical-align: top;\n",
       "    }\n",
       "</style>\n",
       "<table border=\"1\" class=\"dataframe\">\n",
       "  <thead>\n",
       "    <tr style=\"text-align: right;\">\n",
       "      <th></th>\n",
       "      <th>happiness_class</th>\n",
       "      <th>social_support</th>\n",
       "      <th>healthy_life_exp_birth</th>\n",
       "      <th>pos_affect</th>\n",
       "      <th>dem_quality</th>\n",
       "      <th>delivery_quality</th>\n",
       "      <th>life_exp_60</th>\n",
       "      <th>infant_mortality</th>\n",
       "    </tr>\n",
       "  </thead>\n",
       "  <tbody>\n",
       "    <tr>\n",
       "      <th>0</th>\n",
       "      <td>-0.909897</td>\n",
       "      <td>-0.992990</td>\n",
       "      <td>-1.076315</td>\n",
       "      <td>-1.034022</td>\n",
       "      <td>-0.663670</td>\n",
       "      <td>-1.145520</td>\n",
       "      <td>-0.002097</td>\n",
       "      <td>-0.024071</td>\n",
       "    </tr>\n",
       "    <tr>\n",
       "      <th>1</th>\n",
       "      <td>-0.909897</td>\n",
       "      <td>1.131586</td>\n",
       "      <td>-0.077610</td>\n",
       "      <td>-0.738956</td>\n",
       "      <td>0.770861</td>\n",
       "      <td>-0.363057</td>\n",
       "      <td>-1.020988</td>\n",
       "      <td>-0.362276</td>\n",
       "    </tr>\n",
       "    <tr>\n",
       "      <th>2</th>\n",
       "      <td>1.097857</td>\n",
       "      <td>0.771401</td>\n",
       "      <td>0.806209</td>\n",
       "      <td>1.537541</td>\n",
       "      <td>1.091819</td>\n",
       "      <td>0.548045</td>\n",
       "      <td>1.429212</td>\n",
       "      <td>-0.730145</td>\n",
       "    </tr>\n",
       "    <tr>\n",
       "      <th>3</th>\n",
       "      <td>1.097857</td>\n",
       "      <td>0.040870</td>\n",
       "      <td>0.579499</td>\n",
       "      <td>0.233454</td>\n",
       "      <td>0.530820</td>\n",
       "      <td>0.115503</td>\n",
       "      <td>0.008806</td>\n",
       "      <td>-0.735893</td>\n",
       "    </tr>\n",
       "    <tr>\n",
       "      <th>4</th>\n",
       "      <td>1.097857</td>\n",
       "      <td>0.590987</td>\n",
       "      <td>0.944471</td>\n",
       "      <td>-0.272925</td>\n",
       "      <td>1.334883</td>\n",
       "      <td>0.921832</td>\n",
       "      <td>-0.002097</td>\n",
       "      <td>-0.024071</td>\n",
       "    </tr>\n",
       "    <tr>\n",
       "      <th>5</th>\n",
       "      <td>-0.909897</td>\n",
       "      <td>0.737673</td>\n",
       "      <td>0.381947</td>\n",
       "      <td>-0.479697</td>\n",
       "      <td>1.084411</td>\n",
       "      <td>0.740738</td>\n",
       "      <td>-0.026704</td>\n",
       "      <td>-0.904883</td>\n",
       "    </tr>\n",
       "    <tr>\n",
       "      <th>6</th>\n",
       "      <td>-0.909897</td>\n",
       "      <td>-0.515842</td>\n",
       "      <td>-1.530154</td>\n",
       "      <td>-1.495367</td>\n",
       "      <td>-0.325534</td>\n",
       "      <td>-0.396779</td>\n",
       "      <td>-1.553640</td>\n",
       "      <td>1.651809</td>\n",
       "    </tr>\n",
       "    <tr>\n",
       "      <th>7</th>\n",
       "      <td>1.097857</td>\n",
       "      <td>1.092566</td>\n",
       "      <td>1.087426</td>\n",
       "      <td>1.665811</td>\n",
       "      <td>1.583089</td>\n",
       "      <td>1.862228</td>\n",
       "      <td>1.500232</td>\n",
       "      <td>-0.909481</td>\n",
       "    </tr>\n",
       "    <tr>\n",
       "      <th>8</th>\n",
       "      <td>-0.909897</td>\n",
       "      <td>-1.583014</td>\n",
       "      <td>0.362321</td>\n",
       "      <td>-1.714466</td>\n",
       "      <td>-0.334062</td>\n",
       "      <td>-0.080847</td>\n",
       "      <td>-0.097724</td>\n",
       "      <td>-0.514022</td>\n",
       "    </tr>\n",
       "    <tr>\n",
       "      <th>9</th>\n",
       "      <td>-0.909897</td>\n",
       "      <td>-0.733530</td>\n",
       "      <td>0.455410</td>\n",
       "      <td>-2.629335</td>\n",
       "      <td>-0.353673</td>\n",
       "      <td>-0.078416</td>\n",
       "      <td>-0.077433</td>\n",
       "      <td>-0.519770</td>\n",
       "    </tr>\n",
       "  </tbody>\n",
       "</table>\n",
       "</div>"
      ],
      "text/plain": [
       "   happiness_class  social_support  healthy_life_exp_birth  pos_affect  \\\n",
       "0        -0.909897       -0.992990               -1.076315   -1.034022   \n",
       "1        -0.909897        1.131586               -0.077610   -0.738956   \n",
       "2         1.097857        0.771401                0.806209    1.537541   \n",
       "3         1.097857        0.040870                0.579499    0.233454   \n",
       "4         1.097857        0.590987                0.944471   -0.272925   \n",
       "5        -0.909897        0.737673                0.381947   -0.479697   \n",
       "6        -0.909897       -0.515842               -1.530154   -1.495367   \n",
       "7         1.097857        1.092566                1.087426    1.665811   \n",
       "8        -0.909897       -1.583014                0.362321   -1.714466   \n",
       "9        -0.909897       -0.733530                0.455410   -2.629335   \n",
       "\n",
       "   dem_quality  delivery_quality  life_exp_60  infant_mortality  \n",
       "0    -0.663670         -1.145520    -0.002097         -0.024071  \n",
       "1     0.770861         -0.363057    -1.020988         -0.362276  \n",
       "2     1.091819          0.548045     1.429212         -0.730145  \n",
       "3     0.530820          0.115503     0.008806         -0.735893  \n",
       "4     1.334883          0.921832    -0.002097         -0.024071  \n",
       "5     1.084411          0.740738    -0.026704         -0.904883  \n",
       "6    -0.325534         -0.396779    -1.553640          1.651809  \n",
       "7     1.583089          1.862228     1.500232         -0.909481  \n",
       "8    -0.334062         -0.080847    -0.097724         -0.514022  \n",
       "9    -0.353673         -0.078416    -0.077433         -0.519770  "
      ]
     },
     "execution_count": 183,
     "metadata": {},
     "output_type": "execute_result"
    }
   ],
   "source": [
    "df_st = (df_feat - df_feat.mean()) / df_feat.std()\n",
    "df_st.head(10)"
   ]
  },
  {
   "cell_type": "code",
   "execution_count": 184,
   "metadata": {},
   "outputs": [
    {
     "name": "stdout",
     "output_type": "stream",
     "text": [
      "                            OLS Regression Results                            \n",
      "==============================================================================\n",
      "Dep. Variable:        happiness_class   R-squared:                       0.559\n",
      "Model:                            OLS   Adj. R-squared:                  0.555\n",
      "Method:                 Least Squares   F-statistic:                     168.4\n",
      "Date:                Sun, 29 Apr 2018   Prob (F-statistic):          1.44e-160\n",
      "Time:                        15:09:58   Log-Likelihood:                -947.75\n",
      "No. Observations:                 939   AIC:                             1911.\n",
      "Df Residuals:                     931   BIC:                             1950.\n",
      "Df Model:                           7                                         \n",
      "Covariance Type:            nonrobust                                         \n",
      "==========================================================================================\n",
      "                             coef    std err          t      P>|t|      [0.025      0.975]\n",
      "------------------------------------------------------------------------------------------\n",
      "Intercept                 -0.0011      0.022     -0.050      0.960      -0.044       0.042\n",
      "social_support             0.2790      0.030      9.206      0.000       0.220       0.338\n",
      "healthy_life_exp_birth     0.2975      0.056      5.269      0.000       0.187       0.408\n",
      "pos_affect                 0.1837      0.026      7.135      0.000       0.133       0.234\n",
      "dem_quality                0.0056      0.044      0.126      0.900      -0.082       0.093\n",
      "delivery_quality           0.0334      0.051      0.654      0.513      -0.067       0.134\n",
      "life_exp_60                0.3250      0.043      7.485      0.000       0.240       0.410\n",
      "infant_mortality           0.2265      0.050      4.570      0.000       0.129       0.324\n",
      "==============================================================================\n",
      "Omnibus:                        7.157   Durbin-Watson:                   1.893\n",
      "Prob(Omnibus):                  0.028   Jarque-Bera (JB):                5.614\n",
      "Skew:                           0.087   Prob(JB):                       0.0604\n",
      "Kurtosis:                       2.664   Cond. No.                         7.09\n",
      "==============================================================================\n",
      "\n",
      "Warnings:\n",
      "[1] Standard Errors assume that the covariance matrix of the errors is correctly specified.\n"
     ]
    }
   ],
   "source": [
    "lm_df_st = sm.ols(formula=\"happiness_class ~ social_support + healthy_life_exp_birth + pos_affect + dem_quality + delivery_quality + life_exp_60 + infant_mortality\", data=df_st).fit()\n",
    "print(lm_df_st.summary())"
   ]
  },
  {
   "cell_type": "code",
   "execution_count": null,
   "metadata": {
    "collapsed": true
   },
   "outputs": [],
   "source": []
  },
  {
   "cell_type": "code",
   "execution_count": null,
   "metadata": {
    "collapsed": true
   },
   "outputs": [],
   "source": []
  },
  {
   "cell_type": "code",
   "execution_count": null,
   "metadata": {
    "collapsed": true
   },
   "outputs": [],
   "source": []
  }
 ],
 "metadata": {
  "kernelspec": {
   "display_name": "Python 3",
   "language": "python",
   "name": "python3"
  },
  "language_info": {
   "codemirror_mode": {
    "name": "ipython",
    "version": 3
   },
   "file_extension": ".py",
   "mimetype": "text/x-python",
   "name": "python",
   "nbconvert_exporter": "python",
   "pygments_lexer": "ipython3",
   "version": "3.6.3"
  }
 },
 "nbformat": 4,
 "nbformat_minor": 2
}
